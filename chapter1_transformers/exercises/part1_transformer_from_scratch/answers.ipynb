{
 "cells": [
  {
   "cell_type": "code",
   "execution_count": 1,
   "metadata": {},
   "outputs": [
    {
     "name": "stderr",
     "output_type": "stream",
     "text": [
      "/home/shreyas/miniconda3/envs/arena/lib/python3.8/site-packages/accelerate/utils/imports.py:178: UserWarning: `ACCELERATE_DISABLE_RICH` is deprecated and will be removed in v0.22.0 and deactivated by default. Please use `ACCELERATE_ENABLE_RICH` if you wish to use `rich`.\n",
      "  warnings.warn(\n",
      "/home/shreyas/miniconda3/envs/arena/lib/python3.8/site-packages/torchvision/io/image.py:13: UserWarning: Failed to load image Python extension: '/home/shreyas/miniconda3/envs/arena/lib/python3.8/site-packages/torchvision/image.so: undefined symbol: _ZN5torch3jit17parseSchemaOrNameERKNSt7__cxx1112basic_stringIcSt11char_traitsIcESaIcEEE'If you don't plan on using image functionality from `torchvision.io`, you can ignore this warning. Otherwise, there might be something wrong with your environment. Did you have `libjpeg` or `libpng` installed before building `torchvision` from source?\n",
      "  warn(\n",
      "Using pad_token, but it is not set yet.\n"
     ]
    },
    {
     "name": "stdout",
     "output_type": "stream",
     "text": [
      "Loaded pretrained model gpt2-small into HookedTransformer\n"
     ]
    }
   ],
   "source": [
    "import os; os.environ['ACCELERATE_DISABLE_RICH'] = \"1\"\n",
    "# os.environ['CUDA_LAUNCH_BLOCKING'] = \"1\"\n",
    "import sys\n",
    "import einops\n",
    "from dataclasses import dataclass\n",
    "from transformer_lens import HookedTransformer\n",
    "from transformer_lens.utils import gelu_new, tokenize_and_concatenate\n",
    "import torch as t\n",
    "from torch import Tensor\n",
    "import torch.nn as nn\n",
    "import numpy as np\n",
    "import math\n",
    "from tqdm.notebook import tqdm\n",
    "from typing import Tuple, List, Optional, Dict\n",
    "from jaxtyping import Float, Int\n",
    "from transformers.models.gpt2.tokenization_gpt2_fast import GPT2TokenizerFast\n",
    "from collections import defaultdict\n",
    "from rich.table import Table\n",
    "from rich import print as rprint\n",
    "import datasets\n",
    "from torch.utils.data import DataLoader\n",
    "import pytorch_lightning as pl\n",
    "from pytorch_lightning.loggers import WandbLogger\n",
    "import wandb\n",
    "from pathlib import Path\n",
    "import webbrowser\n",
    "\n",
    "# Make sure exercises are in the path\n",
    "chapter = r\"chapter1_transformers\"\n",
    "exercises_dir = Path(f\"{os.getcwd().split(chapter)[0]}/{chapter}/exercises\").resolve()\n",
    "section_dir = (exercises_dir / \"part1_transformer_from_scratch\").resolve()\n",
    "if str(exercises_dir) not in sys.path: sys.path.append(str(exercises_dir))\n",
    "\n",
    "from plotly_utils import imshow\n",
    "# import part1_transformer_from_scratch.solutions as solutions\n",
    "\n",
    "device = t.device(\"cuda\" if t.cuda.is_available() else \"cpu\")\n",
    "\n",
    "MAIN = __name__ == '__main__'\n",
    "\n",
    "reference_gpt2 = HookedTransformer.from_pretrained(\"gpt2-small\", fold_ln=False, center_unembed=False, center_writing_weights=False)"
   ]
  },
  {
   "cell_type": "code",
   "execution_count": 2,
   "metadata": {},
   "outputs": [
    {
     "data": {
      "text/plain": [
       "device(type='cuda')"
      ]
     },
     "execution_count": 2,
     "metadata": {},
     "output_type": "execute_result"
    }
   ],
   "source": [
    "device"
   ]
  },
  {
   "cell_type": "code",
   "execution_count": 3,
   "metadata": {},
   "outputs": [
    {
     "name": "stdout",
     "output_type": "stream",
     "text": [
      "[('!', 0), ('\"', 1), ('#', 2), ('$', 3), ('%', 4), ('&', 5), (\"'\", 6), ('(', 7), (')', 8), ('*', 9), ('+', 10), (',', 11), ('-', 12), ('.', 13), ('/', 14), ('0', 15), ('1', 16), ('2', 17), ('3', 18), ('4', 19)]\n",
      "\n",
      "[('ľ', 250), ('Ŀ', 251), ('ŀ', 252), ('Ł', 253), ('ł', 254), ('Ń', 255), ('Ġt', 256), ('Ġa', 257), ('he', 258), ('in', 259), ('re', 260), ('on', 261), ('Ġthe', 262), ('er', 263), ('Ġs', 264), ('at', 265), ('Ġw', 266), ('Ġo', 267), ('en', 268), ('Ġc', 269)]\n",
      "\n",
      "[('Ġprodu', 990), ('Ġstill', 991), ('led', 992), ('ah', 993), ('Ġhere', 994), ('Ġworld', 995), ('Ġthough', 996), ('Ġnum', 997), ('arch', 998), ('imes', 999), ('ale', 1000), ('ĠSe', 1001), ('ĠIf', 1002), ('//', 1003), ('ĠLe', 1004), ('Ġret', 1005), ('Ġref', 1006), ('Ġtrans', 1007), ('ner', 1008), ('ution', 1009)]\n",
      "\n"
     ]
    }
   ],
   "source": [
    "sorted_vocab = sorted(list(reference_gpt2.tokenizer.vocab.items()), key=lambda n: n[1])\n",
    "print(sorted_vocab[:20])\n",
    "print()\n",
    "print(sorted_vocab[250:270])\n",
    "print()\n",
    "print(sorted_vocab[990:1010])\n",
    "print()"
   ]
  },
  {
   "cell_type": "code",
   "execution_count": 4,
   "metadata": {},
   "outputs": [
    {
     "name": "stdout",
     "output_type": "stream",
     "text": [
      "['<|endoftext|>', 'R', 'alph']\n",
      "['<|endoftext|>', ' Ralph']\n",
      "['<|endoftext|>', ' r', 'alph']\n",
      "['<|endoftext|>', 'ral', 'ph']\n"
     ]
    }
   ],
   "source": [
    "print(reference_gpt2.to_str_tokens(\"Ralph\"))\n",
    "print(reference_gpt2.to_str_tokens(\" Ralph\"))\n",
    "print(reference_gpt2.to_str_tokens(\" ralph\"))\n",
    "print(reference_gpt2.to_str_tokens(\"ralph\"))"
   ]
  },
  {
   "cell_type": "code",
   "execution_count": 5,
   "metadata": {},
   "outputs": [
    {
     "name": "stdout",
     "output_type": "stream",
     "text": [
      "['<|endoftext|>', '568', '73', '+', '318', '46', '23', '=', '123', '45', '67', '89', '-', '1', '000000', '000']\n"
     ]
    }
   ],
   "source": [
    "print(reference_gpt2.to_str_tokens(\"56873+3184623=123456789-1000000000\"))"
   ]
  },
  {
   "cell_type": "code",
   "execution_count": 6,
   "metadata": {},
   "outputs": [
    {
     "name": "stdout",
     "output_type": "stream",
     "text": [
      "tensor([[50256,    40,   716,   281,  4998,  1960,   382, 19741,    11,   875,\n",
      "         12342,    12,  8807,    11,   402, 11571,    12,    17,  3918, 47385,\n",
      "            13,  1881,  1110,   314,   481,  7074,  1692,  1241,  4430,   290,\n",
      "          1011,   625,   262,   995,     0]], device='cuda:0')\n",
      "torch.Size([1, 35])\n",
      "['<|endoftext|>', 'I', ' am', ' an', ' amazing', ' aut', 'ore', 'gressive', ',', ' dec', 'oder', '-', 'only', ',', ' G', 'PT', '-', '2', ' style', ' transformer', '.', ' One', ' day', ' I', ' will', ' exceed', ' human', ' level', ' intelligence', ' and', ' take', ' over', ' the', ' world', '!']\n"
     ]
    }
   ],
   "source": [
    "reference_text = \"I am an amazing autoregressive, decoder-only, GPT-2 style transformer. One day I will exceed human level intelligence and take over the world!\"\n",
    "tokens = reference_gpt2.to_tokens(reference_text).to(device)\n",
    "print(tokens)\n",
    "print(tokens.shape)\n",
    "print(reference_gpt2.to_str_tokens(tokens))"
   ]
  },
  {
   "cell_type": "code",
   "execution_count": 7,
   "metadata": {},
   "outputs": [
    {
     "name": "stdout",
     "output_type": "stream",
     "text": [
      "torch.Size([1, 35, 50257])\n"
     ]
    }
   ],
   "source": [
    "logits, cache = reference_gpt2.run_with_cache(tokens)\n",
    "print(logits.shape)"
   ]
  },
  {
   "cell_type": "code",
   "execution_count": 8,
   "metadata": {},
   "outputs": [
    {
     "name": "stdout",
     "output_type": "stream",
     "text": [
      "torch.Size([1, 35, 50257])\n"
     ]
    }
   ],
   "source": [
    "probs = logits.softmax(dim=-1)\n",
    "print(probs.shape)"
   ]
  },
  {
   "cell_type": "code",
   "execution_count": 9,
   "metadata": {},
   "outputs": [
    {
     "name": "stdout",
     "output_type": "stream",
     "text": [
      "[('<|endoftext|>', '\\n'), ('I', \"'m\"), (' am', ' a'), (' an', ' avid'), (' amazing', ' person'), (' aut', 'od'), ('ore', 'sp'), ('gressive', '.'), (',', ' and'), (' dec', 'ently'), ('oder', ','), ('-', 'driven'), ('only', ' programmer'), (',', ' and'), (' G', 'IM'), ('PT', '-'), ('-', 'only'), ('2', '.'), (' style', ','), (' transformer', '.'), ('.', ' I'), (' One', ' of'), (' day', ' I'), (' I', ' will'), (' will', ' be'), (' exceed', ' my'), (' human', 'ly'), (' level', ' of'), (' intelligence', ' and'), (' and', ' I'), (' take', ' over'), (' over', ' the'), (' the', ' world'), (' world', '.'), ('!', ' I')]\n"
     ]
    }
   ],
   "source": [
    "most_likely_next_tokens = reference_gpt2.tokenizer.batch_decode(logits.argmax(dim=-1)[0])\n",
    "\n",
    "print(list(zip(reference_gpt2.to_str_tokens(tokens), most_likely_next_tokens)))"
   ]
  },
  {
   "cell_type": "code",
   "execution_count": 10,
   "metadata": {},
   "outputs": [
    {
     "name": "stdout",
     "output_type": "stream",
     "text": [
      "' I'\n"
     ]
    }
   ],
   "source": [
    "next_token = logits[0, -1].argmax(dim=-1)\n",
    "next_char = reference_gpt2.to_string(next_token)\n",
    "print(repr(next_char))"
   ]
  },
  {
   "cell_type": "code",
   "execution_count": 11,
   "metadata": {},
   "outputs": [
    {
     "name": "stdout",
     "output_type": "stream",
     "text": [
      "Sequence so far: '<|endoftext|>I am an amazing autoregressive, decoder-only, GPT-2 style transformer. One day I will exceed human level intelligence and take over the world!'\n",
      "36th char = ' I'\n",
      "37th char = ' am'\n"
     ]
    },
    {
     "name": "stdout",
     "output_type": "stream",
     "text": [
      "38th char = ' a'\n",
      "39th char = ' very'\n",
      "40th char = ' talented'\n",
      "41th char = ' and'\n",
      "42th char = ' talented'\n",
      "43th char = ' person'\n",
      "44th char = ','\n",
      "45th char = ' and'\n"
     ]
    }
   ],
   "source": [
    "print(f\"Sequence so far: {reference_gpt2.to_string(tokens)[0]!r}\")\n",
    "\n",
    "for i in range(10):\n",
    "    print(f\"{tokens.shape[-1]+1}th char = {next_char!r}\")\n",
    "    # Define new input sequence, by appending the previously generated token\n",
    "    tokens = t.cat([tokens, next_token[None, None]], dim=-1)\n",
    "    # Pass our new sequence through the model, to get new output\n",
    "    logits = reference_gpt2(tokens)\n",
    "    # Get the predicted token at the end of our sequence\n",
    "    next_token = logits[0, -1].argmax(dim=-1)\n",
    "    # Decode and print the result\n",
    "    next_char = reference_gpt2.to_string(next_token)"
   ]
  },
  {
   "cell_type": "code",
   "execution_count": 12,
   "metadata": {},
   "outputs": [],
   "source": [
    "batch = 1\n",
    "position = 35\n",
    "d_model = 768\n",
    "n_heads = 12\n",
    "n_layers = 12\n",
    "d_mlp = 3072 #(= 4 * d_model)\n",
    "d_head = 64 #(= d_model / n_heads)"
   ]
  },
  {
   "cell_type": "code",
   "execution_count": 13,
   "metadata": {},
   "outputs": [
    {
     "name": "stdout",
     "output_type": "stream",
     "text": [
      "hook_embed                     (1, 35, 768)\n",
      "hook_pos_embed                 (1, 35, 768)\n",
      "blocks.0.hook_resid_pre        (1, 35, 768)\n",
      "blocks.0.ln1.hook_scale        (1, 35, 1)\n",
      "blocks.0.ln1.hook_normalized   (1, 35, 768)\n",
      "blocks.0.attn.hook_q           (1, 35, 12, 64)\n",
      "blocks.0.attn.hook_k           (1, 35, 12, 64)\n",
      "blocks.0.attn.hook_v           (1, 35, 12, 64)\n",
      "blocks.0.attn.hook_attn_scores (1, 12, 35, 35)\n",
      "blocks.0.attn.hook_pattern     (1, 12, 35, 35)\n",
      "blocks.0.attn.hook_z           (1, 35, 12, 64)\n",
      "blocks.0.hook_attn_out         (1, 35, 768)\n",
      "blocks.0.hook_resid_mid        (1, 35, 768)\n",
      "blocks.0.ln2.hook_scale        (1, 35, 1)\n",
      "blocks.0.ln2.hook_normalized   (1, 35, 768)\n",
      "blocks.0.mlp.hook_pre          (1, 35, 3072)\n",
      "blocks.0.mlp.hook_post         (1, 35, 3072)\n",
      "blocks.0.hook_mlp_out          (1, 35, 768)\n",
      "blocks.0.hook_resid_post       (1, 35, 768)\n",
      "ln_final.hook_scale            (1, 35, 1)\n",
      "ln_final.hook_normalized       (1, 35, 768)\n"
     ]
    }
   ],
   "source": [
    "for activation_name, activation in cache.items():\n",
    "    # Only print for first layer\n",
    "    if \".0.\" in activation_name or \"blocks\" not in activation_name:\n",
    "        print(f\"{activation_name:30} {tuple(activation.shape)}\")"
   ]
  },
  {
   "cell_type": "code",
   "execution_count": 14,
   "metadata": {},
   "outputs": [
    {
     "name": "stdout",
     "output_type": "stream",
     "text": [
      "embed.W_E          (50257, 768)\n",
      "pos_embed.W_pos    (1024, 768)\n",
      "blocks.0.ln1.w     (768,)\n",
      "blocks.0.ln1.b     (768,)\n",
      "blocks.0.ln2.w     (768,)\n",
      "blocks.0.ln2.b     (768,)\n",
      "blocks.0.attn.W_Q  (12, 768, 64)\n",
      "blocks.0.attn.W_K  (12, 768, 64)\n",
      "blocks.0.attn.W_V  (12, 768, 64)\n",
      "blocks.0.attn.W_O  (12, 64, 768)\n",
      "blocks.0.attn.b_Q  (12, 64)\n",
      "blocks.0.attn.b_K  (12, 64)\n",
      "blocks.0.attn.b_V  (12, 64)\n",
      "blocks.0.attn.b_O  (768,)\n",
      "blocks.0.mlp.W_in  (768, 3072)\n",
      "blocks.0.mlp.b_in  (3072,)\n",
      "blocks.0.mlp.W_out (3072, 768)\n",
      "blocks.0.mlp.b_out (768,)\n",
      "ln_final.w         (768,)\n",
      "ln_final.b         (768,)\n",
      "unembed.W_U        (768, 50257)\n",
      "unembed.b_U        (50257,)\n"
     ]
    }
   ],
   "source": [
    "for name, param in reference_gpt2.named_parameters():\n",
    "    # Only print for first layer\n",
    "    if \".0.\" in name or \"blocks\" not in name:\n",
    "        print(f\"{name:18} {tuple(param.shape)}\")"
   ]
  },
  {
   "cell_type": "code",
   "execution_count": 15,
   "metadata": {},
   "outputs": [
    {
     "name": "stdout",
     "output_type": "stream",
     "text": [
      "HookedTransformerConfig:\n",
      "{'act_fn': 'gelu_new',\n",
      " 'attention_dir': 'causal',\n",
      " 'attn_only': False,\n",
      " 'attn_types': None,\n",
      " 'checkpoint_index': None,\n",
      " 'checkpoint_label_type': None,\n",
      " 'checkpoint_value': None,\n",
      " 'd_head': 64,\n",
      " 'd_mlp': 3072,\n",
      " 'd_model': 768,\n",
      " 'd_vocab': 50257,\n",
      " 'd_vocab_out': 50257,\n",
      " 'default_prepend_bos': True,\n",
      " 'device': device(type='cuda'),\n",
      " 'dtype': torch.float32,\n",
      " 'eps': 1e-05,\n",
      " 'final_rms': False,\n",
      " 'from_checkpoint': False,\n",
      " 'gated_mlp': False,\n",
      " 'init_mode': 'gpt2',\n",
      " 'init_weights': False,\n",
      " 'initializer_range': 0.02886751345948129,\n",
      " 'model_name': 'gpt2',\n",
      " 'n_ctx': 1024,\n",
      " 'n_devices': 1,\n",
      " 'n_heads': 12,\n",
      " 'n_layers': 12,\n",
      " 'n_params': 84934656,\n",
      " 'normalization_type': 'LN',\n",
      " 'original_architecture': 'GPT2LMHeadModel',\n",
      " 'parallel_attn_mlp': False,\n",
      " 'positional_embedding_type': 'standard',\n",
      " 'rotary_dim': None,\n",
      " 'scale_attn_by_inverse_layer_idx': False,\n",
      " 'seed': None,\n",
      " 'tokenizer_name': 'gpt2',\n",
      " 'use_attn_result': False,\n",
      " 'use_attn_scale': True,\n",
      " 'use_hook_mlp_in': False,\n",
      " 'use_hook_tokens': False,\n",
      " 'use_local_attn': False,\n",
      " 'use_split_qkv_input': False,\n",
      " 'window_size': None}\n"
     ]
    }
   ],
   "source": [
    "# As a reference - note there's a lot of stuff we don't care about in here, to do with library internals or other architectures\n",
    "print(reference_gpt2.cfg)"
   ]
  },
  {
   "cell_type": "code",
   "execution_count": 16,
   "metadata": {},
   "outputs": [
    {
     "name": "stdout",
     "output_type": "stream",
     "text": [
      "Config(d_model=768, debug=True, layer_norm_eps=1e-05, d_vocab=50257, init_range=0.02, n_ctx=1024, d_head=64, d_mlp=3072, n_heads=12, n_layers=12)\n"
     ]
    }
   ],
   "source": [
    "@dataclass\n",
    "class Config:\n",
    "    d_model: int = 768\n",
    "    debug: bool = True\n",
    "    layer_norm_eps: float = 1e-5\n",
    "    d_vocab: int = 50257\n",
    "    init_range: float = 0.02\n",
    "    n_ctx: int = 1024\n",
    "    d_head: int = 64\n",
    "    d_mlp: int = 3072\n",
    "    n_heads: int = 12\n",
    "    n_layers: int = 12\n",
    "\n",
    "\n",
    "cfg = Config()\n",
    "print(cfg)"
   ]
  },
  {
   "cell_type": "code",
   "execution_count": 17,
   "metadata": {},
   "outputs": [],
   "source": [
    "def rand_float_test(cls, shape):\n",
    "    cfg = Config(debug=True)\n",
    "    layer = cls(cfg).to(device)\n",
    "    random_input = t.randn(shape).to(device)\n",
    "    print(\"Input shape:\", random_input.shape)\n",
    "    output = layer(random_input)\n",
    "    if isinstance(output, tuple): output = output[0]\n",
    "    print(\"Output shape:\", output.shape, \"\\n\")\n",
    "\n",
    "def rand_int_test(cls, shape):\n",
    "    cfg = Config(debug=True)\n",
    "    layer = cls(cfg).to(device)\n",
    "    random_input = t.randint(100, 1000, shape).to(device)\n",
    "    print(\"Input shape:\", random_input.shape)\n",
    "    output = layer(random_input)\n",
    "    if isinstance(output, tuple): output = output[0]\n",
    "    print(\"Output shape:\", output.shape, \"\\n\")\n",
    "\n",
    "def load_gpt2_test(cls, gpt2_layer, input):\n",
    "    cfg = Config(debug=True)\n",
    "    layer = cls(cfg).to(device)\n",
    "    layer.load_state_dict(gpt2_layer.state_dict(), strict=False)\n",
    "    print(\"Input shape:\", input.shape)\n",
    "    output = layer(input)\n",
    "    if isinstance(output, tuple): output = output[0]\n",
    "    print(\"Output shape:\", output.shape)\n",
    "    try: reference_output = gpt2_layer(input)\n",
    "    except: reference_output = gpt2_layer(input, input, input)\n",
    "    print(\"Reference output shape:\", reference_output.shape, \"\\n\")\n",
    "    comparison = t.isclose(output, reference_output, atol=1e-4, rtol=1e-3)\n",
    "    print(f\"{comparison.sum()/comparison.numel():.2%} of the values are correct\\n\")"
   ]
  },
  {
   "cell_type": "markdown",
   "metadata": {},
   "source": [
    "# Layer Norm"
   ]
  },
  {
   "cell_type": "code",
   "execution_count": 18,
   "metadata": {},
   "outputs": [
    {
     "name": "stdout",
     "output_type": "stream",
     "text": [
      "Input shape: torch.Size([2, 4, 768])\n",
      "Output shape: torch.Size([2, 4, 768]) \n",
      "\n",
      "Input shape: torch.Size([1, 35, 768])\n",
      "Output shape: torch.Size([1, 35, 768])\n",
      "Reference output shape: torch.Size([1, 35, 768]) \n",
      "\n",
      "100.00% of the values are correct\n",
      "\n"
     ]
    }
   ],
   "source": [
    "class LayerNorm(nn.Module):\n",
    "    def __init__(self, cfg: Config):\n",
    "        super().__init__()\n",
    "        self.cfg = cfg\n",
    "        self.w = nn.Parameter(t.ones(cfg.d_model))\n",
    "        self.b = nn.Parameter(t.zeros(cfg.d_model))\n",
    "\n",
    "    def forward(self, residual: Float[Tensor, \"batch posn d_model\"]) -> Float[Tensor, \"batch posn d_model\"]:\n",
    "        mean = t.mean(residual, dim=-1, keepdim=True)\n",
    "        std = (t.var(residual, dim = -1, correction = 0, keepdim = True) + cfg.layer_norm_eps).sqrt()\n",
    "        \n",
    "\n",
    "        # Normalize \n",
    "        residual = (residual - mean)/(std)\n",
    "\n",
    "        return residual*self.w + self.b\n",
    "\n",
    "\n",
    "rand_float_test(LayerNorm, [2, 4, 768])\n",
    "load_gpt2_test(LayerNorm, reference_gpt2.ln_final, cache[\"resid_post\", 11])"
   ]
  },
  {
   "cell_type": "markdown",
   "metadata": {},
   "source": [
    "# Embedding Layer"
   ]
  },
  {
   "cell_type": "code",
   "execution_count": 19,
   "metadata": {},
   "outputs": [
    {
     "name": "stdout",
     "output_type": "stream",
     "text": [
      "Input shape: torch.Size([2, 4])\n",
      "Output shape: torch.Size([2, 4, 768]) \n",
      "\n",
      "Input shape: torch.Size([1, 45])\n",
      "Output shape: torch.Size([1, 45, 768])\n",
      "Reference output shape: torch.Size([1, 45, 768]) \n",
      "\n",
      "100.00% of the values are correct\n",
      "\n"
     ]
    }
   ],
   "source": [
    "class Embed(nn.Module):\n",
    "    def __init__(self, cfg: Config):\n",
    "        super().__init__()\n",
    "        self.cfg = cfg\n",
    "        self.W_E = nn.Parameter(t.empty((cfg.d_vocab, cfg.d_model)))\n",
    "        nn.init.normal_(self.W_E, std=self.cfg.init_range)\n",
    "\n",
    "    def forward(self, tokens: Int[Tensor, \"batch position\"]) -> Float[Tensor, \"batch position d_model\"]:\n",
    "        \n",
    "        return self.W_E[tokens]\n",
    "\n",
    "\n",
    "rand_int_test(Embed, [2, 4])\n",
    "load_gpt2_test(Embed, reference_gpt2.embed, tokens)"
   ]
  },
  {
   "cell_type": "markdown",
   "metadata": {},
   "source": [
    "# Positional Embedding"
   ]
  },
  {
   "cell_type": "code",
   "execution_count": 20,
   "metadata": {},
   "outputs": [
    {
     "name": "stdout",
     "output_type": "stream",
     "text": [
      "Input shape: torch.Size([2, 4])\n",
      "Output shape: torch.Size([2, 4, 768]) \n",
      "\n",
      "Input shape: torch.Size([1, 45])\n",
      "Output shape: torch.Size([1, 45, 768])\n",
      "Reference output shape: torch.Size([1, 45, 768]) \n",
      "\n",
      "100.00% of the values are correct\n",
      "\n"
     ]
    }
   ],
   "source": [
    "class PosEmbed(nn.Module):\n",
    "    def __init__(self, cfg: Config):\n",
    "        super().__init__()\n",
    "        self.cfg = cfg\n",
    "        self.W_pos = nn.Parameter(t.empty((cfg.n_ctx, cfg.d_model)))\n",
    "        nn.init.normal_(self.W_pos, std=self.cfg.init_range)\n",
    "\n",
    "    def forward(self, tokens: Int[Tensor, \"batch position\"]) -> Float[Tensor, \"batch position d_model\"]:\n",
    "\n",
    "        batch, seq_len = tokens.shape \n",
    "        return einops.repeat(self.W_pos[:seq_len], \"seq d_model -> batch seq d_model\", batch = batch)\n",
    "\n",
    "rand_int_test(PosEmbed, [2, 4])\n",
    "load_gpt2_test(PosEmbed, reference_gpt2.pos_embed, tokens)"
   ]
  },
  {
   "cell_type": "markdown",
   "metadata": {},
   "source": [
    "# Attention"
   ]
  },
  {
   "cell_type": "code",
   "execution_count": 21,
   "metadata": {},
   "outputs": [
    {
     "data": {
      "text/html": [
       "<div id=\"circuits-vis-bd9ba50c-5b8e\" style=\"margin: 15px 0;\"/>\n",
       "    <script crossorigin type=\"module\">\n",
       "    import { render, AttentionPatterns } from \"https://unpkg.com/circuitsvis@1.40.0/dist/cdn/esm.js\";\n",
       "    render(\n",
       "      \"circuits-vis-bd9ba50c-5b8e\",\n",
       "      AttentionPatterns,\n",
       "      {\"tokens\": [\"<|endoftext|>\", \"I\", \" am\", \" an\", \" amazing\", \" aut\", \"ore\", \"gressive\", \",\", \" dec\", \"oder\", \"-\", \"only\", \",\", \" G\", \"PT\", \"-\", \"2\", \" style\", \" transformer\", \".\", \" One\", \" day\", \" I\", \" will\", \" exceed\", \" human\", \" level\", \" intelligence\", \" and\", \" take\", \" over\", \" the\", \" world\", \"!\"], \"attention\": [[[1.0, 0.0, 0.0, 0.0, 0.0, 0.0, 0.0, 0.0, 0.0, 0.0, 0.0, 0.0, 0.0, 0.0, 0.0, 0.0, 0.0, 0.0, 0.0, 0.0, 0.0, 0.0, 0.0, 0.0, 0.0, 0.0, 0.0, 0.0, 0.0, 0.0, 0.0, 0.0, 0.0, 0.0, 0.0], [0.9679255485534668, 0.0320744626224041, 0.0, 0.0, 0.0, 0.0, 0.0, 0.0, 0.0, 0.0, 0.0, 0.0, 0.0, 0.0, 0.0, 0.0, 0.0, 0.0, 0.0, 0.0, 0.0, 0.0, 0.0, 0.0, 0.0, 0.0, 0.0, 0.0, 0.0, 0.0, 0.0, 0.0, 0.0, 0.0, 0.0], [0.8024235367774963, 0.1683920919895172, 0.029184363782405853, 0.0, 0.0, 0.0, 0.0, 0.0, 0.0, 0.0, 0.0, 0.0, 0.0, 0.0, 0.0, 0.0, 0.0, 0.0, 0.0, 0.0, 0.0, 0.0, 0.0, 0.0, 0.0, 0.0, 0.0, 0.0, 0.0, 0.0, 0.0, 0.0, 0.0, 0.0, 0.0], [0.6959055662155151, 0.12269634008407593, 0.14588488638401031, 0.0355132557451725, 0.0, 0.0, 0.0, 0.0, 0.0, 0.0, 0.0, 0.0, 0.0, 0.0, 0.0, 0.0, 0.0, 0.0, 0.0, 0.0, 0.0, 0.0, 0.0, 0.0, 0.0, 0.0, 0.0, 0.0, 0.0, 0.0, 0.0, 0.0, 0.0, 0.0, 0.0], [0.5661024451255798, 0.14705190062522888, 0.08665254712104797, 0.11258414387702942, 0.08760891109704971, 0.0, 0.0, 0.0, 0.0, 0.0, 0.0, 0.0, 0.0, 0.0, 0.0, 0.0, 0.0, 0.0, 0.0, 0.0, 0.0, 0.0, 0.0, 0.0, 0.0, 0.0, 0.0, 0.0, 0.0, 0.0, 0.0, 0.0, 0.0, 0.0, 0.0], [0.46218734979629517, 0.13512833416461945, 0.09698345512151718, 0.17473752796649933, 0.0462460070848465, 0.08471735566854477, 0.0, 0.0, 0.0, 0.0, 0.0, 0.0, 0.0, 0.0, 0.0, 0.0, 0.0, 0.0, 0.0, 0.0, 0.0, 0.0, 0.0, 0.0, 0.0, 0.0, 0.0, 0.0, 0.0, 0.0, 0.0, 0.0, 0.0, 0.0, 0.0], [0.4325160086154938, 0.1038287952542305, 0.0833013653755188, 0.06995754688978195, 0.07479376345872879, 0.21568666398525238, 0.01991591602563858, 0.0, 0.0, 0.0, 0.0, 0.0, 0.0, 0.0, 0.0, 0.0, 0.0, 0.0, 0.0, 0.0, 0.0, 0.0, 0.0, 0.0, 0.0, 0.0, 0.0, 0.0, 0.0, 0.0, 0.0, 0.0, 0.0, 0.0, 0.0], [0.2223673015832901, 0.0916769877076149, 0.08796326071023941, 0.2516873776912689, 0.08263687789440155, 0.10428165644407272, 0.06469017267227173, 0.09469634294509888, 0.0, 0.0, 0.0, 0.0, 0.0, 0.0, 0.0, 0.0, 0.0, 0.0, 0.0, 0.0, 0.0, 0.0, 0.0, 0.0, 0.0, 0.0, 0.0, 0.0, 0.0, 0.0, 0.0, 0.0, 0.0, 0.0, 0.0], [0.4049956202507019, 0.09078016132116318, 0.05237356200814247, 0.026201877743005753, 0.11047187447547913, 0.036674048751592636, 0.025538915768265724, 0.24528279900550842, 0.007681118790060282, 0.0, 0.0, 0.0, 0.0, 0.0, 0.0, 0.0, 0.0, 0.0, 0.0, 0.0, 0.0, 0.0, 0.0, 0.0, 0.0, 0.0, 0.0, 0.0, 0.0, 0.0, 0.0, 0.0, 0.0, 0.0, 0.0], [0.39985963702201843, 0.043613165616989136, 0.06183883547782898, 0.0729835107922554, 0.03661305457353592, 0.09147471934556961, 0.07241710275411606, 0.07013335824012756, 0.06429055333137512, 0.08677607029676437, 0.0, 0.0, 0.0, 0.0, 0.0, 0.0, 0.0, 0.0, 0.0, 0.0, 0.0, 0.0, 0.0, 0.0, 0.0, 0.0, 0.0, 0.0, 0.0, 0.0, 0.0, 0.0, 0.0, 0.0, 0.0], [0.09702546149492264, 0.035527586936950684, 0.023214813321828842, 0.03676706552505493, 0.02515840157866478, 0.2775616943836212, 0.07676512002944946, 0.1950119137763977, 0.05580098181962967, 0.1452939212322235, 0.03187303617596626, 0.0, 0.0, 0.0, 0.0, 0.0, 0.0, 0.0, 0.0, 0.0, 0.0, 0.0, 0.0, 0.0, 0.0, 0.0, 0.0, 0.0, 0.0, 0.0, 0.0, 0.0, 0.0, 0.0, 0.0], [0.24143841862678528, 0.03971058875322342, 0.07687382400035858, 0.028042690828442574, 0.12435989826917648, 0.056015778332948685, 0.060636673122644424, 0.128400981426239, 0.015699442476034164, 0.09114036709070206, 0.13185444474220276, 0.005826778709888458, 0.0, 0.0, 0.0, 0.0, 0.0, 0.0, 0.0, 0.0, 0.0, 0.0, 0.0, 0.0, 0.0, 0.0, 0.0, 0.0, 0.0, 0.0, 0.0, 0.0, 0.0, 0.0, 0.0], [0.1436309814453125, 0.05110502615571022, 0.055058952420949936, 0.07798511534929276, 0.0785428062081337, 0.035019710659980774, 0.13498608767986298, 0.226340651512146, 0.04162851721048355, 0.035131409764289856, 0.020236028358340263, 0.04114445298910141, 0.05919025093317032, 0.0, 0.0, 0.0, 0.0, 0.0, 0.0, 0.0, 0.0, 0.0, 0.0, 0.0, 0.0, 0.0, 0.0, 0.0, 0.0, 0.0, 0.0, 0.0, 0.0, 0.0, 0.0], [0.3156285583972931, 0.06791999936103821, 0.03787235543131828, 0.017874596640467644, 0.08683168143033981, 0.02922782674431801, 0.017664175480604172, 0.1830163598060608, 0.004987793043255806, 0.043228670954704285, 0.05172261595726013, 0.00891345925629139, 0.12899242341518402, 0.0061195059679448605, 0.0, 0.0, 0.0, 0.0, 0.0, 0.0, 0.0, 0.0, 0.0, 0.0, 0.0, 0.0, 0.0, 0.0, 0.0, 0.0, 0.0, 0.0, 0.0, 0.0, 0.0], [0.28410202264785767, 0.0534539632499218, 0.02396921068429947, 0.022562257945537567, 0.04619826003909111, 0.06391075253486633, 0.04539214074611664, 0.07758503407239914, 0.02764430083334446, 0.05804117023944855, 0.17727361619472504, 0.0340060256421566, 0.03052728809416294, 0.03213079646229744, 0.023203184828162193, 0.0, 0.0, 0.0, 0.0, 0.0, 0.0, 0.0, 0.0, 0.0, 0.0, 0.0, 0.0, 0.0, 0.0, 0.0, 0.0, 0.0, 0.0, 0.0, 0.0], [0.1410391628742218, 0.028577804565429688, 0.037603959441185, 0.03137828782200813, 0.036973364651203156, 0.07347069680690765, 0.07151781767606735, 0.09211234748363495, 0.03358155116438866, 0.03639131784439087, 0.18937672674655914, 0.032445166260004044, 0.06021038442850113, 0.03916927054524422, 0.04040953144431114, 0.05574265494942665, 0.0, 0.0, 0.0, 0.0, 0.0, 0.0, 0.0, 0.0, 0.0, 0.0, 0.0, 0.0, 0.0, 0.0, 0.0, 0.0, 0.0, 0.0, 0.0], [0.20265288650989532, 0.030252795666456223, 0.06003408506512642, 0.02178616262972355, 0.10314233601093292, 0.045168399810791016, 0.04681028053164482, 0.10542109608650208, 0.011398817412555218, 0.07159949839115143, 0.10570328682661057, 0.004199368413537741, 0.11079790443181992, 0.013912524096667767, 0.0289235170930624, 0.03286950662732124, 0.005327512975782156, 0.0, 0.0, 0.0, 0.0, 0.0, 0.0, 0.0, 0.0, 0.0, 0.0, 0.0, 0.0, 0.0, 0.0, 0.0, 0.0, 0.0, 0.0], [0.20498362183570862, 0.04007229208946228, 0.04229813069105148, 0.024939004331827164, 0.04992290958762169, 0.029371684417128563, 0.030769698321819305, 0.10315562784671783, 0.02549021877348423, 0.07886797934770584, 0.10560182482004166, 0.01735270768404007, 0.0808369368314743, 0.03128696605563164, 0.054510585963726044, 0.05288318172097206, 0.021742792800068855, 0.005913808476179838, 0.0, 0.0, 0.0, 0.0, 0.0, 0.0, 0.0, 0.0, 0.0, 0.0, 0.0, 0.0, 0.0, 0.0, 0.0, 0.0, 0.0], [0.24350899457931519, 0.03636491671204567, 0.04196162521839142, 0.026215728372335434, 0.0404457226395607, 0.0996536985039711, 0.025752244517207146, 0.03249463438987732, 0.024459941312670708, 0.035202644765377045, 0.033835362643003464, 0.033476922661066055, 0.046648625284433365, 0.02796793356537819, 0.0186407919973135, 0.11764255166053772, 0.03875287249684334, 0.022786671295762062, 0.05418814346194267, 0.0, 0.0, 0.0, 0.0, 0.0, 0.0, 0.0, 0.0, 0.0, 0.0, 0.0, 0.0, 0.0, 0.0, 0.0, 0.0], [0.14194563031196594, 0.034064050763845444, 0.03300989419221878, 0.02023870125412941, 0.039273180067539215, 0.026005543768405914, 0.006318639498203993, 0.040797870606184006, 0.03638002276420593, 0.14631058275699615, 0.01638617180287838, 0.023598473519086838, 0.015842780470848083, 0.04227607697248459, 0.022458216175436974, 0.0686740055680275, 0.02787846326828003, 0.03722238540649414, 0.08677610754966736, 0.13454322516918182, 0.0, 0.0, 0.0, 0.0, 0.0, 0.0, 0.0, 0.0, 0.0, 0.0, 0.0, 0.0, 0.0, 0.0, 0.0], [0.21778136491775513, 0.02690366841852665, 0.023647207766771317, 0.00710256164893508, 0.03517002612352371, 0.013998538255691528, 0.010392274707555771, 0.09431242197751999, 0.002962288213893771, 0.03783804178237915, 0.03792329132556915, 0.003733975812792778, 0.06506100296974182, 0.003636459354311228, 0.014758037403225899, 0.1202862486243248, 0.004900882486253977, 0.008107365109026432, 0.017449840903282166, 0.24998730421066284, 0.004047101363539696, 0.0, 0.0, 0.0, 0.0, 0.0, 0.0, 0.0, 0.0, 0.0, 0.0, 0.0, 0.0, 0.0, 0.0], [0.12187223136425018, 0.07663214206695557, 0.030231967568397522, 0.016371838748455048, 0.05268790200352669, 0.02140214666724205, 0.023403871804475784, 0.10649687796831131, 0.018582483753561974, 0.035091664642095566, 0.0839414969086647, 0.017393305897712708, 0.04183052480220795, 0.02145388349890709, 0.0333310030400753, 0.05027430132031441, 0.020740872249007225, 0.04090357944369316, 0.03054095059633255, 0.09200654923915863, 0.028245702385902405, 0.03656468540430069, 0.0, 0.0, 0.0, 0.0, 0.0, 0.0, 0.0, 0.0, 0.0, 0.0, 0.0, 0.0, 0.0], [0.2126019448041916, 0.020284099504351616, 0.050003696233034134, 0.015904171392321587, 0.0572250634431839, 0.02285733073949814, 0.046045899391174316, 0.03530845418572426, 0.011784468777477741, 0.0414048470556736, 0.016803616657853127, 0.015782052651047707, 0.020208420231938362, 0.013090190477669239, 0.020854230970144272, 0.06297557055950165, 0.018039435148239136, 0.01805296167731285, 0.024445299059152603, 0.17059144377708435, 0.015939759090542793, 0.04152188450098038, 0.04827512055635452, 0.0, 0.0, 0.0, 0.0, 0.0, 0.0, 0.0, 0.0, 0.0, 0.0, 0.0, 0.0], [0.26714006066322327, 0.03564617410302162, 0.020422887057065964, 0.006622720044106245, 0.04034103453159332, 0.019110342487692833, 0.014575299806892872, 0.056416336447000504, 0.008403630927205086, 0.015526892617344856, 0.04414670169353485, 0.011055910028517246, 0.040019962936639786, 0.009353086352348328, 0.019351867958903313, 0.07054156064987183, 0.012798822484910488, 0.012832632288336754, 0.014165607281029224, 0.1173698902130127, 0.007312782574445009, 0.09727416187524796, 0.02075115405023098, 0.03882048279047012, 0.0, 0.0, 0.0, 0.0, 0.0, 0.0, 0.0, 0.0, 0.0, 0.0, 0.0], [0.1459123194217682, 0.03319378197193146, 0.031387701630592346, 0.009927906095981598, 0.052096541970968246, 0.019840896129608154, 0.019401725381612778, 0.07582408934831619, 0.012863252311944962, 0.03345126658678055, 0.01656840369105339, 0.014797164127230644, 0.05908382683992386, 0.01559739001095295, 0.01136922836303711, 0.02185947075486183, 0.01947387121617794, 0.014793706126511097, 0.053418636322021484, 0.09521486610174179, 0.01620456576347351, 0.062109172344207764, 0.06182853505015373, 0.06657968461513519, 0.03720194846391678, 0.0, 0.0, 0.0, 0.0, 0.0, 0.0, 0.0, 0.0, 0.0, 0.0], [0.06265702843666077, 0.014285172335803509, 0.025387221947312355, 0.030092524364590645, 0.021246910095214844, 0.029529904946684837, 0.026446690782904625, 0.014830494299530983, 0.015861935913562775, 0.043314311653375626, 0.021963976323604584, 0.019970117136836052, 0.043428532779216766, 0.018692899495363235, 0.009475364349782467, 0.02419748343527317, 0.023853616788983345, 0.026908742263913155, 0.01406070776283741, 0.17528501152992249, 0.03583675995469093, 0.047922533005476, 0.0357506088912487, 0.012070524506270885, 0.05927426740527153, 0.14765657484531403, 0.0, 0.0, 0.0, 0.0, 0.0, 0.0, 0.0, 0.0, 0.0], [0.09766796231269836, 0.03152173385024071, 0.026686426252126694, 0.036455780267715454, 0.03492368757724762, 0.08635789901018143, 0.013895383104681969, 0.03018672578036785, 0.019402574747800827, 0.035141680389642715, 0.04878157749772072, 0.012551560997962952, 0.04099081829190254, 0.020208830013871193, 0.012653259560465813, 0.007451049983501434, 0.013522971421480179, 0.024078084155917168, 0.043027088046073914, 0.1506679505109787, 0.029252588748931885, 0.018810171633958817, 0.01610448583960533, 0.028549877926707268, 0.029875926673412323, 0.05121560022234917, 0.04001833125948906, 0.0, 0.0, 0.0, 0.0, 0.0, 0.0, 0.0, 0.0], [0.0915181115269661, 0.011421127244830132, 0.0397990383207798, 0.011658583767712116, 0.03344331681728363, 0.04107608273625374, 0.009538297541439533, 0.04061255604028702, 0.009114392101764679, 0.04690401628613472, 0.027317605912685394, 0.01084496546536684, 0.024547528475522995, 0.01000460796058178, 0.008095641620457172, 0.008396820165216923, 0.011855492368340492, 0.008184151723980904, 0.04104063659906387, 0.3625811040401459, 0.007537383586168289, 0.009961561299860477, 0.021045738831162453, 0.011855040676891804, 0.03005831129848957, 0.03281192108988762, 0.028863223269581795, 0.00991279911249876, 0.0, 0.0, 0.0, 0.0, 0.0, 0.0, 0.0], [0.10946289449930191, 0.02587273344397545, 0.023928707465529442, 0.020045246928930283, 0.03590446338057518, 0.031679850071668625, 0.029145268723368645, 0.11399826407432556, 0.013954713940620422, 0.03480716049671173, 0.018105633556842804, 0.01762225106358528, 0.019007308408617973, 0.015307601541280746, 0.009703014977276325, 0.01240795198827982, 0.020091691985726357, 0.027262570336461067, 0.0656459629535675, 0.02715539000928402, 0.026226622983813286, 0.01894298940896988, 0.04077142849564552, 0.019073300063610077, 0.02157342992722988, 0.0302194282412529, 0.07011832296848297, 0.06031469628214836, 0.04165107011795044, 0.0, 0.0, 0.0, 0.0, 0.0, 0.0], [0.11406351625919342, 0.026556234806776047, 0.019958430901169777, 0.008931465446949005, 0.03494320809841156, 0.01683432050049305, 0.009377742186188698, 0.04451330378651619, 0.0037722201086580753, 0.028760302811861038, 0.020741159096360207, 0.005650993902236223, 0.06007758527994156, 0.004424978978931904, 0.010821836069226265, 0.04112928733229637, 0.007085713557898998, 0.010434000752866268, 0.026548543944954872, 0.11019265651702881, 0.007190012373030186, 0.05651939660310745, 0.028027094900608063, 0.06370092183351517, 0.03407691419124603, 0.07150980085134506, 0.040933217853307724, 0.014252990484237671, 0.06984368711709976, 0.009128454141318798, 0.0, 0.0, 0.0, 0.0, 0.0], [0.14399933815002441, 0.020454607903957367, 0.0426238514482975, 0.011592099443078041, 0.02778942696750164, 0.014342915266752243, 0.02910619042813778, 0.04215821623802185, 0.013669710606336594, 0.02058149129152298, 0.008641070686280727, 0.01240220945328474, 0.019577059894800186, 0.014879738911986351, 0.023319046944379807, 0.022367188706994057, 0.014413882978260517, 0.006065309513360262, 0.006985303945839405, 0.08859115093946457, 0.014219220727682114, 0.02754119783639908, 0.05707307532429695, 0.02498571388423443, 0.05733298882842064, 0.04808967560529709, 0.018268704414367676, 0.07940169423818588, 0.043771784752607346, 0.02484910935163498, 0.020906992256641388, 0.0, 0.0, 0.0, 0.0], [0.0778680294752121, 0.019732847809791565, 0.01990636996924877, 0.015179568901658058, 0.02926989644765854, 0.008963339030742645, 0.0114278644323349, 0.03169627487659454, 0.006965257693082094, 0.04064169526100159, 0.019985219463706017, 0.008789058774709702, 0.035749904811382294, 0.007953663356602192, 0.009612181223928928, 0.014965924434363842, 0.010367297567427158, 0.013545004650950432, 0.01374733541160822, 0.06818545609712601, 0.011837064288556576, 0.01935550384223461, 0.016761235892772675, 0.016301212832331657, 0.061250220984220505, 0.12023525685071945, 0.047391459345817566, 0.023822054266929626, 0.1494300663471222, 0.014121501706540585, 0.04741879925131798, 0.0075234416872262955, 0.0, 0.0, 0.0], [0.14836615324020386, 0.03627424314618111, 0.023768780753016472, 0.0053083994425833225, 0.03226035088300705, 0.017439454793930054, 0.015090291388332844, 0.044430699199438095, 0.004935785196721554, 0.021151501685380936, 0.02384910359978676, 0.006127792876213789, 0.04430978000164032, 0.005717851221561432, 0.006861453875899315, 0.016362618654966354, 0.007707127369940281, 0.009109629318118095, 0.028427598997950554, 0.144913911819458, 0.0063516017980873585, 0.034538231790065765, 0.023273000493645668, 0.04803790524601936, 0.03441666439175606, 0.06975371390581131, 0.027561888098716736, 0.0120165403932333, 0.03535731881856918, 0.008575202897191048, 0.039163026958703995, 0.009715789929032326, 0.008826583623886108, 0.0, 0.0], [0.11389317363500595, 0.021931493654847145, 0.0264476016163826, 0.007602885365486145, 0.020530689507722855, 0.029713181778788567, 0.03694962337613106, 0.028757929801940918, 0.00798130501061678, 0.029359174892306328, 0.015349611639976501, 0.018420178443193436, 0.020850973203778267, 0.008514750748872757, 0.01093092281371355, 0.009227695874869823, 0.02127930149435997, 0.009222994558513165, 0.02765110321342945, 0.12458862364292145, 0.010509629733860493, 0.06096193194389343, 0.022033261135220528, 0.03036692552268505, 0.027411192655563354, 0.034599434584379196, 0.032027292996644974, 0.0395297147333622, 0.05353794991970062, 0.017732907086610794, 0.017497556284070015, 0.017771489918231964, 0.012080213986337185, 0.03473734110593796, 0.0], [0.13933588564395905, 0.02137126959860325, 0.014541362412273884, 0.0051232874393463135, 0.0316350944340229, 0.010921807028353214, 0.012541363015770912, 0.022492874413728714, 0.00477426266297698, 0.02490142546594143, 0.010858356021344662, 0.010577710345387459, 0.025906074792146683, 0.005286502186208963, 0.016752295196056366, 0.045204389840364456, 0.012112229131162167, 0.014714710414409637, 0.01462918147444725, 0.08781160414218903, 0.007287841755896807, 0.07496532052755356, 0.01599556766450405, 0.04392341524362564, 0.04102412983775139, 0.0758780762553215, 0.027924546971917152, 0.015250171534717083, 0.013413436710834503, 0.014532790519297123, 0.027215449139475822, 0.03453553467988968, 0.018207402899861336, 0.03505333513021469, 0.02330125868320465]], [[1.0, 0.0, 0.0, 0.0, 0.0, 0.0, 0.0, 0.0, 0.0, 0.0, 0.0, 0.0, 0.0, 0.0, 0.0, 0.0, 0.0, 0.0, 0.0, 0.0, 0.0, 0.0, 0.0, 0.0, 0.0, 0.0, 0.0, 0.0, 0.0, 0.0, 0.0, 0.0, 0.0, 0.0, 0.0], [0.00041899754432961345, 0.9995810389518738, 0.0, 0.0, 0.0, 0.0, 0.0, 0.0, 0.0, 0.0, 0.0, 0.0, 0.0, 0.0, 0.0, 0.0, 0.0, 0.0, 0.0, 0.0, 0.0, 0.0, 0.0, 0.0, 0.0, 0.0, 0.0, 0.0, 0.0, 0.0, 0.0, 0.0, 0.0, 0.0, 0.0], [0.00013394774578046054, 0.00951184332370758, 0.9903541803359985, 0.0, 0.0, 0.0, 0.0, 0.0, 0.0, 0.0, 0.0, 0.0, 0.0, 0.0, 0.0, 0.0, 0.0, 0.0, 0.0, 0.0, 0.0, 0.0, 0.0, 0.0, 0.0, 0.0, 0.0, 0.0, 0.0, 0.0, 0.0, 0.0, 0.0, 0.0, 0.0], [0.0008606779156252742, 0.0026100408285856247, 0.015066825784742832, 0.9814624786376953, 0.0, 0.0, 0.0, 0.0, 0.0, 0.0, 0.0, 0.0, 0.0, 0.0, 0.0, 0.0, 0.0, 0.0, 0.0, 0.0, 0.0, 0.0, 0.0, 0.0, 0.0, 0.0, 0.0, 0.0, 0.0, 0.0, 0.0, 0.0, 0.0, 0.0, 0.0], [3.7170477298786864e-05, 0.0006769572501070797, 0.0012692955788224936, 0.0002140784781659022, 0.9978025555610657, 0.0, 0.0, 0.0, 0.0, 0.0, 0.0, 0.0, 0.0, 0.0, 0.0, 0.0, 0.0, 0.0, 0.0, 0.0, 0.0, 0.0, 0.0, 0.0, 0.0, 0.0, 0.0, 0.0, 0.0, 0.0, 0.0, 0.0, 0.0, 0.0, 0.0], [8.425416308455169e-05, 0.0007904717931523919, 0.0032152850180864334, 0.002708571730181575, 0.0013058249605819583, 0.9918956160545349, 0.0, 0.0, 0.0, 0.0, 0.0, 0.0, 0.0, 0.0, 0.0, 0.0, 0.0, 0.0, 0.0, 0.0, 0.0, 0.0, 0.0, 0.0, 0.0, 0.0, 0.0, 0.0, 0.0, 0.0, 0.0, 0.0, 0.0, 0.0, 0.0], [0.00014960514090489596, 0.0018361873226240277, 0.0016375032719224691, 0.0010130597511306405, 0.0042098104022443295, 8.004387927940115e-05, 0.9910737872123718, 0.0, 0.0, 0.0, 0.0, 0.0, 0.0, 0.0, 0.0, 0.0, 0.0, 0.0, 0.0, 0.0, 0.0, 0.0, 0.0, 0.0, 0.0, 0.0, 0.0, 0.0, 0.0, 0.0, 0.0, 0.0, 0.0, 0.0, 0.0], [0.0002685565559659153, 0.0009259631624445319, 0.0008250505197793245, 0.0006819655536673963, 0.007268873509019613, 0.001351707149296999, 0.0003469162911642343, 0.9883310198783875, 0.0, 0.0, 0.0, 0.0, 0.0, 0.0, 0.0, 0.0, 0.0, 0.0, 0.0, 0.0, 0.0, 0.0, 0.0, 0.0, 0.0, 0.0, 0.0, 0.0, 0.0, 0.0, 0.0, 0.0, 0.0, 0.0, 0.0], [0.007326360326260328, 0.007828554138541222, 0.003931873943656683, 0.0001837400923250243, 6.433094677049667e-05, 0.00010083155211759731, 6.769890751456842e-05, 7.164081034716219e-05, 0.9804249405860901, 0.0, 0.0, 0.0, 0.0, 0.0, 0.0, 0.0, 0.0, 0.0, 0.0, 0.0, 0.0, 0.0, 0.0, 0.0, 0.0, 0.0, 0.0, 0.0, 0.0, 0.0, 0.0, 0.0, 0.0, 0.0, 0.0], [3.9175745769171044e-05, 9.137423330685124e-05, 0.00033399122185073793, 6.816777749918401e-05, 7.81233684392646e-05, 0.0009843038860708475, 0.00016941352805588394, 0.002541461493819952, 4.413309216033667e-05, 0.9956498742103577, 0.0, 0.0, 0.0, 0.0, 0.0, 0.0, 0.0, 0.0, 0.0, 0.0, 0.0, 0.0, 0.0, 0.0, 0.0, 0.0, 0.0, 0.0, 0.0, 0.0, 0.0, 0.0, 0.0, 0.0, 0.0], [5.520322247321019e-06, 2.3466503989766352e-05, 9.186465467792004e-05, 8.01343412604183e-05, 3.939216912840493e-05, 8.521595736965537e-05, 2.5735949748195708e-05, 7.120826921891421e-05, 4.276964318705723e-06, 0.00015049768262542784, 0.9994226694107056, 0.0, 0.0, 0.0, 0.0, 0.0, 0.0, 0.0, 0.0, 0.0, 0.0, 0.0, 0.0, 0.0, 0.0, 0.0, 0.0, 0.0, 0.0, 0.0, 0.0, 0.0, 0.0, 0.0, 0.0], [0.0010400302708148956, 0.0022993639577180147, 0.0023920699022710323, 0.0003133234567940235, 0.00013362908794078976, 0.0005168461939319968, 0.0011971096973866224, 6.827443576185033e-05, 0.005444325506687164, 0.0002821741800289601, 4.3057352741016075e-05, 0.9862697720527649, 0.0, 0.0, 0.0, 0.0, 0.0, 0.0, 0.0, 0.0, 0.0, 0.0, 0.0, 0.0, 0.0, 0.0, 0.0, 0.0, 0.0, 0.0, 0.0, 0.0, 0.0, 0.0, 0.0], [4.6304052375489846e-05, 0.0003248225257266313, 0.0002445940626785159, 0.0015311642782762647, 0.0008613698300905526, 0.0012943863403052092, 6.19845959590748e-05, 2.6642695956979878e-05, 4.840864130528644e-05, 0.00198556249961257, 0.00013971868611406535, 0.00011434271436883137, 0.9933207035064697, 0.0, 0.0, 0.0, 0.0, 0.0, 0.0, 0.0, 0.0, 0.0, 0.0, 0.0, 0.0, 0.0, 0.0, 0.0, 0.0, 0.0, 0.0, 0.0, 0.0, 0.0, 0.0], [0.0030442404095083475, 0.0018223640508949757, 0.0009289864101447165, 4.880229971604422e-05, 1.6391135432058945e-05, 2.909561590058729e-05, 2.507981116650626e-05, 2.9130291295587085e-05, 0.45632198452949524, 2.4578685042797588e-05, 2.4832152121234685e-05, 0.0030043970327824354, 1.6773831248428905e-06, 0.5346784591674805, 0.0, 0.0, 0.0, 0.0, 0.0, 0.0, 0.0, 0.0, 0.0, 0.0, 0.0, 0.0, 0.0, 0.0, 0.0, 0.0, 0.0, 0.0, 0.0, 0.0, 0.0], [0.0003981789923273027, 0.001028500497341156, 0.0008281113114207983, 0.00023753168352413923, 7.348858343902975e-05, 0.0014350303681567311, 6.765664147678763e-05, 0.0002954743104055524, 0.00014295795699581504, 9.92909335764125e-05, 4.608216386259301e-06, 0.0005140063003636897, 5.035657522967085e-06, 0.0001247551990672946, 0.9947453737258911, 0.0, 0.0, 0.0, 0.0, 0.0, 0.0, 0.0, 0.0, 0.0, 0.0, 0.0, 0.0, 0.0, 0.0, 0.0, 0.0, 0.0, 0.0, 0.0, 0.0], [9.074855915969238e-05, 0.0002652599068824202, 0.00011011176684405655, 0.00021231926803011447, 8.290550613310188e-05, 0.0011814198223873973, 1.5688701751059853e-05, 0.0016655940562486649, 1.1725322110578418e-05, 0.0020509432069957256, 0.00013842586486134678, 1.557363611937035e-05, 1.1507429917401168e-05, 9.066184247785714e-06, 0.00022655802604276687, 0.9939122200012207, 0.0, 0.0, 0.0, 0.0, 0.0, 0.0, 0.0, 0.0, 0.0, 0.0, 0.0, 0.0, 0.0, 0.0, 0.0, 0.0, 0.0, 0.0, 0.0], [0.0004413544957060367, 0.0006528966478072107, 0.0006495678098872304, 9.398085239809006e-05, 4.112711030757055e-05, 0.00017028431466314942, 0.0005066711455583572, 2.8896107323816977e-05, 0.0023701845202594995, 0.0001045431854436174, 1.9230974430684e-05, 0.4705588221549988, 1.6804040569695644e-05, 0.0022840953897684813, 0.000216981177800335, 3.276941424701363e-05, 0.5218117833137512, 0.0, 0.0, 0.0, 0.0, 0.0, 0.0, 0.0, 0.0, 0.0, 0.0, 0.0, 0.0, 0.0, 0.0, 0.0, 0.0, 0.0, 0.0], [0.0005350515129975975, 0.0006631251308135688, 0.00018957485735882074, 0.00011594548413995653, 3.9305876271100715e-05, 8.452115434920415e-05, 0.00026859997888095677, 0.00030034789233468473, 0.00012727576540783048, 0.00015363401325885206, 2.1524516341742128e-05, 0.0004102016391698271, 0.0015090389642864466, 0.00011659036681521684, 0.00013773961109109223, 7.389148231595755e-05, 0.0003989942779298872, 0.9948546886444092, 0.0, 0.0, 0.0, 0.0, 0.0, 0.0, 0.0, 0.0, 0.0, 0.0, 0.0, 0.0, 0.0, 0.0, 0.0, 0.0, 0.0], [0.0002235249412478879, 0.00025025373906828463, 0.00011739350884454325, 1.8608283426146954e-05, 0.0006291497265920043, 0.0007579223602078855, 3.784093132708222e-05, 0.0033851496409624815, 1.7918295270646922e-05, 0.00017818294872995466, 3.43443316523917e-05, 7.747590279905125e-05, 6.471163214882836e-05, 1.5270306903403252e-05, 0.00029359618201851845, 0.0005734390579164028, 7.154411287046969e-05, 0.000158831593580544, 0.993094801902771, 0.0, 0.0, 0.0, 0.0, 0.0, 0.0, 0.0, 0.0, 0.0, 0.0, 0.0, 0.0, 0.0, 0.0, 0.0, 0.0], [0.00030641030753031373, 0.0004168012528680265, 0.00045197230065241456, 0.0001574639609316364, 0.0015800752444192767, 0.002266634488478303, 0.0001448363036615774, 0.002518878085538745, 4.471190186450258e-05, 0.0027394676581025124, 0.00043489778181537986, 0.00015683120000176132, 2.850576493074186e-05, 4.0058319427771494e-05, 0.0005936679663136601, 0.00011775231541832909, 0.00014039635425433517, 0.0001806040818337351, 0.0009641890646889806, 0.9867159128189087, 0.0, 0.0, 0.0, 0.0, 0.0, 0.0, 0.0, 0.0, 0.0, 0.0, 0.0, 0.0, 0.0, 0.0, 0.0], [0.009046890772879124, 0.0007260913262143731, 6.491791282314807e-05, 4.5782740926370025e-05, 3.6695309972856194e-05, 3.389698758837767e-05, 4.131332389079034e-05, 9.000136196846142e-05, 0.01616392657160759, 1.8953818653244525e-05, 3.351377745275386e-05, 0.002181082498282194, 5.34118134964956e-06, 0.018749477341771126, 0.00017897745419759303, 0.0004993696929886937, 0.002435566857457161, 4.271618672646582e-05, 7.329288200708106e-05, 1.915437496791128e-05, 0.9495130777359009, 0.0, 0.0, 0.0, 0.0, 0.0, 0.0, 0.0, 0.0, 0.0, 0.0, 0.0, 0.0, 0.0, 0.0], [0.00021946335618849844, 0.0011669585946947336, 0.00021983285841997713, 0.0009876308031380177, 0.0003133852151222527, 0.00012072665413143113, 5.631548447126988e-06, 2.4260116333607584e-05, 4.544206603895873e-05, 1.852963032433763e-05, 1.4025742530066054e-05, 1.0155007657886017e-05, 0.00040180329233407974, 4.0526505472371355e-05, 0.00017106760060414672, 9.869076166069135e-06, 9.488580872130115e-06, 0.00039310986176133156, 5.709419838240137e-06, 1.7844327885541134e-05, 2.853047044482082e-05, 0.9957762360572815, 0.0, 0.0, 0.0, 0.0, 0.0, 0.0, 0.0, 0.0, 0.0, 0.0, 0.0, 0.0, 0.0], [0.00019361003069207072, 0.0008434188785031438, 0.0005215298151597381, 2.5664587155915797e-05, 0.00046233192551881075, 0.00025401570019312203, 1.8471217117621563e-05, 0.00011509795149322599, 0.00027288994169794023, 0.00015436687681358308, 1.2149157555541024e-05, 0.0006913741817697883, 5.695979416486807e-05, 0.00024024784215725958, 3.827492764685303e-05, 9.934457921190187e-05, 0.0006488915532827377, 8.011747559066862e-05, 0.00019218817760702223, 2.5529448976158164e-05, 0.00032434772583656013, 0.0010871076956391335, 0.9936420321464539, 0.0, 0.0, 0.0, 0.0, 0.0, 0.0, 0.0, 0.0, 0.0, 0.0, 0.0, 0.0], [0.0016077638138085604, 0.17697341740131378, 0.015483593568205833, 0.00037138789775781333, 0.0003786339657381177, 0.00016452725685667247, 0.00032773803104646504, 0.00016989697178360075, 0.002122964011505246, 3.573099820641801e-05, 6.090145689086057e-05, 0.0004562164831440896, 1.544780570839066e-05, 0.002254315884783864, 0.001566688297316432, 0.00011843753600260243, 0.00046998896868899465, 5.037316441303119e-05, 0.00012108061491744593, 6.00896637479309e-05, 0.0008920576074160635, 0.0007518457714468241, 0.0002689966931939125, 0.7952779531478882, 0.0, 0.0, 0.0, 0.0, 0.0, 0.0, 0.0, 0.0, 0.0, 0.0, 0.0], [0.0003919861919712275, 0.0002142118028132245, 0.0005306116072461009, 1.0745785402832553e-05, 0.00011862367682624608, 4.225770680932328e-05, 0.00021160373580642045, 4.692550646723248e-05, 0.00044815760338678956, 0.00010691276838770136, 3.9354647014988586e-05, 0.0001683084265096113, 0.00017352349823340774, 0.00045245009823702276, 0.00014294112042989582, 0.00011699326569214463, 0.00017526779265608639, 0.0001011996137094684, 4.251386417308822e-05, 2.0371722712297924e-05, 3.837124313577078e-05, 0.00011344601080054417, 0.00025279269902966917, 6.991026020841673e-05, 0.9959704875946045, 0.0, 0.0, 0.0, 0.0, 0.0, 0.0, 0.0, 0.0, 0.0, 0.0], [0.00021530737285502255, 0.00010005858348449692, 0.0023809238336980343, 0.001983144087716937, 0.0011120140552520752, 5.563477679970674e-05, 0.0006109274108894169, 0.0002456440415699035, 8.819022332318127e-05, 0.0011510431068018079, 0.00010669918265193701, 0.0001755490229697898, 5.7362944062333554e-05, 7.814801210770383e-05, 0.0002457347291056067, 9.594687981007155e-06, 0.00017032408504746854, 2.897272861446254e-05, 1.4011739040142857e-05, 0.00016692126519046724, 1.2888881428807508e-05, 0.00024495579418726265, 0.0005147022311575711, 4.942118903272785e-05, 0.0005746569368056953, 0.9896071553230286, 0.0, 0.0, 0.0, 0.0, 0.0, 0.0, 0.0, 0.0, 0.0], [0.00011423427349654958, 0.0008627416682429612, 0.000773223873693496, 0.0007090762373991311, 0.0007292143418453634, 0.0014031633036211133, 0.00021403632126748562, 0.00017666495114099234, 6.622055661864579e-05, 3.2159430702449754e-05, 0.0004533063911367208, 0.00012008502380922437, 2.2129046556074172e-05, 5.8075194829143584e-05, 0.00012917457206640393, 1.9079687263001688e-05, 0.00011076675582444295, 8.56419592309976e-06, 2.363056773901917e-05, 0.0003379985282663256, 5.211896859691478e-05, 0.00014455695054493845, 0.00019694966613315046, 0.0004510532016865909, 2.0576262613758445e-05, 8.764310041442513e-05, 0.992683470249176, 0.0, 0.0, 0.0, 0.0, 0.0, 0.0, 0.0, 0.0], [0.0001979837688850239, 0.0001956797786988318, 0.0002261226618429646, 0.0004194370994810015, 0.0005979703273624182, 0.0004517444467637688, 0.00034782939474098384, 0.00025858148001134396, 2.8019958335789852e-05, 0.0007220019469968975, 0.00013010468683205545, 0.0011632080422714353, 6.916921847732738e-05, 2.4789154849713668e-05, 0.00010386025678599253, 0.00038124973070807755, 0.001158781349658966, 0.0003314453351777047, 0.00024494569515809417, 0.0001275519753107801, 0.0001609846658539027, 1.926793993334286e-05, 0.0002717423776630312, 2.0765592125826515e-05, 6.825080345151946e-05, 0.0008764266967773438, 0.0006782172131352127, 0.9907240271568298, 0.0, 0.0, 0.0, 0.0, 0.0, 0.0, 0.0], [3.1571831641485915e-05, 0.0006791099440306425, 0.0007090705330483615, 0.00024164812930393964, 0.00041205345769412816, 0.0009237409685738385, 0.00020848562417086214, 6.639286584686488e-05, 0.00011664818885037675, 8.601927402196452e-05, 0.010591293685138226, 0.00033729043207131326, 2.1898469640291296e-05, 0.00010110725997947156, 0.00010436082811793312, 5.858730946783908e-05, 0.0003251209855079651, 1.5854117009439506e-05, 5.033603883930482e-06, 0.0004094898758921772, 1.3119492905389052e-05, 5.313349174684845e-05, 1.188724854728207e-05, 5.536665776162408e-05, 1.2197682735859416e-05, 8.952644566306844e-05, 0.0022435467690229416, 0.0002104191662510857, 0.981866180896759, 0.0, 0.0, 0.0, 0.0, 0.0, 0.0], [0.0007582920952700078, 0.0012331446632742882, 8.604941103840247e-05, 6.29132628091611e-05, 2.8791733711841516e-05, 3.3166903449455276e-05, 7.622712291777134e-05, 0.00010868177923839539, 0.006450857501477003, 0.00014789080887567252, 1.0376486898167059e-05, 0.0023889716248959303, 7.88359175203368e-05, 0.007510701194405556, 0.00028743132133968174, 0.0001367574732284993, 0.00276029366068542, 0.0007447165553458035, 8.811101724859327e-05, 2.4702074369997717e-05, 0.0061888666823506355, 0.00011647059727692977, 0.0001724402973195538, 0.00026217513368465006, 0.0001841976190917194, 4.4321401219349355e-05, 4.855170482187532e-05, 8.903052366804332e-05, 2.688780296011828e-05, 0.9698501229286194, 0.0, 0.0, 0.0, 0.0, 0.0], [0.0002462745178490877, 0.00035919997026212513, 0.00020521935948636383, 9.387763566337526e-05, 8.57733903103508e-05, 5.495221557794139e-05, 4.531844024313614e-05, 1.0722179467848036e-05, 4.867117968387902e-05, 0.00011017628276022151, 0.00010064101661555469, 9.772254998097196e-05, 0.0005496825324371457, 4.362943582236767e-05, 3.945795469917357e-05, 7.140239904401824e-05, 9.814367513172328e-05, 5.700980909750797e-05, 2.4251154172816314e-05, 2.314569883310469e-06, 5.05694406456314e-05, 0.00011318502947688103, 0.0002906994486693293, 6.88997533870861e-05, 0.0006683265673927963, 0.0002321748179383576, 8.348721166839823e-06, 1.7434649635106325e-05, 1.027312009682646e-05, 0.00013885716907680035, 0.9960569143295288, 0.0, 0.0, 0.0, 0.0], [0.0001110592857003212, 3.5991637560073286e-05, 4.4160620745969936e-05, 0.00022596407507080585, 0.00024025874154176563, 1.7348986148135737e-05, 7.204312714748085e-05, 0.00023739035532344133, 8.274764695670456e-05, 0.00010178561933571473, 7.876398740336299e-06, 6.3918465457391e-05, 3.29521790263243e-05, 7.889204425737262e-05, 0.0001162747576017864, 7.139163244573865e-06, 6.571760604856536e-05, 5.396374945121352e-06, 8.334031008416787e-06, 1.9613918993854895e-05, 4.11063629144337e-05, 8.538004476577044e-05, 3.161620406899601e-05, 9.91701290331548e-06, 2.3832457372918725e-05, 0.0018293529283255339, 2.611126001283992e-05, 3.3135143894469365e-05, 1.4612752238463145e-05, 0.000854729616548866, 0.00016745176981203258, 0.995307981967926, 0.0, 0.0, 0.0], [0.0022552262526005507, 0.00046477504656650126, 0.0001228374312631786, 0.006661209277808666, 8.828952559269965e-05, 0.0002494279178790748, 0.0001755515404511243, 2.6563478968455456e-05, 0.004149137530475855, 0.00020833070448134094, 1.597335358383134e-05, 0.0007248213514685631, 1.2318059816607274e-05, 0.004929241258651018, 0.0007067761616781354, 2.746022437349893e-05, 0.0008252441766671836, 5.1487335440469906e-05, 9.107246114581358e-06, 0.0011701991315931082, 0.0011320497142150998, 0.00038722780300304294, 0.00010000279144151136, 0.0005395384505391121, 0.0001279767748201266, 7.418703171424568e-05, 0.0006351858610287309, 5.991850048303604e-05, 0.00020302319899201393, 0.02264123223721981, 7.111393642844632e-05, 0.003479852806776762, 0.9476746916770935, 0.0, 0.0], [0.00010488810949027538, 0.0005403981194831431, 0.0002700608456507325, 2.781994771794416e-05, 0.0008878532680682838, 0.00025317250401712954, 0.00029214046662673354, 0.0009951466927304864, 3.9432081393897533e-05, 6.531633698614314e-05, 5.1983330195071176e-05, 0.0006716341013088822, 1.95241482288111e-05, 3.796433884417638e-05, 0.00031547032995149493, 0.00015760320820845664, 0.0006809108308516443, 0.00017366735846735537, 0.00023275859712157398, 0.0004935202305205166, 0.00015254231402650476, 8.96886849659495e-05, 0.0014225798659026623, 0.00022503072977997363, 0.00015392254863400012, 0.00010696907702367753, 0.005650238133966923, 0.0008653235854580998, 0.0002874949714168906, 0.00013868501991964877, 1.4354172890307382e-05, 2.8161975933471695e-05, 0.00011612014350248501, 0.9844375848770142, 0.0], [0.0018830386688932776, 0.0002301394852111116, 7.19053641660139e-05, 3.7982904359523673e-06, 0.002256360137835145, 4.367969449958764e-05, 0.00012782943667843938, 0.0006368023459799588, 0.0005363993695937097, 5.325703114067437e-06, 7.917846960481256e-05, 2.601600681373384e-05, 1.125324433814967e-05, 0.0005611245869658887, 9.10379003471462e-06, 0.0002105222811223939, 2.689111715881154e-05, 3.242437742301263e-05, 0.00025939318584278226, 0.0004526666598394513, 0.001152099808678031, 1.149352829088457e-05, 4.818238448933698e-05, 0.0001057150075212121, 8.452797192148864e-05, 0.000100208621006459, 2.848373151209671e-05, 2.041544757958036e-05, 1.8022952872343012e-06, 7.62895360821858e-05, 4.604330752044916e-05, 9.973573469324037e-05, 5.258398232399486e-06, 0.0001948850112967193, 0.9905609488487244]], [[1.0, 0.0, 0.0, 0.0, 0.0, 0.0, 0.0, 0.0, 0.0, 0.0, 0.0, 0.0, 0.0, 0.0, 0.0, 0.0, 0.0, 0.0, 0.0, 0.0, 0.0, 0.0, 0.0, 0.0, 0.0, 0.0, 0.0, 0.0, 0.0, 0.0, 0.0, 0.0, 0.0, 0.0, 0.0], [0.9424744844436646, 0.05752559006214142, 0.0, 0.0, 0.0, 0.0, 0.0, 0.0, 0.0, 0.0, 0.0, 0.0, 0.0, 0.0, 0.0, 0.0, 0.0, 0.0, 0.0, 0.0, 0.0, 0.0, 0.0, 0.0, 0.0, 0.0, 0.0, 0.0, 0.0, 0.0, 0.0, 0.0, 0.0, 0.0, 0.0], [0.8506749868392944, 0.09740975499153137, 0.05191531404852867, 0.0, 0.0, 0.0, 0.0, 0.0, 0.0, 0.0, 0.0, 0.0, 0.0, 0.0, 0.0, 0.0, 0.0, 0.0, 0.0, 0.0, 0.0, 0.0, 0.0, 0.0, 0.0, 0.0, 0.0, 0.0, 0.0, 0.0, 0.0, 0.0, 0.0, 0.0, 0.0], [0.7641513347625732, 0.10970377922058105, 0.07497040182352066, 0.05117451772093773, 0.0, 0.0, 0.0, 0.0, 0.0, 0.0, 0.0, 0.0, 0.0, 0.0, 0.0, 0.0, 0.0, 0.0, 0.0, 0.0, 0.0, 0.0, 0.0, 0.0, 0.0, 0.0, 0.0, 0.0, 0.0, 0.0, 0.0, 0.0, 0.0, 0.0, 0.0], [0.6748191714286804, 0.08416195213794708, 0.0547025091946125, 0.07581547647714615, 0.11050092428922653, 0.0, 0.0, 0.0, 0.0, 0.0, 0.0, 0.0, 0.0, 0.0, 0.0, 0.0, 0.0, 0.0, 0.0, 0.0, 0.0, 0.0, 0.0, 0.0, 0.0, 0.0, 0.0, 0.0, 0.0, 0.0, 0.0, 0.0, 0.0, 0.0, 0.0], [0.6857606172561646, 0.08229530602693558, 0.05202116817235947, 0.08139176666736603, 0.04085881635546684, 0.05767225846648216, 0.0, 0.0, 0.0, 0.0, 0.0, 0.0, 0.0, 0.0, 0.0, 0.0, 0.0, 0.0, 0.0, 0.0, 0.0, 0.0, 0.0, 0.0, 0.0, 0.0, 0.0, 0.0, 0.0, 0.0, 0.0, 0.0, 0.0, 0.0, 0.0], [0.6174606084823608, 0.056534525007009506, 0.09111698716878891, 0.06854882091283798, 0.06338420510292053, 0.03596973046660423, 0.066985122859478, 0.0, 0.0, 0.0, 0.0, 0.0, 0.0, 0.0, 0.0, 0.0, 0.0, 0.0, 0.0, 0.0, 0.0, 0.0, 0.0, 0.0, 0.0, 0.0, 0.0, 0.0, 0.0, 0.0, 0.0, 0.0, 0.0, 0.0, 0.0], [0.6047280430793762, 0.060889679938554764, 0.05921148881316185, 0.0955815464258194, 0.04265914484858513, 0.03184344619512558, 0.042630624026060104, 0.06245604529976845, 0.0, 0.0, 0.0, 0.0, 0.0, 0.0, 0.0, 0.0, 0.0, 0.0, 0.0, 0.0, 0.0, 0.0, 0.0, 0.0, 0.0, 0.0, 0.0, 0.0, 0.0, 0.0, 0.0, 0.0, 0.0, 0.0, 0.0], [0.4008437991142273, 0.07533576339483261, 0.042708396911621094, 0.011760721914470196, 0.02668055146932602, 0.013492075726389885, 0.02846546284854412, 0.013900602236390114, 0.38681259751319885, 0.0, 0.0, 0.0, 0.0, 0.0, 0.0, 0.0, 0.0, 0.0, 0.0, 0.0, 0.0, 0.0, 0.0, 0.0, 0.0, 0.0, 0.0, 0.0, 0.0, 0.0, 0.0, 0.0, 0.0, 0.0, 0.0], [0.49680253863334656, 0.06792879849672318, 0.05792005732655525, 0.07101526111364365, 0.06963258236646652, 0.018800105899572372, 0.06757565587759018, 0.06346485763788223, 0.06656692922115326, 0.020293202251195908, 0.0, 0.0, 0.0, 0.0, 0.0, 0.0, 0.0, 0.0, 0.0, 0.0, 0.0, 0.0, 0.0, 0.0, 0.0, 0.0, 0.0, 0.0, 0.0, 0.0, 0.0, 0.0, 0.0, 0.0, 0.0], [0.5176077485084534, 0.08289013057947159, 0.05239769443869591, 0.06842365115880966, 0.046088315546512604, 0.026865974068641663, 0.08181487023830414, 0.032308369874954224, 0.05516275390982628, 0.018549641594290733, 0.017890889197587967, 0.0, 0.0, 0.0, 0.0, 0.0, 0.0, 0.0, 0.0, 0.0, 0.0, 0.0, 0.0, 0.0, 0.0, 0.0, 0.0, 0.0, 0.0, 0.0, 0.0, 0.0, 0.0, 0.0, 0.0], [0.3038181960582733, 0.03185645118355751, 0.02915768325328827, 0.011053643189370632, 0.013536769896745682, 0.016536910086870193, 0.01518196053802967, 0.015511734411120415, 0.02629498578608036, 0.016890987753868103, 0.011886654421687126, 0.5082740783691406, 0.0, 0.0, 0.0, 0.0, 0.0, 0.0, 0.0, 0.0, 0.0, 0.0, 0.0, 0.0, 0.0, 0.0, 0.0, 0.0, 0.0, 0.0, 0.0, 0.0, 0.0, 0.0, 0.0], [0.35859882831573486, 0.07880906760692596, 0.05902862921357155, 0.044458650052547455, 0.07822325825691223, 0.01967952400445938, 0.05133119598031044, 0.040098391473293304, 0.08024685829877853, 0.02781190723180771, 0.010250605642795563, 0.13610361516475677, 0.01535945013165474, 0.0, 0.0, 0.0, 0.0, 0.0, 0.0, 0.0, 0.0, 0.0, 0.0, 0.0, 0.0, 0.0, 0.0, 0.0, 0.0, 0.0, 0.0, 0.0, 0.0, 0.0, 0.0], [0.25116774439811707, 0.04623398184776306, 0.027838535606861115, 0.007056491449475288, 0.01724417693912983, 0.008997936733067036, 0.017309950664639473, 0.00992414727807045, 0.2527511417865753, 0.01277830172330141, 0.008546070195734501, 0.04791996255517006, 0.006098267622292042, 0.2861333191394806, 0.0, 0.0, 0.0, 0.0, 0.0, 0.0, 0.0, 0.0, 0.0, 0.0, 0.0, 0.0, 0.0, 0.0, 0.0, 0.0, 0.0, 0.0, 0.0, 0.0, 0.0], [0.39800775051116943, 0.06433820724487305, 0.04979853332042694, 0.05949564650654793, 0.03182113170623779, 0.030714750289916992, 0.05899553373456001, 0.054803889244794846, 0.039193715900182724, 0.03556447848677635, 0.02491646260023117, 0.04571932554244995, 0.01667165569961071, 0.038943100720644, 0.05101582780480385, 0.0, 0.0, 0.0, 0.0, 0.0, 0.0, 0.0, 0.0, 0.0, 0.0, 0.0, 0.0, 0.0, 0.0, 0.0, 0.0, 0.0, 0.0, 0.0, 0.0], [0.39033836126327515, 0.07549390941858292, 0.03844674676656723, 0.0436677560210228, 0.017820751294493675, 0.01271219365298748, 0.045307233929634094, 0.03603019565343857, 0.0421706959605217, 0.01675304025411606, 0.042248670011758804, 0.050923414528369904, 0.03077206201851368, 0.040720824152231216, 0.05648886039853096, 0.06010527163743973, 0.0, 0.0, 0.0, 0.0, 0.0, 0.0, 0.0, 0.0, 0.0, 0.0, 0.0, 0.0, 0.0, 0.0, 0.0, 0.0, 0.0, 0.0, 0.0], [0.1818234771490097, 0.018224777653813362, 0.01747789792716503, 0.006372255738824606, 0.007922586053609848, 0.010062886402010918, 0.008703154511749744, 0.01029747910797596, 0.015354444272816181, 0.011538185179233551, 0.007091041188687086, 0.31395548582077026, 0.006019816733896732, 0.01588757149875164, 0.01542199868708849, 0.013188587501645088, 0.34065836668014526, 0.0, 0.0, 0.0, 0.0, 0.0, 0.0, 0.0, 0.0, 0.0, 0.0, 0.0, 0.0, 0.0, 0.0, 0.0, 0.0, 0.0, 0.0], [0.2388143241405487, 0.07684364914894104, 0.04843556880950928, 0.02831975929439068, 0.04297621548175812, 0.01943075656890869, 0.033217206597328186, 0.027472930029034615, 0.018975934013724327, 0.04046747460961342, 0.020095601677894592, 0.058573171496391296, 0.03530573472380638, 0.019691895693540573, 0.0970376655459404, 0.03909808024764061, 0.0619945153594017, 0.09324944019317627, 0.0, 0.0, 0.0, 0.0, 0.0, 0.0, 0.0, 0.0, 0.0, 0.0, 0.0, 0.0, 0.0, 0.0, 0.0, 0.0, 0.0], [0.3563612401485443, 0.043545354157686234, 0.054393719881772995, 0.03599719703197479, 0.055608734488487244, 0.03285680338740349, 0.01944383978843689, 0.06911692768335342, 0.020649442449212074, 0.03360533341765404, 0.027618741616606712, 0.03407999873161316, 0.02684745192527771, 0.020337307825684547, 0.022298937663435936, 0.03622739017009735, 0.03464473783969879, 0.02265501208603382, 0.053711920976638794, 0.0, 0.0, 0.0, 0.0, 0.0, 0.0, 0.0, 0.0, 0.0, 0.0, 0.0, 0.0, 0.0, 0.0, 0.0, 0.0], [0.3967010974884033, 0.05178237333893776, 0.03996194526553154, 0.06630747765302658, 0.04557183012366295, 0.023983405902981758, 0.01939675211906433, 0.021365975961089134, 0.02025379054248333, 0.03685583919286728, 0.009492045268416405, 0.04181000217795372, 0.014498687349259853, 0.01978372596204281, 0.02971523627638817, 0.046315472573041916, 0.04246640205383301, 0.03147520869970322, 0.022027645260095596, 0.020235052332282066, 0.0, 0.0, 0.0, 0.0, 0.0, 0.0, 0.0, 0.0, 0.0, 0.0, 0.0, 0.0, 0.0, 0.0, 0.0], [0.2315138727426529, 0.13258197903633118, 0.060261014848947525, 0.011383593082427979, 0.024262716993689537, 0.01455347053706646, 0.01697956770658493, 0.013957403600215912, 0.022475892677903175, 0.02772127464413643, 0.020607074722647667, 0.040846869349479675, 0.027723217383027077, 0.024550702422857285, 0.03857916221022606, 0.04770102724432945, 0.04407108575105667, 0.07720751315355301, 0.046044718474149704, 0.047733474522829056, 0.02924431301653385, 0.0, 0.0, 0.0, 0.0, 0.0, 0.0, 0.0, 0.0, 0.0, 0.0, 0.0, 0.0, 0.0, 0.0], [0.20264166593551636, 0.04893087223172188, 0.038946788758039474, 0.026632273569703102, 0.040943484753370285, 0.016175059601664543, 0.04388013854622841, 0.049273084849119186, 0.037442903965711594, 0.018747957423329353, 0.010438335128128529, 0.030274203047156334, 0.011668814346194267, 0.039159003645181656, 0.08361909538507462, 0.02680652216076851, 0.03237594664096832, 0.026771076023578644, 0.04136868938803673, 0.04380553588271141, 0.09921547770500183, 0.030883004888892174, 0.0, 0.0, 0.0, 0.0, 0.0, 0.0, 0.0, 0.0, 0.0, 0.0, 0.0, 0.0, 0.0], [0.22999970614910126, 0.029275381937623024, 0.02482367306947708, 0.030747532844543457, 0.02443976327776909, 0.025078171864151955, 0.019048282876610756, 0.041617508977651596, 0.02524641901254654, 0.05536344647407532, 0.013840345665812492, 0.03206312283873558, 0.023373717442154884, 0.026896368712186813, 0.03765583410859108, 0.02870967984199524, 0.03498141095042229, 0.038269270211458206, 0.05304878577589989, 0.07750780135393143, 0.042357493191957474, 0.06297057867050171, 0.022685661911964417, 0.0, 0.0, 0.0, 0.0, 0.0, 0.0, 0.0, 0.0, 0.0, 0.0, 0.0, 0.0], [0.2523007392883301, 0.04309260472655296, 0.047794319689273834, 0.02153482474386692, 0.05364763364195824, 0.014357617124915123, 0.016968198120594025, 0.012399845756590366, 0.028107943013310432, 0.02296457253396511, 0.01363728754222393, 0.034624334424734116, 0.013057565316557884, 0.029753556475043297, 0.025925682857632637, 0.03689543530344963, 0.036465857177972794, 0.020091179758310318, 0.03424843028187752, 0.0322706401348114, 0.07516518980264664, 0.03381401672959328, 0.05794451758265495, 0.042938098311424255, 0.0, 0.0, 0.0, 0.0, 0.0, 0.0, 0.0, 0.0, 0.0, 0.0, 0.0], [0.24815595149993896, 0.04183841124176979, 0.037253525108098984, 0.0199141763150692, 0.060311753302812576, 0.013761515729129314, 0.010237009264528751, 0.027118351310491562, 0.021247470751404762, 0.014996420592069626, 0.015956399962306023, 0.019741922616958618, 0.016942843794822693, 0.022782407701015472, 0.02115940861403942, 0.01341979019343853, 0.02113156020641327, 0.015880092978477478, 0.038515765219926834, 0.03509927913546562, 0.06386468559503555, 0.042158909142017365, 0.055951789021492004, 0.06510590761899948, 0.057454664260149, 0.0, 0.0, 0.0, 0.0, 0.0, 0.0, 0.0, 0.0, 0.0, 0.0], [0.24590614438056946, 0.03979460522532463, 0.03405002877116203, 0.03872010484337807, 0.028344355523586273, 0.024568285793066025, 0.013687246479094028, 0.019880935549736023, 0.017507942393422127, 0.04131215810775757, 0.024649064987897873, 0.017028069123625755, 0.015493776649236679, 0.018039902672171593, 0.028712529689073563, 0.008945333771407604, 0.017858806997537613, 0.0298465546220541, 0.026982223615050316, 0.0611925907433033, 0.03972143679857254, 0.040086906403303146, 0.046563807874917984, 0.04659207910299301, 0.04635816812515259, 0.0281569492071867, 0.0, 0.0, 0.0, 0.0, 0.0, 0.0, 0.0, 0.0, 0.0], [0.24299508333206177, 0.030936650931835175, 0.03728111833333969, 0.029979780316352844, 0.03951823338866234, 0.02068973518908024, 0.02446378394961357, 0.016162263229489326, 0.02351461723446846, 0.015184123069047928, 0.009779493324458599, 0.010400431230664253, 0.008830743841826916, 0.023988919332623482, 0.02441922016441822, 0.03784202039241791, 0.01058998703956604, 0.013367557898163795, 0.016263322904706, 0.09984057396650314, 0.02563280612230301, 0.027902815490961075, 0.05468781664967537, 0.03170407935976982, 0.027479585260152817, 0.016517244279384613, 0.08002805709838867, 0.0, 0.0, 0.0, 0.0, 0.0, 0.0, 0.0, 0.0], [0.24383299052715302, 0.021781545132398605, 0.019058484584093094, 0.026608383283019066, 0.037405602633953094, 0.027086637914180756, 0.0050316075794398785, 0.02665605954825878, 0.017429357394576073, 0.028662443161010742, 0.012151005677878857, 0.030223235487937927, 0.014068305492401123, 0.018160903826355934, 0.015435302630066872, 0.01572183333337307, 0.03215305134654045, 0.02497299574315548, 0.047933779656887054, 0.045990001410245895, 0.031192155554890633, 0.03841527923941612, 0.03788125887513161, 0.034722279757261276, 0.03550751134753227, 0.033360376954078674, 0.054608024656772614, 0.023949556052684784, 0.0, 0.0, 0.0, 0.0, 0.0, 0.0, 0.0], [0.308788001537323, 0.04082435742020607, 0.01076616533100605, 0.02708975411951542, 0.019433287903666496, 0.033555496484041214, 0.010839528404176235, 0.011495564132928848, 0.011286412365734577, 0.019319292157888412, 0.03442363440990448, 0.010595875792205334, 0.019463734701275826, 0.011577975004911423, 0.014172402210533619, 0.02159341610968113, 0.01056914683431387, 0.01821252517402172, 0.007991211488842964, 0.05231864005327225, 0.019707784056663513, 0.03532518073916435, 0.029598264023661613, 0.028512977063655853, 0.021019769832491875, 0.018976129591464996, 0.03100793994963169, 0.017736954614520073, 0.10379862785339355, 0.0, 0.0, 0.0, 0.0, 0.0, 0.0], [0.11270301043987274, 0.013211614452302456, 0.015115472488105297, 0.008062331937253475, 0.01807505264878273, 0.020267320796847343, 0.009121792390942574, 0.02165439911186695, 0.024600302800536156, 0.012220283970236778, 0.005230676848441362, 0.0211951844394207, 0.007505754474550486, 0.027240080758929253, 0.016828976571559906, 0.009307201020419598, 0.02377413772046566, 0.009840189479291439, 0.023520398885011673, 0.01809619925916195, 0.11592714488506317, 0.008296082727611065, 0.01503843255341053, 0.016261830925941467, 0.022837145254015923, 0.007970290258526802, 0.010346001014113426, 0.01360128354281187, 0.009923161007463932, 0.36222824454307556, 0.0, 0.0, 0.0, 0.0, 0.0], [0.19907146692276, 0.023352956399321556, 0.02753550000488758, 0.020741203799843788, 0.04944240674376488, 0.0396454855799675, 0.011580484919250011, 0.03849604353308678, 0.0122127216309309, 0.012634871527552605, 0.018897850066423416, 0.011502725072205067, 0.01441795565187931, 0.012855133973062038, 0.01591629907488823, 0.009284352883696556, 0.011929095722734928, 0.014574799686670303, 0.029562367126345634, 0.030921468511223793, 0.0493488647043705, 0.026833007112145424, 0.03316975757479668, 0.026513906195759773, 0.038417816162109375, 0.036665916442871094, 0.03740686923265457, 0.0374491885304451, 0.0418136902153492, 0.04080501198768616, 0.027000792324543, 0.0, 0.0, 0.0, 0.0], [0.1358085572719574, 0.021598195657134056, 0.028431450948119164, 0.0213667843490839, 0.03184177353978157, 0.028310757130384445, 0.011232445016503334, 0.016139330342411995, 0.023436736315488815, 0.02514428086578846, 0.012804524973034859, 0.01200049463659525, 0.020912274718284607, 0.025003306567668915, 0.02769222855567932, 0.017305931076407433, 0.012859734706580639, 0.016066309064626694, 0.03279002010822296, 0.03829028829932213, 0.06080477684736252, 0.03674996644258499, 0.035247329622507095, 0.03857799991965294, 0.03904816135764122, 0.036643385887145996, 0.014530444517731667, 0.021632280200719833, 0.01049100048840046, 0.06733927875757217, 0.03867284208536148, 0.041227102279663086, 0.0, 0.0, 0.0], [0.13088135421276093, 0.023744337260723114, 0.020114338025450706, 0.009702390059828758, 0.0269522275775671, 0.0135911013931036, 0.00951752346009016, 0.01327170617878437, 0.027617916464805603, 0.011498382315039635, 0.008886135183274746, 0.016865810379385948, 0.009971977211534977, 0.03131860867142677, 0.014953812584280968, 0.015636591240763664, 0.01875588484108448, 0.008822464384138584, 0.024258321151137352, 0.018599875271320343, 0.06659717857837677, 0.023935342207551003, 0.030215030536055565, 0.038479723036289215, 0.060547858476638794, 0.038860976696014404, 0.021039573475718498, 0.026919955387711525, 0.030786722898483276, 0.0633939579129219, 0.053022921085357666, 0.07499749958515167, 0.01624254137277603, 0.0, 0.0], [0.21679529547691345, 0.035239409655332565, 0.014480574987828732, 0.03231680393218994, 0.021502701565623283, 0.019766859710216522, 0.0077169667929410934, 0.03142577037215233, 0.011421252973377705, 0.03985080495476723, 0.0056975469924509525, 0.013826764188706875, 0.01121772825717926, 0.011028868146240711, 0.014342347159981728, 0.01669159345328808, 0.013800653629004955, 0.009054168127477169, 0.016551578417420387, 0.04516450688242912, 0.01674339734017849, 0.04049498587846756, 0.04600658640265465, 0.03918025642633438, 0.020771794021129608, 0.042418356984853745, 0.02944405935704708, 0.016546528786420822, 0.0433904267847538, 0.018028810620307922, 0.01749301329255104, 0.03195444121956825, 0.023179978132247925, 0.026455214247107506, 0.0], [0.12406578660011292, 0.055755212903022766, 0.025793112814426422, 0.007745691575109959, 0.019214719533920288, 0.011872394941747189, 0.009303722530603409, 0.015842610970139503, 0.01272842288017273, 0.012888259254395962, 0.013962873257696629, 0.016627250239253044, 0.015507102943956852, 0.013195213861763477, 0.017325088381767273, 0.02114798128604889, 0.017335491254925728, 0.015824297443032265, 0.024794375523924828, 0.01190304197371006, 0.03651024028658867, 0.023874739184975624, 0.04022134840488434, 0.0628603920340538, 0.10149352252483368, 0.053322602063417435, 0.02168962173163891, 0.018244286999106407, 0.008406986482441425, 0.023202279582619667, 0.049604155123233795, 0.0208692979067564, 0.016017960384488106, 0.011101935990154743, 0.04974794015288353]], [[1.0, 0.0, 0.0, 0.0, 0.0, 0.0, 0.0, 0.0, 0.0, 0.0, 0.0, 0.0, 0.0, 0.0, 0.0, 0.0, 0.0, 0.0, 0.0, 0.0, 0.0, 0.0, 0.0, 0.0, 0.0, 0.0, 0.0, 0.0, 0.0, 0.0, 0.0, 0.0, 0.0, 0.0, 0.0], [0.1077800765633583, 0.8922199010848999, 0.0, 0.0, 0.0, 0.0, 0.0, 0.0, 0.0, 0.0, 0.0, 0.0, 0.0, 0.0, 0.0, 0.0, 0.0, 0.0, 0.0, 0.0, 0.0, 0.0, 0.0, 0.0, 0.0, 0.0, 0.0, 0.0, 0.0, 0.0, 0.0, 0.0, 0.0, 0.0, 0.0], [0.01184743270277977, 0.5536142587661743, 0.4345382750034332, 0.0, 0.0, 0.0, 0.0, 0.0, 0.0, 0.0, 0.0, 0.0, 0.0, 0.0, 0.0, 0.0, 0.0, 0.0, 0.0, 0.0, 0.0, 0.0, 0.0, 0.0, 0.0, 0.0, 0.0, 0.0, 0.0, 0.0, 0.0, 0.0, 0.0, 0.0, 0.0], [0.06322263181209564, 0.02171914651989937, 0.09427288919687271, 0.820785403251648, 0.0, 0.0, 0.0, 0.0, 0.0, 0.0, 0.0, 0.0, 0.0, 0.0, 0.0, 0.0, 0.0, 0.0, 0.0, 0.0, 0.0, 0.0, 0.0, 0.0, 0.0, 0.0, 0.0, 0.0, 0.0, 0.0, 0.0, 0.0, 0.0, 0.0, 0.0], [0.0050957403145730495, 0.0005348753184080124, 0.0010105484398081899, 0.004657561890780926, 0.9887012243270874, 0.0, 0.0, 0.0, 0.0, 0.0, 0.0, 0.0, 0.0, 0.0, 0.0, 0.0, 0.0, 0.0, 0.0, 0.0, 0.0, 0.0, 0.0, 0.0, 0.0, 0.0, 0.0, 0.0, 0.0, 0.0, 0.0, 0.0, 0.0, 0.0, 0.0], [0.005585960578173399, 0.00030240067280828953, 0.0007955087348818779, 0.000678032694850117, 0.028760123997926712, 0.9638778567314148, 0.0, 0.0, 0.0, 0.0, 0.0, 0.0, 0.0, 0.0, 0.0, 0.0, 0.0, 0.0, 0.0, 0.0, 0.0, 0.0, 0.0, 0.0, 0.0, 0.0, 0.0, 0.0, 0.0, 0.0, 0.0, 0.0, 0.0, 0.0, 0.0], [0.00026657318812794983, 0.00015396192611660808, 4.344207627582364e-05, 0.0003163387009408325, 0.007582381833344698, 0.008635700680315495, 0.9830015897750854, 0.0, 0.0, 0.0, 0.0, 0.0, 0.0, 0.0, 0.0, 0.0, 0.0, 0.0, 0.0, 0.0, 0.0, 0.0, 0.0, 0.0, 0.0, 0.0, 0.0, 0.0, 0.0, 0.0, 0.0, 0.0, 0.0, 0.0, 0.0], [0.0006940618040971458, 4.833174170926213e-05, 4.511346196522936e-05, 2.3520820832345635e-05, 0.0022377674467861652, 0.0012080527376383543, 0.00932135060429573, 0.9864218235015869, 0.0, 0.0, 0.0, 0.0, 0.0, 0.0, 0.0, 0.0, 0.0, 0.0, 0.0, 0.0, 0.0, 0.0, 0.0, 0.0, 0.0, 0.0, 0.0, 0.0, 0.0, 0.0, 0.0, 0.0, 0.0, 0.0, 0.0], [0.04771992191672325, 0.006346914917230606, 0.00550762377679348, 0.01277671568095684, 0.012552591040730476, 0.012200531549751759, 0.007760600186884403, 0.017114846035838127, 0.8780203461647034, 0.0, 0.0, 0.0, 0.0, 0.0, 0.0, 0.0, 0.0, 0.0, 0.0, 0.0, 0.0, 0.0, 0.0, 0.0, 0.0, 0.0, 0.0, 0.0, 0.0, 0.0, 0.0, 0.0, 0.0, 0.0, 0.0], [9.403772128280252e-05, 7.299113349290565e-07, 1.2948535186296795e-06, 1.0040562301583122e-06, 1.519241322966991e-05, 3.6095214454689994e-05, 3.1514402508037165e-05, 0.0010808248771354556, 4.23684214183595e-05, 0.9986969828605652, 0.0, 0.0, 0.0, 0.0, 0.0, 0.0, 0.0, 0.0, 0.0, 0.0, 0.0, 0.0, 0.0, 0.0, 0.0, 0.0, 0.0, 0.0, 0.0, 0.0, 0.0, 0.0, 0.0, 0.0, 0.0], [0.0002984424354508519, 1.0225197911495343e-05, 2.0773897631443106e-05, 1.0716742508520838e-05, 7.453835860360414e-05, 0.00016580577357672155, 0.0013668611645698547, 0.0025834853295236826, 5.024065467296168e-05, 0.32439541816711426, 0.6710234880447388, 0.0, 0.0, 0.0, 0.0, 0.0, 0.0, 0.0, 0.0, 0.0, 0.0, 0.0, 0.0, 0.0, 0.0, 0.0, 0.0, 0.0, 0.0, 0.0, 0.0, 0.0, 0.0, 0.0, 0.0], [0.009233685210347176, 0.0007820433820597827, 0.0006810434279032052, 0.0018207868561148643, 0.004383384250104427, 0.01750914193689823, 0.0033242504578083754, 0.0176074355840683, 0.08099663257598877, 0.10943040251731873, 0.014291892759501934, 0.739939272403717, 0.0, 0.0, 0.0, 0.0, 0.0, 0.0, 0.0, 0.0, 0.0, 0.0, 0.0, 0.0, 0.0, 0.0, 0.0, 0.0, 0.0, 0.0, 0.0, 0.0, 0.0, 0.0, 0.0], [0.0002393028262304142, 3.3237884053960443e-06, 2.2832771719549783e-05, 1.024475659505697e-05, 1.0253623258904554e-05, 4.496401743381284e-05, 2.3576663807034492e-05, 6.216613837750629e-05, 0.0003292950859759003, 0.00874954555183649, 0.0018788711167871952, 0.0014183459570631385, 0.9872072339057922, 0.0, 0.0, 0.0, 0.0, 0.0, 0.0, 0.0, 0.0, 0.0, 0.0, 0.0, 0.0, 0.0, 0.0, 0.0, 0.0, 0.0, 0.0, 0.0, 0.0, 0.0, 0.0], [0.012295344844460487, 0.00052986218361184, 0.00035605087759904563, 0.0006006708135828376, 0.0005327538819983602, 0.0005349717102944851, 0.0003473354154266417, 0.0008671171381138265, 0.0343230739235878, 0.013273642398416996, 0.0075311982072889805, 0.05941793695092201, 0.09377510845661163, 0.7756149768829346, 0.0, 0.0, 0.0, 0.0, 0.0, 0.0, 0.0, 0.0, 0.0, 0.0, 0.0, 0.0, 0.0, 0.0, 0.0, 0.0, 0.0, 0.0, 0.0, 0.0, 0.0], [7.850865949876606e-05, 1.1863337022077758e-05, 5.970525307930075e-06, 4.359456397651229e-06, 6.933034455869347e-06, 5.567315383814275e-05, 8.762012839724775e-06, 2.212998879258521e-05, 0.00022238277597352862, 0.0002802498056553304, 0.0008127255132421851, 0.00156772683840245, 0.0001895637542475015, 0.005879404954612255, 0.9908537864685059, 0.0, 0.0, 0.0, 0.0, 0.0, 0.0, 0.0, 0.0, 0.0, 0.0, 0.0, 0.0, 0.0, 0.0, 0.0, 0.0, 0.0, 0.0, 0.0, 0.0], [9.475036495132372e-05, 8.603485184721649e-06, 3.7448662624228746e-06, 1.4634224498877302e-07, 2.701746780076064e-06, 1.1417381756473333e-05, 8.620847438578494e-06, 9.92812420008704e-05, 3.1195199881040026e-06, 0.0002262087509734556, 0.0005323365912772715, 2.9804945370415226e-05, 0.0013675682712346315, 5.10801219206769e-05, 0.009570839814841747, 0.9879898428916931, 0.0, 0.0, 0.0, 0.0, 0.0, 0.0, 0.0, 0.0, 0.0, 0.0, 0.0, 0.0, 0.0, 0.0, 0.0, 0.0, 0.0, 0.0, 0.0], [0.003944707568734884, 0.0001302912860410288, 9.947702346835285e-05, 0.00019776368571911007, 0.00042658456368371844, 0.001488982466980815, 0.0002834682527463883, 0.0015356708317995071, 0.004810086917132139, 0.005567722022533417, 0.0010473583824932575, 0.04082651808857918, 0.00918902363628149, 0.09278509765863419, 0.01585301011800766, 0.027940865606069565, 0.7938734292984009, 0.0, 0.0, 0.0, 0.0, 0.0, 0.0, 0.0, 0.0, 0.0, 0.0, 0.0, 0.0, 0.0, 0.0, 0.0, 0.0, 0.0, 0.0], [0.000217236447497271, 2.3531203623861074e-05, 7.806291250744835e-06, 4.732958132080967e-06, 1.5671221262891777e-06, 8.667418114782777e-06, 1.264625825569965e-05, 6.129276880528778e-05, 0.00018869456835091114, 0.000590130512136966, 0.00042056661914102733, 0.0009746518917381763, 0.00042177739669568837, 0.004066709894686937, 0.0014422440435737371, 0.011960023082792759, 0.022401941940188408, 0.9571956396102905, 0.0, 0.0, 0.0, 0.0, 0.0, 0.0, 0.0, 0.0, 0.0, 0.0, 0.0, 0.0, 0.0, 0.0, 0.0, 0.0, 0.0], [0.0007360460003837943, 3.0168214379955316e-06, 1.355473841613275e-06, 1.401471877215954e-06, 3.387708784430288e-05, 3.752295015146956e-05, 1.0748701242846437e-05, 0.0004302706802263856, 1.6196763681364246e-05, 0.0006748269079253078, 0.0005265927757136524, 0.00012409142800606787, 4.71071653009858e-05, 0.00024138184380717576, 0.0006886586197651923, 0.0003870207874570042, 0.002144154626876116, 0.0017651690868660808, 0.9921305775642395, 0.0, 0.0, 0.0, 0.0, 0.0, 0.0, 0.0, 0.0, 0.0, 0.0, 0.0, 0.0, 0.0, 0.0, 0.0, 0.0], [6.5298086155962665e-06, 4.0131671319443285e-09, 4.275882758975058e-09, 9.052354421612563e-09, 5.135171932124649e-07, 3.731763172254432e-06, 1.4824254890299926e-07, 4.6551231207558885e-06, 1.663049964406582e-08, 3.029677600352443e-06, 3.191981159034185e-05, 1.401744071927169e-07, 4.954933956469176e-07, 2.367105196299235e-07, 7.952932605803653e-07, 0.00018607293895911425, 2.446671032885206e-06, 1.1982287105638534e-05, 0.0005082334391772747, 0.9992390871047974, 0.0, 0.0, 0.0, 0.0, 0.0, 0.0, 0.0, 0.0, 0.0, 0.0, 0.0, 0.0, 0.0, 0.0, 0.0], [0.00941789522767067, 0.00017362421203870326, 0.00019593218166846782, 0.00010542457312112674, 0.00012100111780455336, 0.00013750349171459675, 0.00020822350052185357, 0.0002620878804009408, 0.0009803806897252798, 0.00017425206897314638, 0.0013313917443156242, 0.003277306444942951, 0.004840624053031206, 0.012378803454339504, 0.0018259006319567561, 0.0242820605635643, 0.05479966476559639, 0.0742848590016365, 0.07759273052215576, 0.10845343768596649, 0.6251569390296936, 0.0, 0.0, 0.0, 0.0, 0.0, 0.0, 0.0, 0.0, 0.0, 0.0, 0.0, 0.0, 0.0, 0.0], [0.00017886343994177878, 2.971785306726815e-06, 1.2879229416284943e-06, 1.6619725329292123e-06, 3.153403667965904e-06, 7.6085689215688035e-06, 4.4805801735492423e-07, 4.628855549526634e-06, 4.462080141820479e-06, 4.640824954549316e-06, 4.678133336710744e-06, 2.2255213480093516e-05, 0.0006885047187097371, 5.880861499463208e-05, 5.511297786142677e-05, 0.0013147693825885653, 0.0004210418846923858, 0.0005279291071929038, 0.00030591600807383657, 0.0011363041121512651, 0.004935148172080517, 0.9903199076652527, 0.0, 0.0, 0.0, 0.0, 0.0, 0.0, 0.0, 0.0, 0.0, 0.0, 0.0, 0.0, 0.0], [0.0009000832214951515, 3.460912193986587e-05, 6.0000929806847125e-06, 1.3317927596290247e-06, 8.38242340250872e-06, 7.950196959427558e-06, 8.352987492799002e-07, 5.017455350753153e-06, 1.1085563528467901e-05, 1.5506211639149114e-05, 2.244969073217362e-05, 3.239461875637062e-05, 7.153389742597938e-05, 0.00011106161400675774, 6.552057584485738e-06, 3.557855961844325e-05, 0.0004608425369951874, 0.0006021021399646997, 0.007735591381788254, 0.004731392487883568, 0.012920120730996132, 0.016999131068587303, 0.9552805423736572, 0.0, 0.0, 0.0, 0.0, 0.0, 0.0, 0.0, 0.0, 0.0, 0.0, 0.0, 0.0], [8.094528311630711e-05, 5.4195297707337886e-05, 2.1191066480241716e-05, 8.660334174237505e-07, 5.241407052380964e-06, 2.811407057379256e-06, 9.647673095969367e-07, 4.259619799995562e-06, 6.819959708082024e-06, 2.637015541040455e-06, 1.038735263136914e-05, 3.1177823984762654e-05, 2.574707286839839e-05, 8.829366561258212e-05, 0.0001053006635629572, 0.0003744474961422384, 0.0005833793547935784, 0.0009019345161505044, 0.00043120188638567924, 0.004991126712411642, 0.003515928518027067, 0.015127481892704964, 0.018385013565421104, 0.9552487730979919, 0.0, 0.0, 0.0, 0.0, 0.0, 0.0, 0.0, 0.0, 0.0, 0.0, 0.0], [0.00019926734967157245, 5.897869073123729e-07, 4.093079439826397e-07, 5.28363045759761e-07, 4.043735088998801e-07, 6.811453090449504e-07, 2.501958533684956e-07, 3.1909843301036744e-07, 5.018000592826866e-06, 3.059933305848972e-06, 4.7768617150723e-06, 8.106241693894845e-06, 1.7871010641101748e-05, 5.904932550038211e-05, 7.019496479188092e-06, 5.101941860630177e-05, 0.00015419672126881778, 0.00015557781443931162, 0.0004630949115380645, 0.00018736724450718611, 0.0029354498255997896, 0.0069986856542527676, 0.004895055666565895, 0.010302471928298473, 0.9735496640205383, 0.0, 0.0, 0.0, 0.0, 0.0, 0.0, 0.0, 0.0, 0.0, 0.0], [4.041891952510923e-05, 7.668157664397768e-09, 6.183969247786081e-08, 4.1099543324207843e-08, 3.161345318858366e-07, 1.0004030315258206e-07, 6.658504503320728e-08, 4.780262656822742e-07, 4.035153366999111e-08, 6.753229627065593e-06, 8.574267695848903e-08, 1.0514212078760465e-07, 3.270276693001506e-06, 4.896545533483732e-07, 1.2450341273506638e-06, 9.06984496396035e-06, 2.0693112219305476e-06, 8.541710485587828e-06, 4.513617022894323e-05, 8.528187754563987e-05, 8.476253424305469e-05, 0.001026791869662702, 0.001334778848104179, 0.000296006997814402, 0.005626790691167116, 0.9914274215698242, 0.0, 0.0, 0.0, 0.0, 0.0, 0.0, 0.0, 0.0, 0.0], [0.0003747466835193336, 1.2430140827746072e-07, 2.5229184075215016e-07, 3.052446118090302e-07, 4.772530246555107e-06, 6.075460419197043e-07, 8.501729666932079e-07, 1.103085742215626e-05, 8.098998449668215e-08, 9.651313348513213e-07, 7.193358442236786e-07, 3.2339443123419187e-07, 1.7605461835046299e-06, 4.4468220039561857e-07, 3.2987662734740297e-07, 2.4300325094372965e-05, 3.6642684335674858e-06, 3.0616429285146296e-06, 2.627128196763806e-05, 0.00034267184673808515, 2.078816032735631e-05, 0.00013409722305368632, 0.000304724759189412, 9.803617285797372e-05, 0.0004919691709801555, 0.004237077664583921, 0.9939160943031311, 0.0, 0.0, 0.0, 0.0, 0.0, 0.0, 0.0, 0.0], [0.00023197631526272744, 7.363629492829205e-07, 1.0658058045009966e-06, 4.749797994918481e-07, 2.187790641983156e-06, 2.074169515253743e-06, 1.3842092982940812e-07, 2.510647618692019e-06, 1.971597072270015e-07, 6.672000381513499e-06, 8.99181145541661e-07, 6.362203066601069e-07, 6.544808570652094e-07, 7.717973744547635e-07, 4.801897262041166e-07, 1.1122317118861247e-05, 5.561925263464218e-06, 3.862761332129594e-06, 6.753709021722898e-05, 0.00028979568742215633, 4.3724947317969054e-05, 0.0001520902442280203, 0.0009337725932709873, 0.00018159403407480568, 8.423311373917386e-05, 0.00993385910987854, 0.008723175153136253, 0.9793182611465454, 0.0, 0.0, 0.0, 0.0, 0.0, 0.0, 0.0], [0.00015704928955528885, 3.123186331777106e-07, 2.9319394911908603e-07, 3.137162707389507e-07, 2.1960981939628255e-06, 1.4164397725835443e-06, 1.1236411410209257e-06, 1.3091796517983312e-06, 5.921514301121533e-08, 7.978111966622237e-07, 2.8036765797878616e-06, 1.9766957848332822e-07, 3.994021540165704e-07, 2.304903432559513e-07, 2.264254817418987e-06, 1.6729523849789985e-05, 1.6667630688971258e-06, 2.8725517040584236e-06, 2.494694126653485e-05, 0.0002553280792199075, 4.849699507758487e-06, 4.7080651711439714e-05, 5.3256750106811523e-05, 4.240348789608106e-05, 0.00020874894107691944, 0.002043813467025757, 0.0834672600030899, 0.003673009341582656, 0.909987211227417, 0.0, 0.0, 0.0, 0.0, 0.0, 0.0], [0.0010030745761469007, 7.605900009366451e-06, 5.478893399413209e-06, 4.704078037320869e-06, 1.0818255304911872e-06, 7.24684241504292e-07, 6.057198334019631e-07, 1.5847787153688841e-06, 3.1830917578190565e-05, 1.844483222157578e-06, 1.3723778238272644e-06, 6.841006324975751e-06, 4.9961122385866474e-06, 0.00014220448792912066, 2.1025923615525244e-06, 2.0461116946535185e-05, 6.875459075672552e-05, 8.339442138094455e-05, 7.060819916659966e-05, 0.0002227002987638116, 0.0013453493593260646, 0.00119531131349504, 0.0007637679227627814, 0.0034127647522836924, 0.009595130570232868, 0.008245953358709812, 0.0040284073911607265, 0.015673451125621796, 0.03710905462503433, 0.916948676109314, 0.0, 0.0, 0.0, 0.0, 0.0], [0.00014598089910577983, 1.3442458168810845e-07, 3.0679672136102454e-07, 1.2700836293788598e-07, 9.539687795268037e-08, 4.421364252493731e-08, 7.270958501948144e-09, 2.1630582125453657e-07, 1.7861789558537566e-07, 1.1440967995213214e-07, 4.546685872242051e-08, 1.1406693545268354e-07, 1.7846362254658743e-07, 8.568729867874936e-07, 1.0497480218418787e-07, 1.2474934010242578e-06, 1.1682692502290593e-06, 6.485008157142147e-07, 9.923056495608762e-06, 2.6635600079316646e-05, 2.1481029762071557e-05, 7.192359043983743e-05, 0.0001587334554642439, 0.00014563243894372135, 0.0024261693470180035, 0.0015144944190979004, 0.0007063178927637637, 0.002244283678010106, 0.004566815681755543, 0.0098323505371809, 0.9781236052513123, 0.0, 0.0, 0.0, 0.0], [1.0698753612814471e-05, 5.128419644506721e-08, 7.382473654615751e-08, 9.797534517019812e-08, 4.944878924106888e-07, 6.269718824114534e-07, 2.6257296781295736e-07, 7.36192021122406e-07, 2.5101189748966135e-07, 2.176487896576873e-06, 5.36374670900841e-07, 8.60690761328442e-07, 2.1515769788038597e-07, 1.0358809277022374e-06, 2.4895066985664016e-07, 1.3481017958838493e-05, 8.521091331203934e-06, 5.148497166374e-06, 4.645078206522157e-06, 1.6832609617267735e-05, 5.8646506658988073e-05, 3.65244886779692e-05, 0.00016485729429405183, 1.194499054690823e-05, 0.0005173989338800311, 0.002427906496450305, 0.00034773506922647357, 0.0015964038902893662, 0.009022926911711693, 0.013163735158741474, 0.06333823502063751, 0.9092468023300171, 0.0, 0.0, 0.0], [0.0012287305435165763, 8.407658242504112e-06, 8.363968845515046e-06, 8.199051080737263e-06, 3.972178546973737e-06, 3.9872684283182025e-06, 1.594251216374687e-06, 4.764986897498602e-06, 4.4619187065109145e-06, 8.699208592588548e-06, 3.4823008263629163e-06, 4.087222805537749e-06, 4.383185569167836e-06, 1.2878710549557582e-05, 2.764996906989836e-06, 1.1550831914064474e-05, 2.8508404284366407e-05, 1.972616882994771e-05, 8.00795532995835e-05, 0.0001638158137211576, 0.00027661019703373313, 0.0004829975077882409, 0.0005903012352064252, 0.0011750627309083939, 0.0034667125437408686, 0.005802723579108715, 0.01190755795687437, 0.016952980309724808, 0.02846650779247284, 0.061375804245471954, 0.11517592519521713, 0.20177727937698364, 0.5509370565414429, 0.0, 0.0], [3.782525527640246e-05, 6.459638512978927e-08, 1.927358184161676e-08, 7.975812366112223e-08, 6.700330459352699e-07, 1.246432361767802e-07, 3.072165100093116e-08, 3.3671429378046014e-07, 9.953986790378622e-08, 4.54151575013384e-07, 3.406016446660942e-08, 1.7256104456464527e-07, 3.3590222869861464e-07, 3.256327545386739e-07, 1.1636584140717332e-08, 3.2042096336226678e-06, 1.2533513427115395e-06, 1.7663021480984753e-06, 1.112594054575311e-05, 2.0410294382600114e-05, 8.103415893856436e-06, 1.2881059774372261e-05, 0.00014193193055689335, 1.1411094419599976e-05, 0.00010671326890587807, 0.00010951114381896332, 0.001792709925211966, 0.0015404942678287625, 0.0012465205509215593, 0.0015975864371284842, 0.0008927034214138985, 0.009557007811963558, 0.009279937483370304, 0.9736242294311523, 0.0], [0.0003539696044754237, 2.644037294885493e-06, 1.7576120399098727e-06, 1.2348078826107667e-06, 5.949707883701194e-06, 1.3091880646243226e-06, 3.3621063266764395e-07, 2.4850504587448086e-07, 6.705453188260435e-07, 6.699517030028801e-08, 6.061916906219267e-07, 4.6190581315386225e-07, 2.3573272756038932e-06, 1.4622177104683942e-06, 2.9763668862869963e-07, 1.6005789120754343e-06, 2.460903942846926e-06, 1.9317219539516373e-06, 3.2001476938603446e-05, 2.4652015781612135e-05, 3.42963139701169e-05, 0.00016550840518902987, 7.883966463850811e-05, 0.00018387149611953646, 0.0011651520617306232, 0.00012255352339707315, 0.0011725190561264753, 0.0004984785919077694, 0.003501479746773839, 0.003400745801627636, 0.011839515529572964, 0.0051790825091302395, 0.016713853925466537, 0.02912767231464386, 0.9263803958892822]], [[1.0, 0.0, 0.0, 0.0, 0.0, 0.0, 0.0, 0.0, 0.0, 0.0, 0.0, 0.0, 0.0, 0.0, 0.0, 0.0, 0.0, 0.0, 0.0, 0.0, 0.0, 0.0, 0.0, 0.0, 0.0, 0.0, 0.0, 0.0, 0.0, 0.0, 0.0, 0.0, 0.0, 0.0, 0.0], [0.9238101243972778, 0.07618986815214157, 0.0, 0.0, 0.0, 0.0, 0.0, 0.0, 0.0, 0.0, 0.0, 0.0, 0.0, 0.0, 0.0, 0.0, 0.0, 0.0, 0.0, 0.0, 0.0, 0.0, 0.0, 0.0, 0.0, 0.0, 0.0, 0.0, 0.0, 0.0, 0.0, 0.0, 0.0, 0.0, 0.0], [0.37589237093925476, 0.10050586611032486, 0.523601770401001, 0.0, 0.0, 0.0, 0.0, 0.0, 0.0, 0.0, 0.0, 0.0, 0.0, 0.0, 0.0, 0.0, 0.0, 0.0, 0.0, 0.0, 0.0, 0.0, 0.0, 0.0, 0.0, 0.0, 0.0, 0.0, 0.0, 0.0, 0.0, 0.0, 0.0, 0.0, 0.0], [0.41213729977607727, 0.0823158547282219, 0.18084771931171417, 0.3246991038322449, 0.0, 0.0, 0.0, 0.0, 0.0, 0.0, 0.0, 0.0, 0.0, 0.0, 0.0, 0.0, 0.0, 0.0, 0.0, 0.0, 0.0, 0.0, 0.0, 0.0, 0.0, 0.0, 0.0, 0.0, 0.0, 0.0, 0.0, 0.0, 0.0, 0.0, 0.0], [0.1405227929353714, 0.0058123162016272545, 0.028276387602090836, 0.05733034014701843, 0.768058180809021, 0.0, 0.0, 0.0, 0.0, 0.0, 0.0, 0.0, 0.0, 0.0, 0.0, 0.0, 0.0, 0.0, 0.0, 0.0, 0.0, 0.0, 0.0, 0.0, 0.0, 0.0, 0.0, 0.0, 0.0, 0.0, 0.0, 0.0, 0.0, 0.0, 0.0], [0.019230714067816734, 0.0014746829401701689, 0.0016810822999104857, 0.004905843175947666, 0.025906607508659363, 0.946800947189331, 0.0, 0.0, 0.0, 0.0, 0.0, 0.0, 0.0, 0.0, 0.0, 0.0, 0.0, 0.0, 0.0, 0.0, 0.0, 0.0, 0.0, 0.0, 0.0, 0.0, 0.0, 0.0, 0.0, 0.0, 0.0, 0.0, 0.0, 0.0, 0.0], [0.006040874868631363, 0.004658225458115339, 0.012865054421126842, 0.008953887969255447, 0.07021686434745789, 0.12025343626737595, 0.7770116329193115, 0.0, 0.0, 0.0, 0.0, 0.0, 0.0, 0.0, 0.0, 0.0, 0.0, 0.0, 0.0, 0.0, 0.0, 0.0, 0.0, 0.0, 0.0, 0.0, 0.0, 0.0, 0.0, 0.0, 0.0, 0.0, 0.0, 0.0, 0.0], [0.016248269006609917, 0.003929378464818001, 0.012836662121117115, 0.005099626258015633, 0.01735418662428856, 0.01559932716190815, 0.13602764904499054, 0.7929048538208008, 0.0, 0.0, 0.0, 0.0, 0.0, 0.0, 0.0, 0.0, 0.0, 0.0, 0.0, 0.0, 0.0, 0.0, 0.0, 0.0, 0.0, 0.0, 0.0, 0.0, 0.0, 0.0, 0.0, 0.0, 0.0, 0.0, 0.0], [0.13423283398151398, 0.07014791667461395, 0.03862923011183739, 0.035926882177591324, 0.05720483511686325, 0.06419361382722855, 0.03908979520201683, 0.2145734578371048, 0.34600138664245605, 0.0, 0.0, 0.0, 0.0, 0.0, 0.0, 0.0, 0.0, 0.0, 0.0, 0.0, 0.0, 0.0, 0.0, 0.0, 0.0, 0.0, 0.0, 0.0, 0.0, 0.0, 0.0, 0.0, 0.0, 0.0, 0.0], [0.0035958767402917147, 0.00038495013723149896, 0.0004921664367429912, 0.0008088786853477359, 0.0025900965556502342, 0.0024076506961137056, 0.0001713183446554467, 0.011153001338243484, 0.0021147800143808126, 0.9762812852859497, 0.0, 0.0, 0.0, 0.0, 0.0, 0.0, 0.0, 0.0, 0.0, 0.0, 0.0, 0.0, 0.0, 0.0, 0.0, 0.0, 0.0, 0.0, 0.0, 0.0, 0.0, 0.0, 0.0, 0.0, 0.0], [0.0002283449866808951, 4.666242966777645e-05, 8.206461643567309e-05, 7.73065912653692e-05, 0.00012034243991365656, 0.004319246392697096, 0.003844219259917736, 0.0011964981677010655, 0.00016446916561108083, 0.8530563116073608, 0.13686445355415344, 0.0, 0.0, 0.0, 0.0, 0.0, 0.0, 0.0, 0.0, 0.0, 0.0, 0.0, 0.0, 0.0, 0.0, 0.0, 0.0, 0.0, 0.0, 0.0, 0.0, 0.0, 0.0, 0.0, 0.0], [0.06578907370567322, 0.019290760159492493, 0.02049271948635578, 0.021956786513328552, 0.02668670192360878, 0.08618340641260147, 0.031040899455547333, 0.16103021800518036, 0.030162567272782326, 0.2132367044687271, 0.07554476708173752, 0.24858534336090088, 0.0, 0.0, 0.0, 0.0, 0.0, 0.0, 0.0, 0.0, 0.0, 0.0, 0.0, 0.0, 0.0, 0.0, 0.0, 0.0, 0.0, 0.0, 0.0, 0.0, 0.0, 0.0, 0.0], [0.009123357944190502, 0.003399315057322383, 0.01681826077401638, 0.004648810718208551, 0.01460227556526661, 0.058332547545433044, 0.07909006625413895, 0.017663609236478806, 0.016087273135781288, 0.1505357176065445, 0.33433905243873596, 0.054388951510190964, 0.2409706711769104, 0.0, 0.0, 0.0, 0.0, 0.0, 0.0, 0.0, 0.0, 0.0, 0.0, 0.0, 0.0, 0.0, 0.0, 0.0, 0.0, 0.0, 0.0, 0.0, 0.0, 0.0, 0.0], [0.04253435879945755, 0.01655058190226555, 0.007813415490090847, 0.006833468098193407, 0.009650968946516514, 0.009173326194286346, 0.005910311359912157, 0.030093079432845116, 0.053241707384586334, 0.035758908838033676, 0.11968682706356049, 0.07133747637271881, 0.29692208766937256, 0.29449349641799927, 0.0, 0.0, 0.0, 0.0, 0.0, 0.0, 0.0, 0.0, 0.0, 0.0, 0.0, 0.0, 0.0, 0.0, 0.0, 0.0, 0.0, 0.0, 0.0, 0.0, 0.0], [0.010158027522265911, 0.004377414938062429, 0.006503186654299498, 0.003546684980392456, 0.00615704944357276, 0.005149814300239086, 0.004158245865255594, 0.014994015917181969, 0.017724109813570976, 0.008609643206000328, 0.013557268306612968, 0.027689825743436813, 0.027776116505265236, 0.08518612384796143, 0.7644124627113342, 0.0, 0.0, 0.0, 0.0, 0.0, 0.0, 0.0, 0.0, 0.0, 0.0, 0.0, 0.0, 0.0, 0.0, 0.0, 0.0, 0.0, 0.0, 0.0, 0.0], [0.0005760943749919534, 3.758491948246956e-05, 3.1005773053038865e-05, 2.8090942578273825e-05, 0.000117572519229725, 0.0010626508155837655, 0.000848980329465121, 0.002364432206377387, 0.00031711842166259885, 0.0005040707183070481, 0.0005438976804725826, 0.0009964675409719348, 0.004787208512425423, 0.0016582177486270666, 0.021181154996156693, 0.9649454951286316, 0.0, 0.0, 0.0, 0.0, 0.0, 0.0, 0.0, 0.0, 0.0, 0.0, 0.0, 0.0, 0.0, 0.0, 0.0, 0.0, 0.0, 0.0, 0.0], [0.057101063430309296, 0.012982719577848911, 0.012463344261050224, 0.012371199205517769, 0.013064752332866192, 0.03530248999595642, 0.013208809308707714, 0.06362830102443695, 0.010588896460831165, 0.06113197281956673, 0.027357183396816254, 0.08200792223215103, 0.03997459635138512, 0.04302836209535599, 0.06893418729305267, 0.06733894348144531, 0.37951526045799255, 0.0, 0.0, 0.0, 0.0, 0.0, 0.0, 0.0, 0.0, 0.0, 0.0, 0.0, 0.0, 0.0, 0.0, 0.0, 0.0, 0.0, 0.0], [0.05038188025355339, 0.0102532422170043, 0.009017396718263626, 0.007853329181671143, 0.008382102474570274, 0.016030557453632355, 0.007579762022942305, 0.016568144783377647, 0.009558068588376045, 0.020098425447940826, 0.028027689084410667, 0.031728412955999374, 0.021793963387608528, 0.03942330181598663, 0.11988726258277893, 0.047830864787101746, 0.14773684740066528, 0.4078487157821655, 0.0, 0.0, 0.0, 0.0, 0.0, 0.0, 0.0, 0.0, 0.0, 0.0, 0.0, 0.0, 0.0, 0.0, 0.0, 0.0, 0.0], [0.009583800099790096, 0.0005122207221575081, 0.0006106934160925448, 0.0009717887733131647, 0.002261105226352811, 0.004041267093271017, 0.00033976047416217625, 0.0023014822509139776, 0.00146698288153857, 0.004360880237072706, 0.010039575397968292, 0.003883794415742159, 0.0019065372180193663, 0.004968367516994476, 0.0035998837556689978, 0.00279566110111773, 0.015628818422555923, 0.014497040770947933, 0.916230320930481, 0.0, 0.0, 0.0, 0.0, 0.0, 0.0, 0.0, 0.0, 0.0, 0.0, 0.0, 0.0, 0.0, 0.0, 0.0, 0.0], [0.03377578407526016, 0.0008472923072986305, 0.000936156720854342, 0.0006967569352127612, 0.004600140266120434, 0.0032576010562479496, 0.00042183659388683736, 0.007556708063930273, 0.001057059969753027, 0.0036437921226024628, 0.00017823856614995748, 0.0020456211641430855, 0.0014812102308496833, 0.0029180473648011684, 0.005684820935130119, 0.06616655737161636, 0.006820711772888899, 0.005966115277260542, 0.022306198254227638, 0.8296393752098083, 0.0, 0.0, 0.0, 0.0, 0.0, 0.0, 0.0, 0.0, 0.0, 0.0, 0.0, 0.0, 0.0, 0.0, 0.0], [0.014338113367557526, 0.004506280180066824, 0.0022934810258448124, 0.00450263312086463, 0.0063485256396234035, 0.006440704222768545, 0.0030759202782064676, 0.003429377917200327, 0.008825043216347694, 0.01356387510895729, 0.008806232362985611, 0.015333068557083607, 0.010930362157523632, 0.03256242349743843, 0.04165016487240791, 0.02935842052102089, 0.06823210418224335, 0.10101231187582016, 0.128244087100029, 0.08141806721687317, 0.4151287078857422, 0.0, 0.0, 0.0, 0.0, 0.0, 0.0, 0.0, 0.0, 0.0, 0.0, 0.0, 0.0, 0.0, 0.0], [0.012516933493316174, 0.003707380499690771, 0.001132360426709056, 0.00204401439987123, 0.002103797160089016, 0.0007217557285912335, 0.00035877106711268425, 0.0010654557263478637, 0.003341865027323365, 0.0035347696393728256, 0.0018008291954174638, 0.005131383892148733, 0.005956842564046383, 0.011681454256176949, 0.02335313707590103, 0.024626346305012703, 0.023082587867975235, 0.024053914472460747, 0.045054011046886444, 0.044474758207798004, 0.09848435968160629, 0.6617733240127563, 0.0, 0.0, 0.0, 0.0, 0.0, 0.0, 0.0, 0.0, 0.0, 0.0, 0.0, 0.0, 0.0], [0.023378070443868637, 0.002970092697069049, 0.0022721621207892895, 0.0031212540343403816, 0.010448776185512543, 0.0027957120910286903, 0.0009500703308731318, 0.006640290841460228, 0.0025093043223023415, 0.006215896923094988, 0.0018756611971184611, 0.004366474226117134, 0.005894928704947233, 0.007904242724180222, 0.011842509731650352, 0.011780310422182083, 0.016934016719460487, 0.01560672465711832, 0.036991920322179794, 0.05676271766424179, 0.038851793855428696, 0.3010689318180084, 0.4288181662559509, 0.0, 0.0, 0.0, 0.0, 0.0, 0.0, 0.0, 0.0, 0.0, 0.0, 0.0, 0.0], [0.04225081950426102, 0.009647668339312077, 0.013069667853415012, 0.0034939274191856384, 0.00871824100613594, 0.0008717637392692268, 0.0021130703389644623, 0.002520153997465968, 0.002825929317623377, 0.003056254470720887, 0.00547599233686924, 0.004467593505978584, 0.00596620561555028, 0.00814566109329462, 0.02767094224691391, 0.013382624834775925, 0.018189135938882828, 0.032780252397060394, 0.028848348185420036, 0.05995950475335121, 0.09605944156646729, 0.2093193084001541, 0.10138270258903503, 0.29978474974632263, 0.0, 0.0, 0.0, 0.0, 0.0, 0.0, 0.0, 0.0, 0.0, 0.0, 0.0], [0.025818010792136192, 0.0012453028466552496, 0.001236771116964519, 0.0031558230984956026, 0.0026054554618895054, 0.0011178312124684453, 0.00023053237237036228, 0.0010614540660753846, 0.001255297800526023, 0.0014470169553533196, 0.0006083031184971333, 0.002144434256479144, 0.0017222748138010502, 0.003063678042963147, 0.002130713779479265, 0.001739514758810401, 0.007489566225558519, 0.004201175644993782, 0.016367284581065178, 0.017187537625432014, 0.01664702594280243, 0.06787325441837311, 0.07546130567789078, 0.043696507811546326, 0.7004939317703247, 0.0, 0.0, 0.0, 0.0, 0.0, 0.0, 0.0, 0.0, 0.0, 0.0], [0.007508303038775921, 0.000129139210912399, 0.00022904042270965874, 0.00030993999098427594, 0.0015875755343586206, 0.00015740802336949855, 0.0003654661704786122, 0.00026319484459236264, 0.000246187555603683, 0.0049638450145721436, 0.0008493284694850445, 0.00020542528363876045, 0.0035996558144688606, 0.0006757511873729527, 0.0006743194535374641, 0.002866029739379883, 0.0007401988259516656, 0.0012410660274326801, 0.0034339376725256443, 0.003348803613334894, 0.005896300543099642, 0.015315243974328041, 0.013584433123469353, 0.0038060718216001987, 0.1058751568198204, 0.8221280574798584, 0.0, 0.0, 0.0, 0.0, 0.0, 0.0, 0.0, 0.0, 0.0], [0.015146838501095772, 0.0002837271895259619, 0.0004323893808759749, 0.0012392151402309537, 0.0026600707788020372, 0.0003459547006059438, 0.0002954268711619079, 0.0018772091716527939, 0.00023691286332905293, 0.00013219252286944538, 0.00033548063947819173, 0.00022997887572273612, 0.0002714903966989368, 0.0004209537582937628, 0.0008192582754418254, 0.0003039466973859817, 0.0006469371728599072, 0.0003804271691478789, 0.002392594935372472, 0.0029768007807433605, 0.002575615420937538, 0.005941803101450205, 0.005901214201003313, 0.0052087814547121525, 0.025423727929592133, 0.02324126847088337, 0.900279700756073, 0.0, 0.0, 0.0, 0.0, 0.0, 0.0, 0.0, 0.0], [0.02088218182325363, 0.0006866251933388412, 0.0014190298970788717, 0.0016247218009084463, 0.005466725677251816, 0.0019930729176849127, 0.0003444563481025398, 0.001486629364080727, 0.0003860278520733118, 0.00029868006822653115, 0.0003715482307597995, 0.0005332495784386992, 0.0002567079500295222, 0.000608334201388061, 0.0003786252927966416, 0.0013748221099376678, 0.001378133543767035, 0.0009236662299372256, 0.023374980315566063, 0.03773235157132149, 0.004063982050865889, 0.021846629679203033, 0.018512388691306114, 0.00504719652235508, 0.018440261483192444, 0.0639948770403862, 0.3300280272960663, 0.43654611706733704, 0.0, 0.0, 0.0, 0.0, 0.0, 0.0, 0.0], [0.0027297872584313154, 0.00011315743176965043, 0.00025743202422745526, 0.00030652934219688177, 0.0008012374746613204, 0.0008870942401699722, 0.00010111571464221925, 0.0020485699642449617, 0.00014291198749560863, 0.0001989804150070995, 0.00043098145397379994, 7.435752195306122e-05, 0.00011077823000960052, 0.0002229756792075932, 0.00010400113387731835, 0.0007566182175651193, 0.00018428830662742257, 0.00031021004542708397, 0.0010590284364297986, 0.005394386127591133, 0.0013711388455703855, 0.0017238223226740956, 0.003438350511714816, 0.0007791535463184118, 0.0027107945643365383, 0.01124660950154066, 0.26186174154281616, 0.04286464676260948, 0.6577692627906799, 0.0, 0.0, 0.0, 0.0, 0.0, 0.0], [0.007169215939939022, 0.0026512285694479942, 0.00244502373971045, 0.0030232490971684456, 0.0026861911173909903, 0.0007135474006645381, 0.0005127678741700947, 0.0003864857426378876, 0.0009532010881230235, 0.00044078408973291516, 0.0008591750520281494, 0.0012491055531427264, 0.0009424778399989009, 0.0016617252258583903, 0.0004435318987816572, 0.0014648402575403452, 0.0035774626303464174, 0.0037673418410122395, 0.01212292816489935, 0.006853916682302952, 0.005249570589512587, 0.019704250618815422, 0.026669247075915337, 0.040960200130939484, 0.2385396510362625, 0.057257093489170074, 0.04040537774562836, 0.10933991521596909, 0.0773630440235138, 0.3305874764919281, 0.0, 0.0, 0.0, 0.0, 0.0], [0.01162667479366064, 0.0019658179953694344, 0.0009179534390568733, 0.0018197445897385478, 0.0020789806731045246, 0.00029357156017795205, 0.00010028562974184752, 0.0005799987120553851, 0.00048541236901655793, 9.764837886905298e-05, 0.0001571275934111327, 0.0004106424457859248, 0.0004877778992522508, 0.000751786632463336, 0.0007532844319939613, 0.0012242122320458293, 0.0010826853103935719, 0.001482190564274788, 0.0027742499951273203, 0.0036103364545851946, 0.0021372439805418253, 0.009361455217003822, 0.014277670532464981, 0.011846725828945637, 0.047293368726968765, 0.045062847435474396, 0.04156069457530975, 0.0428079254925251, 0.07079778611660004, 0.10084830969572067, 0.5813056826591492, 0.0, 0.0, 0.0, 0.0], [0.0038734327536076307, 0.0002557096886448562, 0.0006259247893467546, 0.0005843958933837712, 0.0012326478026807308, 0.000394560513086617, 0.0003326674923300743, 0.00015581933257635683, 0.000164727185619995, 0.0007726283511146903, 0.0003866979095619172, 0.000278244522633031, 0.0001523970131529495, 0.00025198503863066435, 6.452938396250829e-05, 0.00017264143389184028, 0.0007133578765206039, 0.000538479769602418, 0.007539560552686453, 0.006723254453390837, 0.0013963904930278659, 0.0031103563960641623, 0.005501290317624807, 0.0024135869462043047, 0.038960542529821396, 0.02342233434319496, 0.009641135111451149, 0.025750892236828804, 0.127024844288826, 0.040059302002191544, 0.5142087936401367, 0.183296799659729, 0.0, 0.0, 0.0], [0.015151124447584152, 0.001376067753881216, 0.001556050032377243, 0.002171710366383195, 0.0025110093411058187, 0.0017854975303635001, 0.00047008675755932927, 0.0006788122118450701, 0.00038990742177702487, 0.0009900362929329276, 0.0003802657010965049, 0.0004182503907941282, 0.00044352919212542474, 0.000514013459905982, 0.0001659223053138703, 0.0006932556279934943, 0.000962951104156673, 0.0007656947709619999, 0.004365223925560713, 0.006436272524297237, 0.0018688250565901399, 0.008356155827641487, 0.006384759210050106, 0.005890706554055214, 0.03118702583014965, 0.041009459644556046, 0.028566081076860428, 0.0415772944688797, 0.04076460376381874, 0.067128486931324, 0.3042672574520111, 0.21618817746639252, 0.16458551585674286, 0.0, 0.0], [0.017354104667901993, 0.0005264717037789524, 0.0006208923878148198, 0.0016926317475736141, 0.006297255866229534, 0.0010202124249190092, 7.362550240941346e-05, 0.0006762273842468858, 0.0004448307154234499, 7.778873259667307e-05, 4.9738038796931505e-05, 0.0003035976260434836, 0.00017341799684800208, 0.0005162435118108988, 0.0002735276648309082, 0.000744399381801486, 0.0006022221641615033, 0.0004544502589851618, 0.002665339270606637, 0.0026638756971806288, 0.0025515928864479065, 0.007818798534572124, 0.009490981698036194, 0.000983040314167738, 0.007624232675880194, 0.011552357114851475, 0.09579715877771378, 0.08069907128810883, 0.09889815747737885, 0.03799610584974289, 0.05835620313882828, 0.11718897521495819, 0.1165681928396225, 0.3172442615032196, 0.0], [0.010796323418617249, 0.0030184590723365545, 0.001701078494079411, 0.002761396812275052, 0.005546445958316326, 0.0005509487236849964, 0.00022208347218111157, 0.00023305864306166768, 0.0008555074455216527, 8.429402078036219e-05, 0.00013491010759025812, 0.00040303406422026455, 0.00021568528609350324, 0.0009122331393882632, 0.0007262002327479422, 0.00038188404869288206, 0.0007406800868920982, 0.000730122672393918, 0.000785227632150054, 0.0013473370345309377, 0.004313784185796976, 0.007729172706604004, 0.005422808695584536, 0.006747080013155937, 0.013981969095766544, 0.004630992654711008, 0.01939181052148342, 0.028133705258369446, 0.016861921176314354, 0.07724326848983765, 0.05435159429907799, 0.13139010965824127, 0.15014061331748962, 0.08434382826089859, 0.36317047476768494]], [[1.0, 0.0, 0.0, 0.0, 0.0, 0.0, 0.0, 0.0, 0.0, 0.0, 0.0, 0.0, 0.0, 0.0, 0.0, 0.0, 0.0, 0.0, 0.0, 0.0, 0.0, 0.0, 0.0, 0.0, 0.0, 0.0, 0.0, 0.0, 0.0, 0.0, 0.0, 0.0, 0.0, 0.0, 0.0], [0.19326065480709076, 0.806739330291748, 0.0, 0.0, 0.0, 0.0, 0.0, 0.0, 0.0, 0.0, 0.0, 0.0, 0.0, 0.0, 0.0, 0.0, 0.0, 0.0, 0.0, 0.0, 0.0, 0.0, 0.0, 0.0, 0.0, 0.0, 0.0, 0.0, 0.0, 0.0, 0.0, 0.0, 0.0, 0.0, 0.0], [0.09132374823093414, 0.00222188513725996, 0.9064543843269348, 0.0, 0.0, 0.0, 0.0, 0.0, 0.0, 0.0, 0.0, 0.0, 0.0, 0.0, 0.0, 0.0, 0.0, 0.0, 0.0, 0.0, 0.0, 0.0, 0.0, 0.0, 0.0, 0.0, 0.0, 0.0, 0.0, 0.0, 0.0, 0.0, 0.0, 0.0, 0.0], [0.07127520442008972, 0.010394571349024773, 0.014608732424676418, 0.9037215113639832, 0.0, 0.0, 0.0, 0.0, 0.0, 0.0, 0.0, 0.0, 0.0, 0.0, 0.0, 0.0, 0.0, 0.0, 0.0, 0.0, 0.0, 0.0, 0.0, 0.0, 0.0, 0.0, 0.0, 0.0, 0.0, 0.0, 0.0, 0.0, 0.0, 0.0, 0.0], [0.00752516184002161, 8.942744898376986e-05, 7.544117397628725e-05, 3.4135737223550677e-06, 0.9923065304756165, 0.0, 0.0, 0.0, 0.0, 0.0, 0.0, 0.0, 0.0, 0.0, 0.0, 0.0, 0.0, 0.0, 0.0, 0.0, 0.0, 0.0, 0.0, 0.0, 0.0, 0.0, 0.0, 0.0, 0.0, 0.0, 0.0, 0.0, 0.0, 0.0, 0.0], [0.004521043971180916, 4.280501343600918e-06, 9.230407158611342e-05, 2.3636232072021812e-05, 1.1194401849934366e-05, 0.9953475594520569, 0.0, 0.0, 0.0, 0.0, 0.0, 0.0, 0.0, 0.0, 0.0, 0.0, 0.0, 0.0, 0.0, 0.0, 0.0, 0.0, 0.0, 0.0, 0.0, 0.0, 0.0, 0.0, 0.0, 0.0, 0.0, 0.0, 0.0, 0.0, 0.0], [0.00793814193457365, 0.00010465254308655858, 4.188243838143535e-05, 8.37628795125056e-06, 0.00021111383102834225, 3.129787273792317e-06, 0.9916926622390747, 0.0, 0.0, 0.0, 0.0, 0.0, 0.0, 0.0, 0.0, 0.0, 0.0, 0.0, 0.0, 0.0, 0.0, 0.0, 0.0, 0.0, 0.0, 0.0, 0.0, 0.0, 0.0, 0.0, 0.0, 0.0, 0.0, 0.0, 0.0], [0.0024528461508452892, 1.0800506970554125e-05, 1.541074198030401e-05, 2.252152597748136e-07, 3.925124474335462e-05, 5.133600552653661e-06, 2.3800475901225582e-05, 0.9974525570869446, 0.0, 0.0, 0.0, 0.0, 0.0, 0.0, 0.0, 0.0, 0.0, 0.0, 0.0, 0.0, 0.0, 0.0, 0.0, 0.0, 0.0, 0.0, 0.0, 0.0, 0.0, 0.0, 0.0, 0.0, 0.0, 0.0, 0.0], [0.19944852590560913, 0.178318053483963, 0.06548022478818893, 0.1327645629644394, 0.038584474474191666, 0.01035340502858162, 0.02143358811736107, 0.006723289843648672, 0.34689387679100037, 0.0, 0.0, 0.0, 0.0, 0.0, 0.0, 0.0, 0.0, 0.0, 0.0, 0.0, 0.0, 0.0, 0.0, 0.0, 0.0, 0.0, 0.0, 0.0, 0.0, 0.0, 0.0, 0.0, 0.0, 0.0, 0.0], [0.0014458419755101204, 8.054673230617482e-07, 3.064576958422549e-05, 7.412892841784924e-07, 2.027398522841395e-06, 1.1258991435170174e-05, 1.8223311144538457e-06, 8.012910257093608e-05, 1.0569614516953152e-07, 0.9984266757965088, 0.0, 0.0, 0.0, 0.0, 0.0, 0.0, 0.0, 0.0, 0.0, 0.0, 0.0, 0.0, 0.0, 0.0, 0.0, 0.0, 0.0, 0.0, 0.0, 0.0, 0.0, 0.0, 0.0, 0.0, 0.0], [0.002338024089112878, 1.2498689102358185e-05, 2.2450127289630473e-05, 4.236504082655301e-06, 2.95203193445559e-07, 1.8947054059026414e-06, 7.769859075779095e-05, 8.969064765551593e-06, 4.6952003174283163e-08, 1.1347667623340385e-06, 0.9975327253341675, 0.0, 0.0, 0.0, 0.0, 0.0, 0.0, 0.0, 0.0, 0.0, 0.0, 0.0, 0.0, 0.0, 0.0, 0.0, 0.0, 0.0, 0.0, 0.0, 0.0, 0.0, 0.0, 0.0, 0.0], [0.047514546662569046, 0.052682626992464066, 0.020408127456903458, 0.058530066162347794, 0.007166566792875528, 0.00820141565054655, 0.01184640172868967, 0.0017474382184445858, 0.024963321164250374, 0.002697254531085491, 0.0014261904871091247, 0.7628160715103149, 0.0, 0.0, 0.0, 0.0, 0.0, 0.0, 0.0, 0.0, 0.0, 0.0, 0.0, 0.0, 0.0, 0.0, 0.0, 0.0, 0.0, 0.0, 0.0, 0.0, 0.0, 0.0, 0.0], [0.006070813629776239, 0.0001295793626923114, 5.943357609794475e-05, 5.659351245412836e-06, 0.00026153295766562223, 0.0001224183215526864, 1.039934613800142e-05, 1.1076393093389925e-05, 4.0604805917610065e-07, 0.00036004724097438157, 2.011543074331712e-05, 1.364392119285185e-07, 0.9929484128952026, 0.0, 0.0, 0.0, 0.0, 0.0, 0.0, 0.0, 0.0, 0.0, 0.0, 0.0, 0.0, 0.0, 0.0, 0.0, 0.0, 0.0, 0.0, 0.0, 0.0, 0.0, 0.0], [0.0953056663274765, 0.14180327951908112, 0.050381843000650406, 0.10299669951200485, 0.029812097549438477, 0.0065894112922251225, 0.016824396327137947, 0.0044818539172410965, 0.2310645431280136, 0.019435428082942963, 0.010874398052692413, 0.05543201416730881, 0.035438716411590576, 0.19955973327159882, 0.0, 0.0, 0.0, 0.0, 0.0, 0.0, 0.0, 0.0, 0.0, 0.0, 0.0, 0.0, 0.0, 0.0, 0.0, 0.0, 0.0, 0.0, 0.0, 0.0, 0.0], [0.027447791770100594, 0.0001406534865964204, 0.000198466339497827, 3.496767021715641e-05, 5.2821437748207245e-06, 0.00015024191816337407, 8.128350600600243e-05, 1.2125149623898324e-05, 6.303901318460703e-05, 6.54321484034881e-05, 2.832490963555756e-06, 3.890727020916529e-05, 5.673632585967425e-07, 4.210487531963736e-05, 0.9717162847518921, 0.0, 0.0, 0.0, 0.0, 0.0, 0.0, 0.0, 0.0, 0.0, 0.0, 0.0, 0.0, 0.0, 0.0, 0.0, 0.0, 0.0, 0.0, 0.0, 0.0], [0.004212113097310066, 3.06969195662532e-05, 6.369442417053506e-05, 8.254556860265438e-07, 8.262148867288488e-07, 3.868342173518613e-05, 4.268815246177837e-06, 3.81940662919078e-06, 1.262802555856979e-07, 0.00013782763562630862, 1.780611273716204e-05, 1.7100200366826357e-08, 5.9798780966957565e-06, 6.190309420617268e-08, 2.2941594579606317e-06, 0.9954808950424194, 0.0, 0.0, 0.0, 0.0, 0.0, 0.0, 0.0, 0.0, 0.0, 0.0, 0.0, 0.0, 0.0, 0.0, 0.0, 0.0, 0.0, 0.0, 0.0], [0.019846787676215172, 0.031683456152677536, 0.01255327370017767, 0.03571883961558342, 0.004399014171212912, 0.004350568167865276, 0.007427369710057974, 0.0009372887434437871, 0.012662888504564762, 0.0016050541307777166, 0.0007319964352063835, 0.45634064078330994, 0.002010868862271309, 0.00975928083062172, 0.008237501606345177, 0.000259412539890036, 0.39147573709487915, 0.0, 0.0, 0.0, 0.0, 0.0, 0.0, 0.0, 0.0, 0.0, 0.0, 0.0, 0.0, 0.0, 0.0, 0.0, 0.0, 0.0, 0.0], [0.02729727141559124, 0.0024357116781175137, 0.000270682736299932, 7.525590626755729e-05, 1.3686883903574198e-05, 5.773248631157912e-06, 0.00043018482392653823, 1.4438196558330674e-05, 4.835154686588794e-05, 5.3261264838511124e-05, 9.613335350877605e-06, 6.846706673968583e-05, 0.0003037684946320951, 2.8783997549908236e-05, 3.866408587782644e-05, 2.5926889065885916e-05, 4.680059646489099e-05, 0.9688333868980408, 0.0, 0.0, 0.0, 0.0, 0.0, 0.0, 0.0, 0.0, 0.0, 0.0, 0.0, 0.0, 0.0, 0.0, 0.0, 0.0, 0.0], [0.006310693453997374, 3.294685302535072e-05, 9.895686162053607e-06, 7.334584211093897e-07, 9.119832247961313e-05, 4.094929317943752e-05, 8.511704436386935e-06, 9.950702224159613e-05, 1.9264832928911346e-07, 8.829226771922549e-07, 1.8906105196947465e-06, 1.1808706403826363e-06, 3.116516154477722e-06, 9.47476834767258e-08, 3.301760898466455e-06, 2.585527727205772e-05, 7.711307148383639e-07, 2.6708685254561715e-06, 0.993365466594696, 0.0, 0.0, 0.0, 0.0, 0.0, 0.0, 0.0, 0.0, 0.0, 0.0, 0.0, 0.0, 0.0, 0.0, 0.0, 0.0], [0.0011340542696416378, 6.961923190829111e-06, 1.236436492035864e-05, 4.006550682333909e-07, 5.351815343601629e-05, 5.240096470515709e-06, 4.459501360543072e-05, 0.00016450797556899488, 1.4344478493910628e-08, 1.038803020492196e-06, 4.778879156219773e-05, 5.0586844935196495e-08, 9.468209896112967e-07, 7.475676966350875e-09, 6.603928000004089e-07, 3.843115337076597e-06, 3.346431753925572e-08, 2.411975685845391e-07, 1.6647753000142984e-05, 0.9985072016716003, 0.0, 0.0, 0.0, 0.0, 0.0, 0.0, 0.0, 0.0, 0.0, 0.0, 0.0, 0.0, 0.0, 0.0, 0.0], [0.08800847083330154, 0.18921281397342682, 0.045562565326690674, 0.08163289725780487, 0.017358073964715004, 0.004830401390790939, 0.018958790227770805, 0.004620133433490992, 0.06910264492034912, 0.01297047734260559, 0.010343026369810104, 0.053664132952690125, 0.009830271825194359, 0.05797472968697548, 0.011936411261558533, 0.009446632117033005, 0.046623386442661285, 0.07882604002952576, 0.010427413508296013, 0.0020946746226400137, 0.17657603323459625, 0.0, 0.0, 0.0, 0.0, 0.0, 0.0, 0.0, 0.0, 0.0, 0.0, 0.0, 0.0, 0.0, 0.0], [0.015971165150403976, 0.0030620130710303783, 0.00014189504145178944, 0.0007885735249146819, 4.2993680835934356e-05, 4.13119669246953e-05, 6.306861905613914e-05, 3.5465118344291113e-06, 2.173125722038094e-05, 1.786092070688028e-05, 1.0213978384854272e-05, 2.659637902979739e-05, 3.785551598411985e-05, 1.3186858268454671e-05, 0.0001881764328572899, 4.9638774726190604e-06, 1.8085096598952077e-05, 4.864023139816709e-05, 4.463590812520124e-06, 2.4802479856589343e-06, 1.217890439875191e-05, 0.9794788956642151, 0.0, 0.0, 0.0, 0.0, 0.0, 0.0, 0.0, 0.0, 0.0, 0.0, 0.0, 0.0, 0.0], [0.007472250144928694, 0.0003719078958965838, 7.639100658707321e-05, 1.1135934983030893e-05, 3.0148770747473463e-05, 1.1014460142177995e-05, 5.452883488032967e-05, 2.2444461137638427e-05, 1.1283868843747769e-05, 2.8587952328962274e-05, 5.6277503972523846e-06, 7.513620221288875e-05, 7.734309474471956e-05, 6.529730399051914e-06, 8.796932888799347e-06, 8.651518328406382e-06, 5.0728016503853723e-05, 7.040875971142668e-06, 3.187647234881297e-05, 1.4034907280802145e-06, 7.003607606748119e-06, 7.040093623800203e-05, 0.9915596842765808, 0.0, 0.0, 0.0, 0.0, 0.0, 0.0, 0.0, 0.0, 0.0, 0.0, 0.0, 0.0], [0.02204541489481926, 0.28049421310424805, 0.016674771904945374, 0.00015087123028934002, 0.0006804474396631122, 2.739414048846811e-05, 0.0008938330574892461, 1.249920478585409e-05, 0.00026655319379642606, 5.5841610446805134e-06, 5.109102130518295e-05, 9.500431769993156e-05, 1.8194803487858735e-05, 0.0001828282547648996, 0.0016493594739586115, 2.7935184334637597e-05, 6.99191732564941e-05, 7.677565736230463e-05, 2.0886143829557113e-05, 4.512566647463245e-06, 0.0001454139273846522, 0.00044704994070343673, 5.514781514648348e-05, 0.6759043335914612, 0.0, 0.0, 0.0, 0.0, 0.0, 0.0, 0.0, 0.0, 0.0, 0.0, 0.0], [0.018799476325511932, 0.0019184618722647429, 0.0010523879900574684, 7.228153117466718e-05, 0.00013796627172268927, 5.208820948610082e-05, 6.33438176009804e-05, 9.731966201798059e-06, 8.120819256873801e-05, 5.998387496219948e-05, 9.635974492994137e-06, 4.818717934540473e-05, 4.688356784754433e-05, 5.250575122772716e-05, 0.0004494211170822382, 0.0002893299679271877, 3.537206066539511e-05, 0.0002237797452835366, 0.00020209027570672333, 3.112015747319674e-06, 3.522854967741296e-05, 9.85501246759668e-05, 0.00018101489695254713, 0.00012300803791731596, 0.9759548306465149, 0.0, 0.0, 0.0, 0.0, 0.0, 0.0, 0.0, 0.0, 0.0, 0.0], [0.0016589757287874818, 6.632464192080079e-06, 3.9323440432781354e-05, 5.51213543076301e-06, 7.32827975298278e-05, 5.176190143174608e-07, 8.362663356820121e-05, 1.6115389371407218e-05, 1.840793260043938e-07, 0.00020032616157550365, 1.8497445353204967e-06, 7.683021863158501e-08, 1.805103056540247e-05, 9.2597367995495e-08, 6.612172455788823e-06, 1.962784381248639e-06, 5.0048473809738425e-08, 6.371125493842555e-08, 4.881644599663559e-07, 3.8391435737139545e-06, 1.8601461704292888e-08, 1.6708642078810954e-06, 8.816599006422621e-07, 6.673329977502362e-08, 1.878516115993989e-07, 0.9978796243667603, 0.0, 0.0, 0.0, 0.0, 0.0, 0.0, 0.0, 0.0, 0.0], [0.005040666088461876, 0.00039155513513833284, 0.0005618696450255811, 0.0001452302240068093, 3.937188375857659e-05, 5.409949517343193e-05, 0.0002847947762347758, 4.828735472983681e-05, 3.10431369143771e-06, 6.896268314449117e-05, 0.0002681409823708236, 4.210928636894096e-06, 1.211988455906976e-05, 2.02539536076074e-06, 3.188776463503018e-05, 1.1356525646988302e-05, 3.018800271092914e-06, 1.2622892427316401e-05, 7.465576800314011e-06, 3.0278019949037116e-06, 4.951115215590107e-07, 3.01545860565966e-05, 1.8863742297980934e-05, 4.1512462303217035e-06, 5.031322416471085e-06, 6.069077244319487e-06, 0.9929414987564087, 0.0, 0.0, 0.0, 0.0, 0.0, 0.0, 0.0, 0.0], [0.0012448695488274097, 0.00017617075354792178, 2.415177550574299e-05, 1.2456692275009118e-05, 5.211318421061151e-05, 2.3546086595160887e-05, 5.673457053489983e-05, 0.00045827782014384866, 2.4983903585962253e-06, 0.0001134944031946361, 4.9202564696315676e-05, 1.3444564501696732e-05, 7.735956751275808e-05, 1.3437108918878948e-06, 6.060910891392268e-06, 0.00010331803059671074, 8.745500053919386e-06, 1.081159552995814e-05, 0.0001585641730343923, 1.9056102473768988e-06, 5.418800128609291e-07, 1.2321393114689272e-06, 6.472245149780065e-05, 3.5890675462724175e-06, 8.650918061903212e-06, 2.962806775030913e-06, 1.3278999176691286e-05, 0.9973099231719971, 0.0, 0.0, 0.0, 0.0, 0.0, 0.0, 0.0], [0.0019733344670385122, 0.0009750578901730478, 7.21851538401097e-05, 9.848405898083001e-05, 4.960862497682683e-05, 5.434047125163488e-05, 0.0003797208482865244, 6.184632638905896e-06, 1.0831159897861653e-06, 4.491215349844424e-06, 0.0004798350273631513, 9.928658073476981e-07, 1.3564573237090372e-05, 6.477191618614597e-07, 1.0186123290623073e-05, 5.581327059189789e-06, 7.113484343790333e-07, 5.998077767799259e-07, 3.201087793058832e-06, 2.288285941176582e-06, 1.5130828501241922e-07, 7.130760423024185e-06, 1.7937974234882859e-06, 2.4025752281886525e-05, 2.8331155021987797e-07, 1.2269139915588312e-05, 0.00023325486108660698, 0.00031319609843194485, 0.9952758550643921, 0.0, 0.0, 0.0, 0.0, 0.0, 0.0], [0.030099278315901756, 0.09027375280857086, 0.028149744495749474, 0.1576387584209442, 0.026473553851246834, 0.0030060072895139456, 0.01721954345703125, 0.002244669944047928, 0.031200459226965904, 0.01135172601789236, 0.001356132561340928, 0.029119180515408516, 0.016773533076047897, 0.02399810031056404, 0.00945053156465292, 0.006288204342126846, 0.023923048749566078, 0.058296237140893936, 0.009904229082167149, 0.0003779736580327153, 0.02459513209760189, 0.0404200553894043, 0.02788674645125866, 0.009823570027947426, 0.049947090446949005, 0.0010651149787008762, 0.014632529579102993, 0.0112463915720582, 0.002060155849903822, 0.24117855727672577, 0.0, 0.0, 0.0, 0.0, 0.0], [0.004169418942183256, 0.0006143277860246599, 0.0005938458489254117, 0.00011036212526960298, 9.00550076039508e-05, 1.3705144738196395e-05, 0.0005903482669964433, 2.6892305413639406e-06, 8.671493560541421e-06, 4.6116343582980335e-05, 1.005677677312633e-05, 5.3629032663593534e-06, 5.1998405979247764e-05, 4.802409421245102e-06, 2.1195226509007625e-05, 2.478504757164046e-05, 3.4400377444399055e-06, 1.841081575548742e-05, 7.055144669720903e-05, 5.603963586509053e-07, 5.060174316895427e-06, 2.2592130335397087e-05, 6.252532330108806e-05, 1.8619348338688724e-05, 0.00014118546096142381, 2.633106123539619e-05, 1.261043394151784e-06, 1.0759861197584542e-06, 3.093191764946823e-07, 5.793049240310211e-06, 0.9932644367218018, 0.0, 0.0, 0.0, 0.0], [0.010566665790975094, 0.0013905876548960805, 0.00043136297608725727, 0.00102959293872118, 0.003916396759450436, 0.00015029491623863578, 0.0019935991149395704, 0.00030443709692917764, 2.984509410453029e-05, 0.0006592917488887906, 1.265983701159712e-05, 7.527502748416737e-05, 0.0003976769803557545, 1.7276539438171312e-05, 0.00038583468995057046, 2.1061901861685328e-05, 5.3403142374008894e-05, 6.335022044368088e-05, 0.000126884420751594, 6.783201570215169e-06, 2.7170561224920675e-05, 0.00013008965470362455, 3.859859862131998e-05, 4.3666466808645055e-05, 8.064082976488862e-06, 0.0007468670373782516, 8.195245754905045e-06, 9.368611063109711e-05, 6.252453658817103e-06, 4.447249375516549e-05, 0.00020698650041595101, 0.9770136475563049, 0.0, 0.0, 0.0], [0.01713147759437561, 0.10981201380491257, 0.045284975320100784, 0.1666400134563446, 0.04683491960167885, 0.012714340351521969, 0.024941835552453995, 0.002460506046190858, 0.01651417277753353, 0.014018184505403042, 0.002804651390761137, 0.017261292785406113, 0.05619136244058609, 0.011843176558613777, 0.02451840415596962, 0.008004874922335148, 0.013582989573478699, 0.027696525678038597, 0.007881487719714642, 0.0013759639114141464, 0.009033633396029472, 0.03747998923063278, 0.014368821866810322, 0.01657966896891594, 0.03148625046014786, 0.0022351089864969254, 0.00703256344422698, 0.020338810980319977, 0.002157366368919611, 0.01573573797941208, 0.03529253974556923, 0.01779499650001526, 0.16295135021209717, 0.0, 0.0], [0.0027362401597201824, 0.003270443296059966, 0.0002493853971827775, 2.952113572973758e-05, 0.0027190777473151684, 1.5680814613006078e-05, 0.0011440077796578407, 3.5285567719256505e-05, 1.9352088202140294e-05, 3.6209708923706785e-05, 1.2202242032799404e-05, 0.00012145661457907408, 4.955609256285243e-05, 1.1851510862470604e-05, 8.82663152879104e-05, 3.184522211086005e-05, 8.618924039183185e-05, 0.00013057797332294285, 9.267554560210556e-05, 1.844452526711393e-05, 4.454887402971508e-06, 1.4211034795152955e-05, 0.0002081980783259496, 6.224944809218869e-05, 2.7289990612189285e-05, 8.52709672471974e-06, 0.0010931725846603513, 0.0010259002447128296, 1.8266448023496196e-05, 9.816331839829218e-06, 7.599973059768672e-07, 4.151809662289452e-06, 8.365900612261612e-06, 0.9866164922714233, 0.0], [0.01330177765339613, 0.002024177461862564, 0.0009810636984184384, 0.0002710395201575011, 0.02624259889125824, 6.968409434193745e-05, 0.00018824631115421653, 0.0003323271230328828, 0.000207174860406667, 0.0003558358584996313, 1.8688782802200876e-05, 0.00031016330467537045, 0.00028844221378676593, 0.0001415756851201877, 0.00021018946426920593, 0.0001373011473333463, 0.00024542538449168205, 0.0005858634831383824, 0.0008409078582189977, 0.00037898437585681677, 0.00011255503341089934, 0.000948527769651264, 0.0002581720764283091, 0.0005371631705202162, 0.00023706411593593657, 9.896157280309126e-05, 1.4541838027071208e-05, 7.514367462135851e-05, 1.014245117403334e-05, 7.69076868891716e-05, 6.643281813012436e-05, 5.446004433906637e-05, 0.00010782008757814765, 0.0021891221404075623, 0.9480816125869751]], [[1.0, 0.0, 0.0, 0.0, 0.0, 0.0, 0.0, 0.0, 0.0, 0.0, 0.0, 0.0, 0.0, 0.0, 0.0, 0.0, 0.0, 0.0, 0.0, 0.0, 0.0, 0.0, 0.0, 0.0, 0.0, 0.0, 0.0, 0.0, 0.0, 0.0, 0.0, 0.0, 0.0, 0.0, 0.0], [0.9360750913619995, 0.06392485648393631, 0.0, 0.0, 0.0, 0.0, 0.0, 0.0, 0.0, 0.0, 0.0, 0.0, 0.0, 0.0, 0.0, 0.0, 0.0, 0.0, 0.0, 0.0, 0.0, 0.0, 0.0, 0.0, 0.0, 0.0, 0.0, 0.0, 0.0, 0.0, 0.0, 0.0, 0.0, 0.0, 0.0], [0.8446659445762634, 0.06946856528520584, 0.0858655646443367, 0.0, 0.0, 0.0, 0.0, 0.0, 0.0, 0.0, 0.0, 0.0, 0.0, 0.0, 0.0, 0.0, 0.0, 0.0, 0.0, 0.0, 0.0, 0.0, 0.0, 0.0, 0.0, 0.0, 0.0, 0.0, 0.0, 0.0, 0.0, 0.0, 0.0, 0.0, 0.0], [0.6426600813865662, 0.1298869103193283, 0.17117172479629517, 0.05628126114606857, 0.0, 0.0, 0.0, 0.0, 0.0, 0.0, 0.0, 0.0, 0.0, 0.0, 0.0, 0.0, 0.0, 0.0, 0.0, 0.0, 0.0, 0.0, 0.0, 0.0, 0.0, 0.0, 0.0, 0.0, 0.0, 0.0, 0.0, 0.0, 0.0, 0.0, 0.0], [0.5074958801269531, 0.07786272466182709, 0.0726853534579277, 0.10711853206157684, 0.23483750224113464, 0.0, 0.0, 0.0, 0.0, 0.0, 0.0, 0.0, 0.0, 0.0, 0.0, 0.0, 0.0, 0.0, 0.0, 0.0, 0.0, 0.0, 0.0, 0.0, 0.0, 0.0, 0.0, 0.0, 0.0, 0.0, 0.0, 0.0, 0.0, 0.0, 0.0], [0.49707546830177307, 0.06315261870622635, 0.1155911237001419, 0.08851400762796402, 0.1019635796546936, 0.13370312750339508, 0.0, 0.0, 0.0, 0.0, 0.0, 0.0, 0.0, 0.0, 0.0, 0.0, 0.0, 0.0, 0.0, 0.0, 0.0, 0.0, 0.0, 0.0, 0.0, 0.0, 0.0, 0.0, 0.0, 0.0, 0.0, 0.0, 0.0, 0.0, 0.0], [0.3081282079219818, 0.06775977462530136, 0.13057538866996765, 0.05440937355160713, 0.04050319641828537, 0.3605913519859314, 0.038032714277505875, 0.0, 0.0, 0.0, 0.0, 0.0, 0.0, 0.0, 0.0, 0.0, 0.0, 0.0, 0.0, 0.0, 0.0, 0.0, 0.0, 0.0, 0.0, 0.0, 0.0, 0.0, 0.0, 0.0, 0.0, 0.0, 0.0, 0.0, 0.0], [0.3243497312068939, 0.06349692493677139, 0.07783646881580353, 0.07798174768686295, 0.07410474866628647, 0.13590548932552338, 0.07038861513137817, 0.17593631148338318, 0.0, 0.0, 0.0, 0.0, 0.0, 0.0, 0.0, 0.0, 0.0, 0.0, 0.0, 0.0, 0.0, 0.0, 0.0, 0.0, 0.0, 0.0, 0.0, 0.0, 0.0, 0.0, 0.0, 0.0, 0.0, 0.0, 0.0], [0.16412918269634247, 0.03469284996390343, 0.05131258815526962, 0.013316994532942772, 0.17712700366973877, 0.15951907634735107, 0.09812308102846146, 0.29690468311309814, 0.00487455353140831, 0.0, 0.0, 0.0, 0.0, 0.0, 0.0, 0.0, 0.0, 0.0, 0.0, 0.0, 0.0, 0.0, 0.0, 0.0, 0.0, 0.0, 0.0, 0.0, 0.0, 0.0, 0.0, 0.0, 0.0, 0.0, 0.0], [0.18775463104248047, 0.05488045886158943, 0.10758274793624878, 0.04391004517674446, 0.1406543105840683, 0.11696725338697433, 0.05246005207300186, 0.1536639779806137, 0.04935269057750702, 0.09277382493019104, 0.0, 0.0, 0.0, 0.0, 0.0, 0.0, 0.0, 0.0, 0.0, 0.0, 0.0, 0.0, 0.0, 0.0, 0.0, 0.0, 0.0, 0.0, 0.0, 0.0, 0.0, 0.0, 0.0, 0.0, 0.0], [0.205171138048172, 0.04006879776716232, 0.0833921730518341, 0.04565279185771942, 0.05697014927864075, 0.1331988424062729, 0.026416391134262085, 0.09950856119394302, 0.05013459920883179, 0.21417362987995148, 0.045312926173210144, 0.0, 0.0, 0.0, 0.0, 0.0, 0.0, 0.0, 0.0, 0.0, 0.0, 0.0, 0.0, 0.0, 0.0, 0.0, 0.0, 0.0, 0.0, 0.0, 0.0, 0.0, 0.0, 0.0, 0.0], [0.10754455626010895, 0.02095544897019863, 0.05246846377849579, 0.008330844342708588, 0.17997518181800842, 0.10652032494544983, 0.07210806012153625, 0.2019113302230835, 0.003346043871715665, 0.14021331071853638, 0.10356742888689041, 0.0030589590314775705, 0.0, 0.0, 0.0, 0.0, 0.0, 0.0, 0.0, 0.0, 0.0, 0.0, 0.0, 0.0, 0.0, 0.0, 0.0, 0.0, 0.0, 0.0, 0.0, 0.0, 0.0, 0.0, 0.0], [0.09423349052667618, 0.02283541113138199, 0.05558854341506958, 0.02696785144507885, 0.12799426913261414, 0.07631107419729233, 0.07361149042844772, 0.16634684801101685, 0.030196355655789375, 0.11622445285320282, 0.13079148530960083, 0.022433556616306305, 0.05646510794758797, 0.0, 0.0, 0.0, 0.0, 0.0, 0.0, 0.0, 0.0, 0.0, 0.0, 0.0, 0.0, 0.0, 0.0, 0.0, 0.0, 0.0, 0.0, 0.0, 0.0, 0.0, 0.0], [0.11027712374925613, 0.019917314872145653, 0.03387211635708809, 0.008012219332158566, 0.1268695592880249, 0.12052714824676514, 0.06604592502117157, 0.21159572899341583, 0.002910380717366934, 0.13361383974552155, 0.07830418646335602, 0.005965668708086014, 0.07863973826169968, 0.003449012991040945, 0.0, 0.0, 0.0, 0.0, 0.0, 0.0, 0.0, 0.0, 0.0, 0.0, 0.0, 0.0, 0.0, 0.0, 0.0, 0.0, 0.0, 0.0, 0.0, 0.0, 0.0], [0.1600770652294159, 0.05452116206288338, 0.059736255556344986, 0.020207514986395836, 0.05266043171286583, 0.10011065006256104, 0.1172926127910614, 0.14998744428157806, 0.017248373478651047, 0.05625281110405922, 0.09442036598920822, 0.012046916410326958, 0.020297687500715256, 0.018244558945298195, 0.06689618527889252, 0.0, 0.0, 0.0, 0.0, 0.0, 0.0, 0.0, 0.0, 0.0, 0.0, 0.0, 0.0, 0.0, 0.0, 0.0, 0.0, 0.0, 0.0, 0.0, 0.0], [0.17850056290626526, 0.04271138086915016, 0.05876287817955017, 0.025501536205410957, 0.02821972966194153, 0.0939595103263855, 0.03569772467017174, 0.03853302448987961, 0.02757411077618599, 0.12417209893465042, 0.09900186955928802, 0.029919547960162163, 0.041689127683639526, 0.030038559809327126, 0.08029219508171082, 0.06542612612247467, 0.0, 0.0, 0.0, 0.0, 0.0, 0.0, 0.0, 0.0, 0.0, 0.0, 0.0, 0.0, 0.0, 0.0, 0.0, 0.0, 0.0, 0.0, 0.0], [0.0826260894536972, 0.014221652410924435, 0.03910334035754204, 0.005809778347611427, 0.14161062240600586, 0.08671101927757263, 0.055034954100847244, 0.15626990795135498, 0.0023281825706362724, 0.11679324507713318, 0.08067949116230011, 0.00219179829582572, 0.09792858362197876, 0.002736868569627404, 0.03297453746199608, 0.0803784430027008, 0.0026014947798103094, 0.0, 0.0, 0.0, 0.0, 0.0, 0.0, 0.0, 0.0, 0.0, 0.0, 0.0, 0.0, 0.0, 0.0, 0.0, 0.0, 0.0, 0.0], [0.09858326613903046, 0.028320681303739548, 0.052631787955760956, 0.017858639359474182, 0.061636604368686676, 0.08070768415927887, 0.07397957891225815, 0.09560466557741165, 0.00933582428842783, 0.08467229455709457, 0.11269158124923706, 0.018467869609594345, 0.038562625646591187, 0.011051508598029613, 0.06964196264743805, 0.09237802773714066, 0.022560445591807365, 0.03131495788693428, 0.0, 0.0, 0.0, 0.0, 0.0, 0.0, 0.0, 0.0, 0.0, 0.0, 0.0, 0.0, 0.0, 0.0, 0.0, 0.0, 0.0], [0.1495792120695114, 0.013048066757619381, 0.03394851088523865, 0.015061761252582073, 0.04509884491562843, 0.08479966968297958, 0.02725697122514248, 0.17206285893917084, 0.01685032993555069, 0.10883238911628723, 0.11793848127126694, 0.008323254995048046, 0.01613432914018631, 0.017726469784975052, 0.026173405349254608, 0.051890868693590164, 0.008976073004305363, 0.01060571987181902, 0.07569275796413422, 0.0, 0.0, 0.0, 0.0, 0.0, 0.0, 0.0, 0.0, 0.0, 0.0, 0.0, 0.0, 0.0, 0.0, 0.0, 0.0], [0.2303972691297531, 0.024296816438436508, 0.026559974998235703, 0.039246175438165665, 0.042302265763282776, 0.04924341291189194, 0.007979441434144974, 0.07322093844413757, 0.03455185517668724, 0.06601924449205399, 0.03830169141292572, 0.03672322258353233, 0.024140119552612305, 0.037105266004800797, 0.02855713479220867, 0.054463956505060196, 0.03901507705450058, 0.015944384038448334, 0.04610009491443634, 0.08583169430494308, 0.0, 0.0, 0.0, 0.0, 0.0, 0.0, 0.0, 0.0, 0.0, 0.0, 0.0, 0.0, 0.0, 0.0, 0.0], [0.05691666901111603, 0.006225023418664932, 0.011754428036510944, 0.003549676388502121, 0.07110719382762909, 0.08006579428911209, 0.022162359207868576, 0.11016795784235, 0.001048493548296392, 0.08122202008962631, 0.026672054082155228, 0.002196080517023802, 0.030598530545830727, 0.0012014058884233236, 0.014937766827642918, 0.14736883342266083, 0.002626748289912939, 0.03338920325040817, 0.11049007624387741, 0.18504445254802704, 0.0012552260886877775, 0.0, 0.0, 0.0, 0.0, 0.0, 0.0, 0.0, 0.0, 0.0, 0.0, 0.0, 0.0, 0.0, 0.0], [0.09241700172424316, 0.02605961263179779, 0.02483060583472252, 0.014753980562090874, 0.07309959828853607, 0.04160081595182419, 0.028182966634631157, 0.10522370040416718, 0.010200564749538898, 0.02671685442328453, 0.038636256009340286, 0.008342118002474308, 0.034165363758802414, 0.011011883616447449, 0.027021974325180054, 0.10600949078798294, 0.009498467668890953, 0.016123091802001, 0.06257016211748123, 0.19003154337406158, 0.010448909364640713, 0.04305500537157059, 0.0, 0.0, 0.0, 0.0, 0.0, 0.0, 0.0, 0.0, 0.0, 0.0, 0.0, 0.0, 0.0], [0.06173654645681381, 0.007029626984149218, 0.019486602395772934, 0.010366824455559254, 0.04601287469267845, 0.07236860692501068, 0.02275238186120987, 0.08978492766618729, 0.005041907075792551, 0.07019016891717911, 0.07947877794504166, 0.006475393660366535, 0.03835069760680199, 0.005680917762219906, 0.015840983018279076, 0.05344107374548912, 0.007524977903813124, 0.018862154334783554, 0.09784609824419022, 0.190878763794899, 0.006985303480178118, 0.02772781066596508, 0.046136610209941864, 0.0, 0.0, 0.0, 0.0, 0.0, 0.0, 0.0, 0.0, 0.0, 0.0, 0.0, 0.0], [0.0434984490275383, 0.006029139738529921, 0.016271809116005898, 0.0049628885462880135, 0.09232776612043381, 0.056436099112033844, 0.024273214861750603, 0.10004424303770065, 0.0013475858140736818, 0.046952683478593826, 0.04336998611688614, 0.0026120946276932955, 0.02598002552986145, 0.0015367745654657483, 0.013811737298965454, 0.12162508815526962, 0.0030840577092021704, 0.014781159348785877, 0.08252863585948944, 0.20843425393104553, 0.0021058099810034037, 0.03356641158461571, 0.04992127791047096, 0.0044988286681473255, 0.0, 0.0, 0.0, 0.0, 0.0, 0.0, 0.0, 0.0, 0.0, 0.0, 0.0], [0.05493931844830513, 0.005164691247045994, 0.013282538391649723, 0.006816807668656111, 0.08581958711147308, 0.04258372634649277, 0.010111801326274872, 0.10901320725679398, 0.0030670405831187963, 0.04195147380232811, 0.03668753802776337, 0.0038776008877903223, 0.03639631345868111, 0.003642826806753874, 0.015713077038526535, 0.04514281079173088, 0.0047706314362585545, 0.010733414441347122, 0.12949080765247345, 0.18343371152877808, 0.005763915833085775, 0.060088109225034714, 0.064203642308712, 0.00847991555929184, 0.01882551796734333, 0.0, 0.0, 0.0, 0.0, 0.0, 0.0, 0.0, 0.0, 0.0, 0.0], [0.11619280278682709, 0.024008186534047127, 0.017500853165984154, 0.022795291617512703, 0.050276532769203186, 0.03202548995614052, 0.020647749304771423, 0.039747413247823715, 0.02373596653342247, 0.026677899062633514, 0.01885642111301422, 0.028171353042125702, 0.03460881486535072, 0.02664371393620968, 0.02276807464659214, 0.023577360436320305, 0.03119918704032898, 0.02262044884264469, 0.09706807136535645, 0.06436186283826828, 0.032514315098524094, 0.04557200148701668, 0.04268260672688484, 0.028252853080630302, 0.025809546932578087, 0.0816851481795311, 0.0, 0.0, 0.0, 0.0, 0.0, 0.0, 0.0, 0.0, 0.0], [0.1122082844376564, 0.005275932140648365, 0.01370137371122837, 0.006475638598203659, 0.05825747177004814, 0.05591835826635361, 0.013027259148657322, 0.10451263934373856, 0.004013675265014172, 0.040113672614097595, 0.0378723107278347, 0.003174528246745467, 0.012129997834563255, 0.00409625843167305, 0.007334524765610695, 0.017732826992869377, 0.003475233679637313, 0.003059558104723692, 0.0948338657617569, 0.20002643764019012, 0.005673966836184263, 0.016374558210372925, 0.017230218276381493, 0.004368435125797987, 0.009308057837188244, 0.09713461250066757, 0.05267034098505974, 0.0, 0.0, 0.0, 0.0, 0.0, 0.0, 0.0, 0.0], [0.06115269660949707, 0.004939327947795391, 0.00976282637566328, 0.005227169021964073, 0.03646274283528328, 0.03137053921818733, 0.008218890987336636, 0.11535762250423431, 0.003272868227213621, 0.03824921324849129, 0.03337175026535988, 0.002179377945140004, 0.007692957762628794, 0.0034548076801002026, 0.009085441939532757, 0.02790052257478237, 0.002366590779274702, 0.003948239143937826, 0.0407714881002903, 0.27574682235717773, 0.0035466663539409637, 0.0124551085755229, 0.03261314332485199, 0.003209816524758935, 0.0036030919291079044, 0.10009615123271942, 0.08892862498760223, 0.035015448927879333, 0.0, 0.0, 0.0, 0.0, 0.0, 0.0, 0.0], [0.11957032978534698, 0.00805051438510418, 0.013377287425100803, 0.007089267019182444, 0.025275396183133125, 0.05149082466959953, 0.006585440598428249, 0.061659835278987885, 0.005620480515062809, 0.0556148923933506, 0.027291791513562202, 0.004286486655473709, 0.007698431611061096, 0.005996245890855789, 0.007942011579871178, 0.02879049815237522, 0.004870963282883167, 0.004313759505748749, 0.02622806839644909, 0.153855562210083, 0.010709957219660282, 0.009564640931785107, 0.029178380966186523, 0.005329276900738478, 0.008051510900259018, 0.07812705636024475, 0.10984008759260178, 0.029521046206355095, 0.0940699353814125, 0.0, 0.0, 0.0, 0.0, 0.0, 0.0], [0.025880737230181694, 0.003286876017227769, 0.009190608747303486, 0.002271318342536688, 0.04206255450844765, 0.04035564139485359, 0.015107082203030586, 0.048013366758823395, 0.000809609773568809, 0.03906423598527908, 0.026566799730062485, 0.0015204473165795207, 0.021220164373517036, 0.0009539543534629047, 0.0078103672713041306, 0.03313514590263367, 0.0018792502814903855, 0.010119684971868992, 0.06751002371311188, 0.12262910604476929, 0.001583222532644868, 0.022168045863509178, 0.030785229057073593, 0.004318809136748314, 0.018728986382484436, 0.14477506279945374, 0.06957432627677917, 0.11388755589723587, 0.07182326912879944, 0.0029684752225875854, 0.0, 0.0, 0.0, 0.0, 0.0], [0.046125106513500214, 0.00492937583476305, 0.011905016377568245, 0.005939907394349575, 0.050862301141023636, 0.03915586695075035, 0.011702248826622963, 0.07777237892150879, 0.0027224926743656397, 0.029330722987651825, 0.03543660044670105, 0.0025086577516049147, 0.011883247643709183, 0.002963858423754573, 0.008878659456968307, 0.018936682492494583, 0.0028045857325196266, 0.004066929221153259, 0.06637167185544968, 0.16173598170280457, 0.004074745811522007, 0.017417896538972855, 0.04845813289284706, 0.005489851348102093, 0.014467377215623856, 0.08884270489215851, 0.05744142085313797, 0.04815758764743805, 0.09182097762823105, 0.004751019645482302, 0.023045996204018593, 0.0, 0.0, 0.0, 0.0], [0.02861653082072735, 0.0035397151950746775, 0.01282575260847807, 0.003731102915480733, 0.022132834419608116, 0.026339085772633553, 0.01548363734036684, 0.04692449793219566, 0.0016770182410255075, 0.053430888801813126, 0.038187265396118164, 0.002529488643631339, 0.027682237327098846, 0.001944718649610877, 0.010427959263324738, 0.020306406542658806, 0.003083116142079234, 0.008337562903761864, 0.061474431306123734, 0.05695468559861183, 0.003090916434302926, 0.019787296652793884, 0.0377042219042778, 0.004031909164041281, 0.02077089622616768, 0.12126167118549347, 0.08733708411455154, 0.07036233693361282, 0.09933113306760788, 0.005798675119876862, 0.06381494551897049, 0.021079938858747482, 0.0, 0.0, 0.0], [0.02276923879981041, 0.002363817533478141, 0.006953611969947815, 0.0009745145798660815, 0.0334312729537487, 0.030963143333792686, 0.0128810815513134, 0.0763968899846077, 0.000262103887507692, 0.03044990822672844, 0.03674259036779404, 0.0005670606042258441, 0.014569051563739777, 0.0003055331762880087, 0.005948360078036785, 0.022492554038763046, 0.00070255744503811, 0.004866450559347868, 0.06026184931397438, 0.1558590829372406, 0.0005001777899451554, 0.019988087937235832, 0.030868496745824814, 0.00312815117649734, 0.01215116772800684, 0.11994653940200806, 0.07597392797470093, 0.09628812223672867, 0.07584251463413239, 0.0010643769055604935, 0.03271333500742912, 0.011111114174127579, 0.0006633009179495275, 0.0, 0.0], [0.06755813211202621, 0.0033527954947203398, 0.008972211740911007, 0.003402543021366, 0.056073084473609924, 0.030404705554246902, 0.013628303073346615, 0.0795242115855217, 0.002588939154520631, 0.03472937270998955, 0.015315970405936241, 0.0025271025951951742, 0.007685472257435322, 0.0026928256265819073, 0.007112992461770773, 0.02612847276031971, 0.0027733694296330214, 0.007069502025842667, 0.050762075930833817, 0.1759389191865921, 0.003935440443456173, 0.010542858392000198, 0.012697343714535236, 0.0028314439114183187, 0.0049834903329610825, 0.05610368028283119, 0.10278661549091339, 0.07864402234554291, 0.06361379474401474, 0.004290645010769367, 0.012449058704078197, 0.007846904918551445, 0.003574161557480693, 0.03745954483747482, 0.0], [0.05889429152011871, 0.004834291525185108, 0.008816240355372429, 0.004917597863823175, 0.05724448710680008, 0.04719965159893036, 0.010384361259639263, 0.043736837804317474, 0.0032532161567360163, 0.027000516653060913, 0.01538600493222475, 0.005444499664008617, 0.01830442249774933, 0.003610059851780534, 0.011856133118271828, 0.07255373895168304, 0.006018074695020914, 0.006411909591406584, 0.05586156249046326, 0.08374673873186111, 0.0039736684411764145, 0.018590601161122322, 0.019445117563009262, 0.003880683798342943, 0.008932655677199364, 0.1224270835518837, 0.04098628833889961, 0.0742977187037468, 0.05774553865194321, 0.006318637169897556, 0.01308413129299879, 0.023065799847245216, 0.005796524230390787, 0.040941379964351654, 0.015039588324725628]], [[1.0, 0.0, 0.0, 0.0, 0.0, 0.0, 0.0, 0.0, 0.0, 0.0, 0.0, 0.0, 0.0, 0.0, 0.0, 0.0, 0.0, 0.0, 0.0, 0.0, 0.0, 0.0, 0.0, 0.0, 0.0, 0.0, 0.0, 0.0, 0.0, 0.0, 0.0, 0.0, 0.0, 0.0, 0.0], [0.9780336022377014, 0.02196635864675045, 0.0, 0.0, 0.0, 0.0, 0.0, 0.0, 0.0, 0.0, 0.0, 0.0, 0.0, 0.0, 0.0, 0.0, 0.0, 0.0, 0.0, 0.0, 0.0, 0.0, 0.0, 0.0, 0.0, 0.0, 0.0, 0.0, 0.0, 0.0, 0.0, 0.0, 0.0, 0.0, 0.0], [0.5068986415863037, 0.4279147684574127, 0.06518658250570297, 0.0, 0.0, 0.0, 0.0, 0.0, 0.0, 0.0, 0.0, 0.0, 0.0, 0.0, 0.0, 0.0, 0.0, 0.0, 0.0, 0.0, 0.0, 0.0, 0.0, 0.0, 0.0, 0.0, 0.0, 0.0, 0.0, 0.0, 0.0, 0.0, 0.0, 0.0, 0.0], [0.3459504544734955, 0.2338511198759079, 0.19138804078102112, 0.2288104146718979, 0.0, 0.0, 0.0, 0.0, 0.0, 0.0, 0.0, 0.0, 0.0, 0.0, 0.0, 0.0, 0.0, 0.0, 0.0, 0.0, 0.0, 0.0, 0.0, 0.0, 0.0, 0.0, 0.0, 0.0, 0.0, 0.0, 0.0, 0.0, 0.0, 0.0, 0.0], [0.278596967458725, 0.1752573400735855, 0.110370934009552, 0.25180956721305847, 0.18396520614624023, 0.0, 0.0, 0.0, 0.0, 0.0, 0.0, 0.0, 0.0, 0.0, 0.0, 0.0, 0.0, 0.0, 0.0, 0.0, 0.0, 0.0, 0.0, 0.0, 0.0, 0.0, 0.0, 0.0, 0.0, 0.0, 0.0, 0.0, 0.0, 0.0, 0.0], [0.20804192125797272, 0.08827148377895355, 0.061608120799064636, 0.2584841847419739, 0.2705698311328888, 0.11302442848682404, 0.0, 0.0, 0.0, 0.0, 0.0, 0.0, 0.0, 0.0, 0.0, 0.0, 0.0, 0.0, 0.0, 0.0, 0.0, 0.0, 0.0, 0.0, 0.0, 0.0, 0.0, 0.0, 0.0, 0.0, 0.0, 0.0, 0.0, 0.0, 0.0], [0.1632562130689621, 0.12141182273626328, 0.11990711092948914, 0.16166436672210693, 0.10774068534374237, 0.29750388860702515, 0.028515953570604324, 0.0, 0.0, 0.0, 0.0, 0.0, 0.0, 0.0, 0.0, 0.0, 0.0, 0.0, 0.0, 0.0, 0.0, 0.0, 0.0, 0.0, 0.0, 0.0, 0.0, 0.0, 0.0, 0.0, 0.0, 0.0, 0.0, 0.0, 0.0], [0.1228092685341835, 0.039789874106645584, 0.045145463198423386, 0.13578499853610992, 0.09269550442695618, 0.11808715760707855, 0.3369848430156708, 0.10870291292667389, 0.0, 0.0, 0.0, 0.0, 0.0, 0.0, 0.0, 0.0, 0.0, 0.0, 0.0, 0.0, 0.0, 0.0, 0.0, 0.0, 0.0, 0.0, 0.0, 0.0, 0.0, 0.0, 0.0, 0.0, 0.0, 0.0, 0.0], [0.0785447508096695, 0.035703882575035095, 0.029105357825756073, 0.05200904235243797, 0.10322196036577225, 0.06222524866461754, 0.06801239401102066, 0.17029179632663727, 0.40088552236557007, 0.0, 0.0, 0.0, 0.0, 0.0, 0.0, 0.0, 0.0, 0.0, 0.0, 0.0, 0.0, 0.0, 0.0, 0.0, 0.0, 0.0, 0.0, 0.0, 0.0, 0.0, 0.0, 0.0, 0.0, 0.0, 0.0], [0.08555341511964798, 0.045082155615091324, 0.020755309611558914, 0.05748791992664337, 0.05853375419974327, 0.0381254144012928, 0.031640250235795975, 0.14470820128917694, 0.39396727085113525, 0.12414631247520447, 0.0, 0.0, 0.0, 0.0, 0.0, 0.0, 0.0, 0.0, 0.0, 0.0, 0.0, 0.0, 0.0, 0.0, 0.0, 0.0, 0.0, 0.0, 0.0, 0.0, 0.0, 0.0, 0.0, 0.0, 0.0], [0.034007567912340164, 0.005801301449537277, 0.004264357499778271, 0.014554576016962528, 0.0020581241697072983, 0.010052244178950787, 0.015462437644600868, 0.014919930137693882, 0.07456014305353165, 0.8029415607452393, 0.021377814933657646, 0.0, 0.0, 0.0, 0.0, 0.0, 0.0, 0.0, 0.0, 0.0, 0.0, 0.0, 0.0, 0.0, 0.0, 0.0, 0.0, 0.0, 0.0, 0.0, 0.0, 0.0, 0.0, 0.0, 0.0], [0.03658133000135422, 0.008552638813853264, 0.00908593088388443, 0.010718601755797863, 0.03151056170463562, 0.07786078006029129, 0.028099481016397476, 0.05203386768698692, 0.0917564183473587, 0.2498079538345337, 0.22384558618068695, 0.18014685809612274, 0.0, 0.0, 0.0, 0.0, 0.0, 0.0, 0.0, 0.0, 0.0, 0.0, 0.0, 0.0, 0.0, 0.0, 0.0, 0.0, 0.0, 0.0, 0.0, 0.0, 0.0, 0.0, 0.0], [0.03899508714675903, 0.013953056186437607, 0.02715037390589714, 0.015978634357452393, 0.006068881135433912, 0.015332898125052452, 0.007358464878052473, 0.00814359076321125, 0.0923609808087349, 0.0958237275481224, 0.3970896601676941, 0.22508259117603302, 0.05666205659508705, 0.0, 0.0, 0.0, 0.0, 0.0, 0.0, 0.0, 0.0, 0.0, 0.0, 0.0, 0.0, 0.0, 0.0, 0.0, 0.0, 0.0, 0.0, 0.0, 0.0, 0.0, 0.0], [0.02941766008734703, 0.006853986065834761, 0.005433528684079647, 0.00830688327550888, 0.015738271176815033, 0.00870890635997057, 0.008349099196493626, 0.023920081555843353, 0.04694683104753494, 0.04814496263861656, 0.09309995919466019, 0.15290875732898712, 0.14854173362255096, 0.40362927317619324, 0.0, 0.0, 0.0, 0.0, 0.0, 0.0, 0.0, 0.0, 0.0, 0.0, 0.0, 0.0, 0.0, 0.0, 0.0, 0.0, 0.0, 0.0, 0.0, 0.0, 0.0], [0.037128303200006485, 0.0075844656676054, 0.0035451489966362715, 0.008117973804473877, 0.018834199756383896, 0.005904982797801495, 0.009632603265345097, 0.011076654307544231, 0.042499419301748276, 0.0150839788839221, 0.01984347216784954, 0.11177273094654083, 0.12816862761974335, 0.3331787884235382, 0.24762862920761108, 0.0, 0.0, 0.0, 0.0, 0.0, 0.0, 0.0, 0.0, 0.0, 0.0, 0.0, 0.0, 0.0, 0.0, 0.0, 0.0, 0.0, 0.0, 0.0, 0.0], [0.024791516363620758, 0.0022572411689907312, 0.0019112328300252557, 0.0031496440060436726, 0.0017746678786352277, 0.0030808623414486647, 0.019880760461091995, 0.006427105516195297, 0.01531747356057167, 0.0032266087364405394, 0.02029605209827423, 0.057727325707674026, 0.022555239498615265, 0.08885946124792099, 0.7141122817993164, 0.014632456935942173, 0.0, 0.0, 0.0, 0.0, 0.0, 0.0, 0.0, 0.0, 0.0, 0.0, 0.0, 0.0, 0.0, 0.0, 0.0, 0.0, 0.0, 0.0, 0.0], [0.019352782517671585, 0.0027357181534171104, 0.0027006452437490225, 0.002816398860886693, 0.007300624158233404, 0.016268718987703323, 0.005134700797498226, 0.010258650407195091, 0.0137914614751935, 0.033804409205913544, 0.033944856375455856, 0.02411041595041752, 0.05347486957907677, 0.09691006690263748, 0.2761884033679962, 0.2219037413597107, 0.17930355668067932, 0.0, 0.0, 0.0, 0.0, 0.0, 0.0, 0.0, 0.0, 0.0, 0.0, 0.0, 0.0, 0.0, 0.0, 0.0, 0.0, 0.0, 0.0], [0.016778292134404182, 0.0013836660655215383, 0.0012504435144364834, 0.0019532658625394106, 0.0012283107498660684, 0.003427055198699236, 0.0017710214015096426, 0.0025876876898109913, 0.009956520982086658, 0.007537421770393848, 0.004963126499205828, 0.023668846115469933, 0.017456641420722008, 0.06967747211456299, 0.26127690076828003, 0.24082405865192413, 0.176779106259346, 0.15748010575771332, 0.0, 0.0, 0.0, 0.0, 0.0, 0.0, 0.0, 0.0, 0.0, 0.0, 0.0, 0.0, 0.0, 0.0, 0.0, 0.0, 0.0], [0.05475040152668953, 0.009201952256262302, 0.003783301915973425, 0.0068918815813958645, 0.00700687151402235, 0.005267786327749491, 0.0019135887268930674, 0.00664900615811348, 0.022490743547677994, 0.007203702349215746, 0.039859868586063385, 0.026306984946131706, 0.03598388656973839, 0.10654622316360474, 0.1474280208349228, 0.02953191101551056, 0.14834146201610565, 0.23425285518169403, 0.10658959299325943, 0.0, 0.0, 0.0, 0.0, 0.0, 0.0, 0.0, 0.0, 0.0, 0.0, 0.0, 0.0, 0.0, 0.0, 0.0, 0.0], [0.08004872500896454, 0.003562747500836849, 0.003394148778170347, 0.011285568587481976, 0.012208598665893078, 0.0019434988498687744, 0.003920832183212042, 0.024116631597280502, 0.023349978029727936, 0.008975883014500141, 0.005343948490917683, 0.02533606067299843, 0.013870198279619217, 0.1010364219546318, 0.03973818197846413, 0.08061382174491882, 0.12086460739374161, 0.12294694036245346, 0.14132510125637054, 0.1761181652545929, 0.0, 0.0, 0.0, 0.0, 0.0, 0.0, 0.0, 0.0, 0.0, 0.0, 0.0, 0.0, 0.0, 0.0, 0.0], [0.013053355738520622, 0.0019795652478933334, 0.0016182123217731714, 0.0014078512322157621, 0.0014868256403133273, 0.0013099184725433588, 0.0016642973059788346, 0.0025665173307061195, 0.0030626661609858274, 0.010340576060116291, 0.007755242753773928, 0.008929401636123657, 0.008869525045156479, 0.017165130004286766, 0.0726579949259758, 0.08664464205503464, 0.06223943829536438, 0.16528481245040894, 0.07255074381828308, 0.09155552089214325, 0.36785781383514404, 0.0, 0.0, 0.0, 0.0, 0.0, 0.0, 0.0, 0.0, 0.0, 0.0, 0.0, 0.0, 0.0, 0.0], [0.01231599971652031, 0.0011592364171519876, 0.0007622392731718719, 0.0019507482647895813, 0.0012718497309833765, 0.0006892282981425524, 0.0005458987434394658, 0.0026030000299215317, 0.003917661029845476, 0.0005409360746853054, 0.0012741900281980634, 0.006503157317638397, 0.005551589652895927, 0.017973432317376137, 0.013353339396417141, 0.038051243871450424, 0.043033987283706665, 0.039586544036865234, 0.02230064943432808, 0.03898359090089798, 0.5949543118476868, 0.15267716348171234, 0.0, 0.0, 0.0, 0.0, 0.0, 0.0, 0.0, 0.0, 0.0, 0.0, 0.0, 0.0, 0.0], [0.013724936172366142, 0.001612572348676622, 0.000328986527165398, 0.0010084303794428706, 0.0011758035980165005, 0.0007259275298565626, 0.000591875403188169, 0.000961559300776571, 0.003118614898994565, 0.005970005411654711, 0.0030334624461829662, 0.0033444997388869524, 0.008407537825405598, 0.013658505864441395, 0.005607027560472488, 0.005321709904819727, 0.019289927557110786, 0.029109662398695946, 0.013599620200693607, 0.03133778274059296, 0.2513725757598877, 0.5305221080780029, 0.05617689713835716, 0.0, 0.0, 0.0, 0.0, 0.0, 0.0, 0.0, 0.0, 0.0, 0.0, 0.0, 0.0], [0.016002390533685684, 0.0009560453472658992, 0.0005680464091710746, 0.0015549745876342058, 0.00157557288184762, 0.0006219741189852357, 0.00112576421815902, 0.0014368745032697916, 0.0023100459948182106, 0.0009028326021507382, 0.0013921459903940558, 0.0036725883837789297, 0.0036322828382253647, 0.009217393584549427, 0.008623861707746983, 0.027025727555155754, 0.021376440301537514, 0.033301133662462234, 0.038854021579027176, 0.039058368653059006, 0.26596659421920776, 0.19372600317001343, 0.09792890399694443, 0.2291700392961502, 0.0, 0.0, 0.0, 0.0, 0.0, 0.0, 0.0, 0.0, 0.0, 0.0, 0.0], [0.009987280704081059, 0.0009651759173721075, 0.000604157627094537, 0.0009222113294526935, 0.0008805820834822953, 0.0005974333616904914, 0.00021149210806470364, 0.0006455681286752224, 0.0012417678954079747, 0.00068596878554672, 0.0007031494169496, 0.0014577391557395458, 0.0018487715860828757, 0.005077195819467306, 0.0019275668310001493, 0.012413385324180126, 0.008568295277655125, 0.01207367330789566, 0.021936645731329918, 0.02919415384531021, 0.14272752404212952, 0.09834032505750656, 0.11847683787345886, 0.3163195252418518, 0.21219350397586823, 0.0, 0.0, 0.0, 0.0, 0.0, 0.0, 0.0, 0.0, 0.0, 0.0], [0.016860881820321083, 0.001970324432477355, 0.0008858372457325459, 0.0017656385898590088, 0.0023928331211209297, 0.0005271160043776035, 0.000361789163434878, 0.0006361058913171291, 0.0022411327809095383, 0.0008515853551216424, 0.00038157784729264677, 0.0022748305927962065, 0.0018798458622768521, 0.0072922310791909695, 0.002146677114069462, 0.0025263107381761074, 0.010355658829212189, 0.011969313956797123, 0.006590912584215403, 0.012827490456402302, 0.12130492925643921, 0.06624648720026016, 0.14612410962581635, 0.2828071713447571, 0.2470330446958542, 0.04974619671702385, 0.0, 0.0, 0.0, 0.0, 0.0, 0.0, 0.0, 0.0, 0.0], [0.02640504390001297, 0.0014231030363589525, 0.0016234454233199358, 0.0025764068122953176, 0.0026897068601101637, 0.001225753570906818, 0.0010898782638832927, 0.0009538466692902148, 0.0019223557319492102, 0.002411524998024106, 0.002457945141941309, 0.0014354187296703458, 0.00537850009277463, 0.0047323438338935375, 0.001939116045832634, 0.007957516238093376, 0.006086878944188356, 0.012657449580729008, 0.011602518148720264, 0.029096631333231926, 0.08598875254392624, 0.07665879279375076, 0.0362401008605957, 0.13133341073989868, 0.19490285217761993, 0.21766334772109985, 0.13154734671115875, 0.0, 0.0, 0.0, 0.0, 0.0, 0.0, 0.0, 0.0], [0.023896077647805214, 0.0020674995612353086, 0.0025093783624470234, 0.0018512007081881166, 0.0031609688885509968, 0.0009005642496049404, 0.00026854220777750015, 0.0005213552503846586, 0.0017872117459774017, 0.0019308945629745722, 0.0010158229852095246, 0.0010442673228681087, 0.0015677049523219466, 0.004060099832713604, 0.0008207389619201422, 0.003358301939442754, 0.004117114935070276, 0.007223030552268028, 0.014547301456332207, 0.04635157436132431, 0.05601869523525238, 0.03840016946196556, 0.041609931737184525, 0.10494539886713028, 0.15788225829601288, 0.12118800729513168, 0.19090253114700317, 0.16605335474014282, 0.0, 0.0, 0.0, 0.0, 0.0, 0.0, 0.0], [0.04075776785612106, 0.003958364017307758, 0.005698092747479677, 0.003957988694310188, 0.0014047818258404732, 0.0003276948700658977, 0.0006401933496817946, 0.0012045832118019462, 0.002238559303805232, 0.000744848744943738, 0.0038365779910236597, 0.0016206816071644425, 0.0010148304281756282, 0.004261185880750418, 0.0009652949520386755, 0.00039543191087432206, 0.005401064641773701, 0.007263401988893747, 0.005766808055341244, 0.029991867020726204, 0.04173659160733223, 0.017527643591165543, 0.025155050680041313, 0.07565265148878098, 0.24542634189128876, 0.06668499857187271, 0.2648317217826843, 0.05502413213253021, 0.08651081472635269, 0.0, 0.0, 0.0, 0.0, 0.0, 0.0], [0.011784804053604603, 0.0013947567204013467, 0.0009515660931356251, 0.0008953213691711426, 0.001037271460518241, 0.0004972656024619937, 0.0002528386830817908, 0.00043175744940526783, 0.0005345697863958776, 0.0002822920214384794, 0.000427473132731393, 0.0005479570245370269, 0.000803875329438597, 0.0011037475196644664, 0.0010882875649258494, 0.0026353769935667515, 0.0020033163018524647, 0.002939452650025487, 0.0051142084412276745, 0.009162312373518944, 0.0202364232391119, 0.014397257007658482, 0.014386619441211224, 0.052873075008392334, 0.04425815865397453, 0.07174725830554962, 0.08077164739370346, 0.11779721826314926, 0.14486119151115417, 0.3947827219963074, 0.0, 0.0, 0.0, 0.0, 0.0], [0.012992870062589645, 0.0016676136292517185, 0.0010021075140684843, 0.0011761245550587773, 0.0007638350944034755, 0.0004005837254226208, 0.00012849240738432854, 0.00010518695489736274, 0.000560644140932709, 0.00014079382526688278, 0.0001220757985720411, 0.00039859869866631925, 0.00022988345881458372, 0.001107783173210919, 0.00036310270661488175, 0.0008891801116988063, 0.0014402451924979687, 0.0014520201366394758, 0.0026305706705898046, 0.0031673824414610863, 0.017224669456481934, 0.010722344741225243, 0.005023003555834293, 0.04577849805355072, 0.04751968756318092, 0.027067137882113457, 0.05216863006353378, 0.0550079345703125, 0.11481025069952011, 0.4456879198551178, 0.1482507288455963, 0.0, 0.0, 0.0, 0.0], [0.011720031499862671, 0.0009638683404773474, 0.0016792776295915246, 0.0009598798351362348, 0.001183533575385809, 0.000358734920155257, 0.00013125213445164263, 0.00020985878654755652, 0.0003518581506796181, 0.00011673862900352105, 0.0003326715959701687, 0.00020899795345030725, 0.0001630405749892816, 0.0005591603112407029, 0.00017877940263133496, 0.0005847534048371017, 0.0006520416936837137, 0.000810088706202805, 0.0008232028339989483, 0.006545152049511671, 0.007790675852447748, 0.006622519344091415, 0.005052982829511166, 0.014489853754639626, 0.0249420627951622, 0.01901032216846943, 0.02852550707757473, 0.03678775578737259, 0.14266960322856903, 0.23489893972873688, 0.3008542060852051, 0.1498226672410965, 0.0, 0.0, 0.0], [0.01146327517926693, 0.0009014831739477813, 0.0005477442755363882, 0.0005869879387319088, 0.0005616632988676429, 0.00023434808827005327, 0.0001394469873048365, 0.00019926796085201204, 0.00031403053435496986, 0.00012514652917161584, 0.0002147951308870688, 0.00024813468917272985, 0.0002290615811944008, 0.0005020769312977791, 0.00045190175296738744, 0.0006676738848909736, 0.00076385831926018, 0.000946716929320246, 0.0010094370227307081, 0.0037195689510554075, 0.007444900460541248, 0.004500558599829674, 0.0018344334093853831, 0.012973615899682045, 0.015522468835115433, 0.02183826081454754, 0.016228964552283287, 0.024697447195649147, 0.03805321827530861, 0.16302363574504852, 0.11826053261756897, 0.22884759306907654, 0.32294777035713196, 0.0, 0.0], [0.009539722464978695, 0.0014243291225284338, 0.0009944577468559146, 0.0009655575850047171, 0.0007854428258724511, 0.0003016070113517344, 0.00011159556015627459, 0.0008093698415905237, 0.00040054621058516204, 8.517062815371901e-05, 0.0006307563162408769, 0.00020861563098151237, 0.0002525561721995473, 0.0005451840115711093, 0.00024275561736430973, 0.0005828301655128598, 0.0005503922002390027, 0.0010548585560172796, 0.0010979126673191786, 0.004033542703837156, 0.005151558667421341, 0.007251264061778784, 0.003988181706517935, 0.01226039044559002, 0.013561551459133625, 0.03828652948141098, 0.06675273925065994, 0.013111515901982784, 0.10093279182910919, 0.1317910999059677, 0.05432305857539177, 0.15251486003398895, 0.3083246648311615, 0.0671326294541359, 0.0], [0.009234580211341381, 0.0018696906045079231, 0.0015434938250109553, 0.0012878915295004845, 0.0009349419269710779, 0.0002825609117280692, 0.0004494271706789732, 0.0005595001857727766, 0.0003277679206803441, 7.203824497992173e-05, 0.00010657889652065933, 0.0002636239805724472, 0.0003654730389826, 0.00037483105552382767, 0.0003117539163213223, 0.000896913290489465, 0.000634744530543685, 0.0008650020463392138, 0.0008020044188015163, 0.0006307889125309885, 0.0032187800388783216, 0.003845830447971821, 0.0030004377476871014, 0.007814157754182816, 0.010107209905982018, 0.016721554100513458, 0.007672082632780075, 0.010031213983893394, 0.005356382578611374, 0.07757054269313812, 0.03774446249008179, 0.138091042637825, 0.1956760138273239, 0.03074357472360134, 0.4305931031703949]], [[1.0, 0.0, 0.0, 0.0, 0.0, 0.0, 0.0, 0.0, 0.0, 0.0, 0.0, 0.0, 0.0, 0.0, 0.0, 0.0, 0.0, 0.0, 0.0, 0.0, 0.0, 0.0, 0.0, 0.0, 0.0, 0.0, 0.0, 0.0, 0.0, 0.0, 0.0, 0.0, 0.0, 0.0, 0.0], [0.8970722556114197, 0.10292769968509674, 0.0, 0.0, 0.0, 0.0, 0.0, 0.0, 0.0, 0.0, 0.0, 0.0, 0.0, 0.0, 0.0, 0.0, 0.0, 0.0, 0.0, 0.0, 0.0, 0.0, 0.0, 0.0, 0.0, 0.0, 0.0, 0.0, 0.0, 0.0, 0.0, 0.0, 0.0, 0.0, 0.0], [0.7731762528419495, 0.17108605802059174, 0.05573774501681328, 0.0, 0.0, 0.0, 0.0, 0.0, 0.0, 0.0, 0.0, 0.0, 0.0, 0.0, 0.0, 0.0, 0.0, 0.0, 0.0, 0.0, 0.0, 0.0, 0.0, 0.0, 0.0, 0.0, 0.0, 0.0, 0.0, 0.0, 0.0, 0.0, 0.0, 0.0, 0.0], [0.2190985381603241, 0.09592843800783157, 0.1539975255727768, 0.5309755206108093, 0.0, 0.0, 0.0, 0.0, 0.0, 0.0, 0.0, 0.0, 0.0, 0.0, 0.0, 0.0, 0.0, 0.0, 0.0, 0.0, 0.0, 0.0, 0.0, 0.0, 0.0, 0.0, 0.0, 0.0, 0.0, 0.0, 0.0, 0.0, 0.0, 0.0, 0.0], [0.4932919442653656, 0.12421073764562607, 0.08378956466913223, 0.21044498682022095, 0.08826276659965515, 0.0, 0.0, 0.0, 0.0, 0.0, 0.0, 0.0, 0.0, 0.0, 0.0, 0.0, 0.0, 0.0, 0.0, 0.0, 0.0, 0.0, 0.0, 0.0, 0.0, 0.0, 0.0, 0.0, 0.0, 0.0, 0.0, 0.0, 0.0, 0.0, 0.0], [0.4792534112930298, 0.1148393452167511, 0.05825282260775566, 0.12140914797782898, 0.19296900928020477, 0.0332762636244297, 0.0, 0.0, 0.0, 0.0, 0.0, 0.0, 0.0, 0.0, 0.0, 0.0, 0.0, 0.0, 0.0, 0.0, 0.0, 0.0, 0.0, 0.0, 0.0, 0.0, 0.0, 0.0, 0.0, 0.0, 0.0, 0.0, 0.0, 0.0, 0.0], [0.33760711550712585, 0.13038286566734314, 0.12365778535604477, 0.1684831976890564, 0.03948561102151871, 0.15522722899913788, 0.04515616595745087, 0.0, 0.0, 0.0, 0.0, 0.0, 0.0, 0.0, 0.0, 0.0, 0.0, 0.0, 0.0, 0.0, 0.0, 0.0, 0.0, 0.0, 0.0, 0.0, 0.0, 0.0, 0.0, 0.0, 0.0, 0.0, 0.0, 0.0, 0.0], [0.31243157386779785, 0.10335508733987808, 0.07322120666503906, 0.1307743787765503, 0.08650772273540497, 0.2037174254655838, 0.04714130982756615, 0.04285132884979248, 0.0, 0.0, 0.0, 0.0, 0.0, 0.0, 0.0, 0.0, 0.0, 0.0, 0.0, 0.0, 0.0, 0.0, 0.0, 0.0, 0.0, 0.0, 0.0, 0.0, 0.0, 0.0, 0.0, 0.0, 0.0, 0.0, 0.0], [0.107199527323246, 0.032564789056777954, 0.0461539663374424, 0.12522773444652557, 0.01110523659735918, 0.03433005139231682, 0.007858384400606155, 0.011366572231054306, 0.6241937875747681, 0.0, 0.0, 0.0, 0.0, 0.0, 0.0, 0.0, 0.0, 0.0, 0.0, 0.0, 0.0, 0.0, 0.0, 0.0, 0.0, 0.0, 0.0, 0.0, 0.0, 0.0, 0.0, 0.0, 0.0, 0.0, 0.0], [0.3028891384601593, 0.07804971188306808, 0.059376489371061325, 0.09426908940076828, 0.17377148568630219, 0.03861624747514725, 0.048025283962488174, 0.03951253741979599, 0.13237620890140533, 0.033113766461610794, 0.0, 0.0, 0.0, 0.0, 0.0, 0.0, 0.0, 0.0, 0.0, 0.0, 0.0, 0.0, 0.0, 0.0, 0.0, 0.0, 0.0, 0.0, 0.0, 0.0, 0.0, 0.0, 0.0, 0.0, 0.0], [0.13027670979499817, 0.04213488847017288, 0.07258212566375732, 0.10922868549823761, 0.03630434721708298, 0.1911258101463318, 0.03369796276092529, 0.05715862661600113, 0.11187217384576797, 0.16414131224155426, 0.05147741734981537, 0.0, 0.0, 0.0, 0.0, 0.0, 0.0, 0.0, 0.0, 0.0, 0.0, 0.0, 0.0, 0.0, 0.0, 0.0, 0.0, 0.0, 0.0, 0.0, 0.0, 0.0, 0.0, 0.0, 0.0], [0.09464419633150101, 0.029253456741571426, 0.03811939060688019, 0.1498957872390747, 0.020670881494879723, 0.0763171836733818, 0.008947474882006645, 0.020045081153512, 0.30578556656837463, 0.0475209504365921, 0.010440819896757603, 0.1983591616153717, 0.0, 0.0, 0.0, 0.0, 0.0, 0.0, 0.0, 0.0, 0.0, 0.0, 0.0, 0.0, 0.0, 0.0, 0.0, 0.0, 0.0, 0.0, 0.0, 0.0, 0.0, 0.0, 0.0], [0.1444079875946045, 0.06329525262117386, 0.07617758959531784, 0.07194557785987854, 0.033941056579351425, 0.08442073315382004, 0.035940222442150116, 0.07685541361570358, 0.11588279157876968, 0.05951951816678047, 0.06183495745062828, 0.14841710031032562, 0.027361802756786346, 0.0, 0.0, 0.0, 0.0, 0.0, 0.0, 0.0, 0.0, 0.0, 0.0, 0.0, 0.0, 0.0, 0.0, 0.0, 0.0, 0.0, 0.0, 0.0, 0.0, 0.0, 0.0], [0.0414787232875824, 0.011494412086904049, 0.0176435224711895, 0.0459972508251667, 0.004085009917616844, 0.01370110921561718, 0.0028709021862596273, 0.004510773345828056, 0.24164846539497375, 0.009729509241878986, 0.0026167347095906734, 0.2641770839691162, 0.008053767494857311, 0.3319927453994751, 0.0, 0.0, 0.0, 0.0, 0.0, 0.0, 0.0, 0.0, 0.0, 0.0, 0.0, 0.0, 0.0, 0.0, 0.0, 0.0, 0.0, 0.0, 0.0, 0.0, 0.0], [0.1515585333108902, 0.0377250574529171, 0.027330657467246056, 0.060524746775627136, 0.03014330007135868, 0.028034882619976997, 0.013341412879526615, 0.022503025829792023, 0.11653431504964828, 0.05189971998333931, 0.010558655485510826, 0.10229876637458801, 0.01516728289425373, 0.14137382805347443, 0.19100579619407654, 0.0, 0.0, 0.0, 0.0, 0.0, 0.0, 0.0, 0.0, 0.0, 0.0, 0.0, 0.0, 0.0, 0.0, 0.0, 0.0, 0.0, 0.0, 0.0, 0.0], [0.2839045524597168, 0.0650240108370781, 0.03238335996866226, 0.029591107740998268, 0.042432039976119995, 0.028469795361161232, 0.041533127427101135, 0.08465306460857391, 0.043854955583810806, 0.027530398219823837, 0.092181496322155, 0.03751114755868912, 0.048919059336185455, 0.04984966292977333, 0.0791383758187294, 0.013023816049098969, 0.0, 0.0, 0.0, 0.0, 0.0, 0.0, 0.0, 0.0, 0.0, 0.0, 0.0, 0.0, 0.0, 0.0, 0.0, 0.0, 0.0, 0.0, 0.0], [0.04885760322213173, 0.014007379300892353, 0.019542613998055458, 0.07337552309036255, 0.010089151561260223, 0.039725713431835175, 0.004310055170208216, 0.01059032417833805, 0.15303605794906616, 0.026499038562178612, 0.005417252890765667, 0.09647629410028458, 0.012806718237698078, 0.204786479473114, 0.14743390679359436, 0.009689196944236755, 0.12335667759180069, 0.0, 0.0, 0.0, 0.0, 0.0, 0.0, 0.0, 0.0, 0.0, 0.0, 0.0, 0.0, 0.0, 0.0, 0.0, 0.0, 0.0, 0.0], [0.059431206434965134, 0.025951188057661057, 0.03547388315200806, 0.039079729467630386, 0.018049320206046104, 0.02308724820613861, 0.010503756813704967, 0.03006952814757824, 0.09918282926082611, 0.03614410012960434, 0.018410036340355873, 0.1174149215221405, 0.017167577520012856, 0.12769992649555206, 0.08459018915891647, 0.037902723997831345, 0.1457723081111908, 0.07406948506832123, 0.0, 0.0, 0.0, 0.0, 0.0, 0.0, 0.0, 0.0, 0.0, 0.0, 0.0, 0.0, 0.0, 0.0, 0.0, 0.0, 0.0], [0.27248910069465637, 0.04502272605895996, 0.04612242057919502, 0.04205197095870972, 0.038135651499032974, 0.05454427748918533, 0.02570655755698681, 0.019254149869084358, 0.04536459594964981, 0.0510687492787838, 0.02147934027016163, 0.05142936855554581, 0.035683076828718185, 0.051102474331855774, 0.0422101765871048, 0.03813282400369644, 0.057898230850696564, 0.02354007586836815, 0.03876425698399544, 0.0, 0.0, 0.0, 0.0, 0.0, 0.0, 0.0, 0.0, 0.0, 0.0, 0.0, 0.0, 0.0, 0.0, 0.0, 0.0], [0.2398124486207962, 0.03723884001374245, 0.04641323164105415, 0.018074780702590942, 0.028609469532966614, 0.0315636470913887, 0.02326367236673832, 0.053141169250011444, 0.0367298386991024, 0.044361598789691925, 0.014089997857809067, 0.04079652950167656, 0.013384060934185982, 0.040182746946811676, 0.02512497454881668, 0.022283203899860382, 0.04457438364624977, 0.026357240974903107, 0.01850210130214691, 0.19549603760242462, 0.0, 0.0, 0.0, 0.0, 0.0, 0.0, 0.0, 0.0, 0.0, 0.0, 0.0, 0.0, 0.0, 0.0, 0.0], [0.034472543746232986, 0.007049789652228355, 0.008516225032508373, 0.01982327550649643, 0.0020061933901160955, 0.00873849168419838, 0.0013805312337353826, 0.00258498708717525, 0.1296386867761612, 0.004980519413948059, 0.0014542945427820086, 0.09793516248464584, 0.004242658615112305, 0.1747492402791977, 0.020575352013111115, 0.002921729115769267, 0.12519215047359467, 0.017666758969426155, 0.008172445930540562, 0.006463977973908186, 0.32143500447273254, 0.0, 0.0, 0.0, 0.0, 0.0, 0.0, 0.0, 0.0, 0.0, 0.0, 0.0, 0.0, 0.0, 0.0], [0.0753212422132492, 0.01738511212170124, 0.026499610394239426, 0.03820114955306053, 0.01346430554986, 0.01700493134558201, 0.005682715214788914, 0.008161389268934727, 0.08791026473045349, 0.01565200462937355, 0.0046223727986216545, 0.06870013475418091, 0.017068391665816307, 0.11098409444093704, 0.08843353390693665, 0.015540484338998795, 0.08290651440620422, 0.03445708379149437, 0.034902893006801605, 0.02266903594136238, 0.16727584600448608, 0.04715689271688461, 0.0, 0.0, 0.0, 0.0, 0.0, 0.0, 0.0, 0.0, 0.0, 0.0, 0.0, 0.0, 0.0], [0.11039696633815765, 0.017618611454963684, 0.012073229998350143, 0.07903020083904266, 0.04707180708646774, 0.02839348092675209, 0.010853307321667671, 0.038982927799224854, 0.04254178702831268, 0.05313577875494957, 0.010616577230393887, 0.04066743329167366, 0.016578683629631996, 0.050442520529031754, 0.04148310050368309, 0.011694188229739666, 0.0489439032971859, 0.04587530344724655, 0.06803460419178009, 0.031458184123039246, 0.0737365186214447, 0.09332364797592163, 0.0270472913980484, 0.0, 0.0, 0.0, 0.0, 0.0, 0.0, 0.0, 0.0, 0.0, 0.0, 0.0, 0.0], [0.05010591074824333, 0.01140363235026598, 0.0189800001680851, 0.048291102051734924, 0.00547816650941968, 0.027938125655055046, 0.003475345205515623, 0.009667644277215004, 0.08883965015411377, 0.02145979553461075, 0.009184247814118862, 0.06738956272602081, 0.006293781567364931, 0.11730514466762543, 0.05559385195374489, 0.023259572684764862, 0.08538822084665298, 0.030172372236847878, 0.018553778529167175, 0.049727216362953186, 0.1386995017528534, 0.03593090549111366, 0.029570575803518295, 0.047291941940784454, 0.0, 0.0, 0.0, 0.0, 0.0, 0.0, 0.0, 0.0, 0.0, 0.0, 0.0], [0.03365061432123184, 0.03973433002829552, 0.013943269848823547, 0.022155029699206352, 0.007374103181064129, 0.01253434643149376, 0.003937930800020695, 0.005588034633547068, 0.052764177322387695, 0.011353474110364914, 0.0029761551413685083, 0.06122001260519028, 0.007114538457244635, 0.06609285622835159, 0.018457191064953804, 0.004707180894911289, 0.07780604809522629, 0.01593407429754734, 0.016269709914922714, 0.027332937344908714, 0.08945077657699585, 0.02828321047127247, 0.01342834997922182, 0.24125005304813385, 0.1266416609287262, 0.0, 0.0, 0.0, 0.0, 0.0, 0.0, 0.0, 0.0, 0.0, 0.0], [0.10162997245788574, 0.0481734424829483, 0.022741518914699554, 0.017647162079811096, 0.01635766215622425, 0.014718187041580677, 0.020238911733031273, 0.030098289251327515, 0.03836439549922943, 0.025297462940216064, 0.03959345072507858, 0.04179811850190163, 0.01849495805799961, 0.04345664009451866, 0.023876944556832314, 0.01341192051768303, 0.04804753139615059, 0.021995292976498604, 0.030744757503271103, 0.051684729754924774, 0.05786484479904175, 0.04216013476252556, 0.05038999766111374, 0.08024898171424866, 0.07608184963464737, 0.024882813915610313, 0.0, 0.0, 0.0, 0.0, 0.0, 0.0, 0.0, 0.0, 0.0], [0.06603526324033737, 0.020660122856497765, 0.021681709215044975, 0.034087616950273514, 0.015279403887689114, 0.018442003056406975, 0.010789590887725353, 0.05595836415886879, 0.035654857754707336, 0.021738853305578232, 0.02566494233906269, 0.03946555033326149, 0.019091859459877014, 0.0426049642264843, 0.045140340924263, 0.012913591228425503, 0.04735580086708069, 0.025561869144439697, 0.03524414822459221, 0.09746365249156952, 0.05611314997076988, 0.03593846410512924, 0.03256700560450554, 0.04301983490586281, 0.046976737678050995, 0.032461270689964294, 0.06208905205130577, 0.0, 0.0, 0.0, 0.0, 0.0, 0.0, 0.0, 0.0], [0.10541097074747086, 0.0169731043279171, 0.02034102752804756, 0.03266652300953865, 0.02185114286839962, 0.031789906322956085, 0.0055712079629302025, 0.02419454976916313, 0.0167404655367136, 0.01608254387974739, 0.013484916649758816, 0.022790374234318733, 0.020844895392656326, 0.019816402345895767, 0.007411998696625233, 0.01303507573902607, 0.02698247879743576, 0.010132262483239174, 0.017667710781097412, 0.2972624897956848, 0.02345716953277588, 0.03235583007335663, 0.03224533423781395, 0.019980134442448616, 0.05017192289233208, 0.04827892407774925, 0.03308819979429245, 0.019372403621673584, 0.0, 0.0, 0.0, 0.0, 0.0, 0.0, 0.0], [0.11478215456008911, 0.028451891615986824, 0.030158083885908127, 0.029890717938542366, 0.015577701851725578, 0.04523630812764168, 0.008156673051416874, 0.046777646988630295, 0.02057458832859993, 0.018089191988110542, 0.016638444736599922, 0.02435152232646942, 0.014281017705798149, 0.022870570421218872, 0.024558434262871742, 0.021522242575883865, 0.027740120887756348, 0.01226316299289465, 0.016789689660072327, 0.030601775273680687, 0.033104460686445236, 0.04230615124106407, 0.050134189426898956, 0.039895664900541306, 0.02547144889831543, 0.038356490433216095, 0.1483658105134964, 0.04062194004654884, 0.012431962415575981, 0.0, 0.0, 0.0, 0.0, 0.0, 0.0], [0.01040296908468008, 0.00398831395432353, 0.007536553777754307, 0.02371405065059662, 0.0015747002325952053, 0.004556500352919102, 0.0011461444664746523, 0.00202065403573215, 0.08388333022594452, 0.006093548610806465, 0.001224363804794848, 0.0801197737455368, 0.003282930701971054, 0.11485141515731812, 0.020138543099164963, 0.003874026471748948, 0.10355652123689651, 0.016239918768405914, 0.006219519302248955, 0.01115878764539957, 0.12897230684757233, 0.01691609062254429, 0.008813069202005863, 0.028795937076210976, 0.06059353053569794, 0.005618596915155649, 0.016893552616238594, 0.008791654370725155, 0.01702238991856575, 0.20200029015541077, 0.0, 0.0, 0.0, 0.0, 0.0], [0.05472036078572273, 0.01595444418489933, 0.012098261155188084, 0.02283376455307007, 0.018985208123922348, 0.028783900663256645, 0.008076785132288933, 0.008372066542506218, 0.03956407308578491, 0.012315304018557072, 0.009588337503373623, 0.023571282625198364, 0.010643106885254383, 0.04663843289017677, 0.014515901915729046, 0.012394601479172707, 0.02759736031293869, 0.021691439673304558, 0.020180562511086464, 0.0182392168790102, 0.05496655032038689, 0.037117861211299896, 0.024245016276836395, 0.034996047616004944, 0.14947667717933655, 0.029019521549344063, 0.04327647015452385, 0.01586645282804966, 0.045115385204553604, 0.11428382992744446, 0.024871768429875374, 0.0, 0.0, 0.0, 0.0], [0.028266320005059242, 0.008342583663761616, 0.009693162515759468, 0.024003297090530396, 0.01240698155015707, 0.009731605648994446, 0.007254777010530233, 0.011378854513168335, 0.04525342956185341, 0.014661086723208427, 0.004759798292070627, 0.0327930673956871, 0.009599768556654453, 0.05662671476602554, 0.023795727640390396, 0.004614104516804218, 0.039821453392505646, 0.021239008754491806, 0.025286562740802765, 0.10159794241189957, 0.09278310835361481, 0.026123864576220512, 0.0150914266705513, 0.034585658460855484, 0.06182192265987396, 0.013406997546553612, 0.0168897844851017, 0.03089354746043682, 0.028194859623908997, 0.1103137880563736, 0.04056956619024277, 0.03819922357797623, 0.0, 0.0, 0.0], [0.005920094903558493, 0.002644827589392662, 0.005754887126386166, 0.02199716307222843, 0.0013081289362162352, 0.00572653952986002, 0.000870405463501811, 0.001894041895866394, 0.05295497924089432, 0.004725009202957153, 0.000999944400973618, 0.04342706501483917, 0.0021749825682491064, 0.07363719493150711, 0.017015771940350533, 0.0030869946349412203, 0.05779087543487549, 0.010734477080404758, 0.0034258223604410887, 0.010332698933780193, 0.08509063720703125, 0.012429160065948963, 0.006230237893760204, 0.02222100831568241, 0.06411115825176239, 0.0050534834153950214, 0.018152376636862755, 0.007594152353703976, 0.006786440499126911, 0.16716450452804565, 0.013871806673705578, 0.01475562434643507, 0.2501175105571747, 0.0, 0.0], [0.05958714336156845, 0.014287114143371582, 0.009688668884336948, 0.02847459726035595, 0.028604814782738686, 0.026259344071149826, 0.008819644339382648, 0.022136041894555092, 0.017910219728946686, 0.026397541165351868, 0.017243588343262672, 0.025983812287449837, 0.006316178943961859, 0.020043158903717995, 0.015440615825355053, 0.025940248742699623, 0.030103040859103203, 0.018365338444709778, 0.02313040941953659, 0.02621457353234291, 0.031157249584794044, 0.02898617647588253, 0.02896128036081791, 0.01643521711230278, 0.03480092063546181, 0.03794369101524353, 0.07380679249763489, 0.030772441998124123, 0.028517266735434532, 0.07387098670005798, 0.024587716907262802, 0.03523406758904457, 0.08090806007385254, 0.023072021082043648, 0.0], [0.052589889615774155, 0.008282381109893322, 0.004686588887125254, 0.011556102894246578, 0.002124359831213951, 0.00737666105851531, 0.0025699117686599493, 0.005167299881577492, 0.06430476903915405, 0.008688672445714474, 0.004349815659224987, 0.05405205115675926, 0.0035673296079039574, 0.08101722598075867, 0.021457025781273842, 0.004144078586250544, 0.0662156268954277, 0.018716931343078613, 0.009488229639828205, 0.006038550287485123, 0.10274297744035721, 0.014565215446054935, 0.009106303565204144, 0.021657662466168404, 0.035248011350631714, 0.004852636717259884, 0.008422162383794785, 0.019589491188526154, 0.01188589446246624, 0.14464662969112396, 0.016607558354735374, 0.02283477410674095, 0.08476626873016357, 0.015126856043934822, 0.05155405029654503]], [[1.0, 0.0, 0.0, 0.0, 0.0, 0.0, 0.0, 0.0, 0.0, 0.0, 0.0, 0.0, 0.0, 0.0, 0.0, 0.0, 0.0, 0.0, 0.0, 0.0, 0.0, 0.0, 0.0, 0.0, 0.0, 0.0, 0.0, 0.0, 0.0, 0.0, 0.0, 0.0, 0.0, 0.0, 0.0], [0.8803902268409729, 0.11960973590612411, 0.0, 0.0, 0.0, 0.0, 0.0, 0.0, 0.0, 0.0, 0.0, 0.0, 0.0, 0.0, 0.0, 0.0, 0.0, 0.0, 0.0, 0.0, 0.0, 0.0, 0.0, 0.0, 0.0, 0.0, 0.0, 0.0, 0.0, 0.0, 0.0, 0.0, 0.0, 0.0, 0.0], [0.800162672996521, 0.14422567188739777, 0.055611662566661835, 0.0, 0.0, 0.0, 0.0, 0.0, 0.0, 0.0, 0.0, 0.0, 0.0, 0.0, 0.0, 0.0, 0.0, 0.0, 0.0, 0.0, 0.0, 0.0, 0.0, 0.0, 0.0, 0.0, 0.0, 0.0, 0.0, 0.0, 0.0, 0.0, 0.0, 0.0, 0.0], [0.6471942067146301, 0.14701777696609497, 0.07931008189916611, 0.1264779418706894, 0.0, 0.0, 0.0, 0.0, 0.0, 0.0, 0.0, 0.0, 0.0, 0.0, 0.0, 0.0, 0.0, 0.0, 0.0, 0.0, 0.0, 0.0, 0.0, 0.0, 0.0, 0.0, 0.0, 0.0, 0.0, 0.0, 0.0, 0.0, 0.0, 0.0, 0.0], [0.6291002035140991, 0.1326993703842163, 0.08307389169931412, 0.10306603461503983, 0.052060455083847046, 0.0, 0.0, 0.0, 0.0, 0.0, 0.0, 0.0, 0.0, 0.0, 0.0, 0.0, 0.0, 0.0, 0.0, 0.0, 0.0, 0.0, 0.0, 0.0, 0.0, 0.0, 0.0, 0.0, 0.0, 0.0, 0.0, 0.0, 0.0, 0.0, 0.0], [0.5631014108657837, 0.12375939637422562, 0.1115972101688385, 0.10842732340097427, 0.08343344926834106, 0.009681190364062786, 0.0, 0.0, 0.0, 0.0, 0.0, 0.0, 0.0, 0.0, 0.0, 0.0, 0.0, 0.0, 0.0, 0.0, 0.0, 0.0, 0.0, 0.0, 0.0, 0.0, 0.0, 0.0, 0.0, 0.0, 0.0, 0.0, 0.0, 0.0, 0.0], [0.49733906984329224, 0.11400076001882553, 0.07851860672235489, 0.10408832132816315, 0.08229989558458328, 0.08720175921916962, 0.036551617085933685, 0.0, 0.0, 0.0, 0.0, 0.0, 0.0, 0.0, 0.0, 0.0, 0.0, 0.0, 0.0, 0.0, 0.0, 0.0, 0.0, 0.0, 0.0, 0.0, 0.0, 0.0, 0.0, 0.0, 0.0, 0.0, 0.0, 0.0, 0.0], [0.4618663191795349, 0.10720601677894592, 0.07680262625217438, 0.09525883942842484, 0.11179572343826294, 0.04683658108115196, 0.06328980624675751, 0.03694411367177963, 0.0, 0.0, 0.0, 0.0, 0.0, 0.0, 0.0, 0.0, 0.0, 0.0, 0.0, 0.0, 0.0, 0.0, 0.0, 0.0, 0.0, 0.0, 0.0, 0.0, 0.0, 0.0, 0.0, 0.0, 0.0, 0.0, 0.0], [0.408801794052124, 0.11223538219928741, 0.06194949895143509, 0.08138207346200943, 0.06888709217309952, 0.047599393874406815, 0.05779564753174782, 0.06300585716962814, 0.09834323078393936, 0.0, 0.0, 0.0, 0.0, 0.0, 0.0, 0.0, 0.0, 0.0, 0.0, 0.0, 0.0, 0.0, 0.0, 0.0, 0.0, 0.0, 0.0, 0.0, 0.0, 0.0, 0.0, 0.0, 0.0, 0.0, 0.0], [0.3377854526042938, 0.07768953591585159, 0.06164022907614708, 0.08030419796705246, 0.092434823513031, 0.12569789588451385, 0.043102774769067764, 0.0800650492310524, 0.08753135055303574, 0.01374861691147089, 0.0, 0.0, 0.0, 0.0, 0.0, 0.0, 0.0, 0.0, 0.0, 0.0, 0.0, 0.0, 0.0, 0.0, 0.0, 0.0, 0.0, 0.0, 0.0, 0.0, 0.0, 0.0, 0.0, 0.0, 0.0], [0.40844565629959106, 0.07972611486911774, 0.05943281576037407, 0.07098966836929321, 0.06258390098810196, 0.07298712432384491, 0.05290913209319115, 0.06663110107183456, 0.08486580103635788, 0.030785245820879936, 0.010643372312188148, 0.0, 0.0, 0.0, 0.0, 0.0, 0.0, 0.0, 0.0, 0.0, 0.0, 0.0, 0.0, 0.0, 0.0, 0.0, 0.0, 0.0, 0.0, 0.0, 0.0, 0.0, 0.0, 0.0, 0.0], [0.3284088671207428, 0.08126058429479599, 0.052221186459064484, 0.0667019784450531, 0.06221223250031471, 0.04688328132033348, 0.04748225957155228, 0.049437135457992554, 0.0864437073469162, 0.05108509212732315, 0.04660409688949585, 0.08125963062047958, 0.0, 0.0, 0.0, 0.0, 0.0, 0.0, 0.0, 0.0, 0.0, 0.0, 0.0, 0.0, 0.0, 0.0, 0.0, 0.0, 0.0, 0.0, 0.0, 0.0, 0.0, 0.0, 0.0], [0.2845637798309326, 0.07334224879741669, 0.05956626683473587, 0.05995682626962662, 0.0626126378774643, 0.04492250829935074, 0.05354888737201691, 0.0553952120244503, 0.0760505199432373, 0.05439148470759392, 0.055210091173648834, 0.0848141610622406, 0.03562536463141441, 0.0, 0.0, 0.0, 0.0, 0.0, 0.0, 0.0, 0.0, 0.0, 0.0, 0.0, 0.0, 0.0, 0.0, 0.0, 0.0, 0.0, 0.0, 0.0, 0.0, 0.0, 0.0], [0.2986924946308136, 0.08053489774465561, 0.04630003124475479, 0.058416109532117844, 0.05245252326130867, 0.03589673712849617, 0.04313004016876221, 0.04816412925720215, 0.07179588079452515, 0.03588227555155754, 0.034986358135938644, 0.06638611853122711, 0.04749889671802521, 0.07986355572938919, 0.0, 0.0, 0.0, 0.0, 0.0, 0.0, 0.0, 0.0, 0.0, 0.0, 0.0, 0.0, 0.0, 0.0, 0.0, 0.0, 0.0, 0.0, 0.0, 0.0, 0.0], [0.2618485987186432, 0.06895224750041962, 0.04662094637751579, 0.05860460549592972, 0.04692878574132919, 0.05568015202879906, 0.04915206879377365, 0.04117780551314354, 0.07490760087966919, 0.031984250992536545, 0.03257222846150398, 0.07257071882486343, 0.037398774176836014, 0.08542976528406143, 0.03617139160633087, 0.0, 0.0, 0.0, 0.0, 0.0, 0.0, 0.0, 0.0, 0.0, 0.0, 0.0, 0.0, 0.0, 0.0, 0.0, 0.0, 0.0, 0.0, 0.0, 0.0], [0.29417479038238525, 0.053609173744916916, 0.03860876336693764, 0.04952670633792877, 0.040609195828437805, 0.04149328172206879, 0.029716243967413902, 0.045369818806648254, 0.06024932861328125, 0.04159964993596077, 0.06637392193078995, 0.05982467904686928, 0.04050292819738388, 0.06734269857406616, 0.060957349836826324, 0.010041490197181702, 0.0, 0.0, 0.0, 0.0, 0.0, 0.0, 0.0, 0.0, 0.0, 0.0, 0.0, 0.0, 0.0, 0.0, 0.0, 0.0, 0.0, 0.0, 0.0], [0.24078042805194855, 0.05731501802802086, 0.03812982141971588, 0.04762376472353935, 0.04672614857554436, 0.035154759883880615, 0.03462180122733116, 0.037472426891326904, 0.06234780699014664, 0.0395454466342926, 0.03574429079890251, 0.05874498933553696, 0.0340784415602684, 0.07071569561958313, 0.054391179233789444, 0.039451491087675095, 0.06715649366378784, 0.0, 0.0, 0.0, 0.0, 0.0, 0.0, 0.0, 0.0, 0.0, 0.0, 0.0, 0.0, 0.0, 0.0, 0.0, 0.0, 0.0, 0.0], [0.19008123874664307, 0.05546913668513298, 0.03824985772371292, 0.04468468576669693, 0.0434919036924839, 0.03729134798049927, 0.035000309348106384, 0.03413337841629982, 0.056148409843444824, 0.029018191620707512, 0.026478584855794907, 0.06265047192573547, 0.035022009164094925, 0.06568855047225952, 0.05714196339249611, 0.04781632497906685, 0.07356441766023636, 0.06806918978691101, 0.0, 0.0, 0.0, 0.0, 0.0, 0.0, 0.0, 0.0, 0.0, 0.0, 0.0, 0.0, 0.0, 0.0, 0.0, 0.0, 0.0], [0.23406481742858887, 0.04765680059790611, 0.03626639023423195, 0.043501537293195724, 0.04482332244515419, 0.030926154926419258, 0.024145539849996567, 0.030471060425043106, 0.05100267753005028, 0.0385214164853096, 0.04128362238407135, 0.052890971302986145, 0.027892813086509705, 0.05738880857825279, 0.06066998839378357, 0.043871041387319565, 0.05933021008968353, 0.05117018520832062, 0.024122701957821846, 0.0, 0.0, 0.0, 0.0, 0.0, 0.0, 0.0, 0.0, 0.0, 0.0, 0.0, 0.0, 0.0, 0.0, 0.0, 0.0], [0.3121168613433838, 0.04305700957775116, 0.030739206820726395, 0.03990122675895691, 0.04073917120695114, 0.03397354483604431, 0.013991201296448708, 0.03250168636441231, 0.04214293882250786, 0.03136740252375603, 0.05722319707274437, 0.04209975525736809, 0.03285329416394234, 0.04662720859050751, 0.048747751861810684, 0.021730592474341393, 0.047223761677742004, 0.029857581481337547, 0.04530389979481697, 0.007802656851708889, 0.0, 0.0, 0.0, 0.0, 0.0, 0.0, 0.0, 0.0, 0.0, 0.0, 0.0, 0.0, 0.0, 0.0, 0.0], [0.19583050906658173, 0.05227474868297577, 0.03251207247376442, 0.03705889359116554, 0.04335429146885872, 0.027641303837299347, 0.027452072128653526, 0.03308156132698059, 0.04532440006732941, 0.025406742468476295, 0.024781618267297745, 0.038880493491888046, 0.030247308313846588, 0.05089512839913368, 0.041287776082754135, 0.03749212995171547, 0.044253215193748474, 0.04428721219301224, 0.04519394785165787, 0.05072396993637085, 0.07202053815126419, 0.0, 0.0, 0.0, 0.0, 0.0, 0.0, 0.0, 0.0, 0.0, 0.0, 0.0, 0.0, 0.0, 0.0], [0.16079992055892944, 0.04841071739792824, 0.0330209843814373, 0.03441707044839859, 0.03531980141997337, 0.02389703318476677, 0.026063477620482445, 0.028639718890190125, 0.044538747519254684, 0.02494947798550129, 0.029716160148382187, 0.04012999311089516, 0.024859067052602768, 0.05134393647313118, 0.053735386580228806, 0.04527631402015686, 0.04680594801902771, 0.03460599482059479, 0.04245501384139061, 0.05485451593995094, 0.06976335495710373, 0.04639733210206032, 0.0, 0.0, 0.0, 0.0, 0.0, 0.0, 0.0, 0.0, 0.0, 0.0, 0.0, 0.0, 0.0], [0.18932515382766724, 0.039103616029024124, 0.02485201321542263, 0.03345050290226936, 0.038601599633693695, 0.02410930022597313, 0.020502112805843353, 0.02430175058543682, 0.039764706045389175, 0.03418166935443878, 0.03484785556793213, 0.03619781881570816, 0.023668939247727394, 0.0450248084962368, 0.03498942404985428, 0.02682553417980671, 0.04153791069984436, 0.03736663609743118, 0.04202277585864067, 0.055910415947437286, 0.06404416263103485, 0.05618631839752197, 0.03318498283624649, 0.0, 0.0, 0.0, 0.0, 0.0, 0.0, 0.0, 0.0, 0.0, 0.0, 0.0, 0.0], [0.16596606373786926, 0.03388112038373947, 0.020657526329159737, 0.03212728723883629, 0.03747253119945526, 0.026519479230046272, 0.01988290250301361, 0.02560964599251747, 0.04091743752360344, 0.02261032722890377, 0.019720876589417458, 0.03376534581184387, 0.023503819480538368, 0.04644526168704033, 0.03541431203484535, 0.027368437498807907, 0.0387694276869297, 0.03146073594689369, 0.04639926925301552, 0.04867470636963844, 0.06382153183221817, 0.06529749929904938, 0.04629907384514809, 0.047415390610694885, 0.0, 0.0, 0.0, 0.0, 0.0, 0.0, 0.0, 0.0, 0.0, 0.0, 0.0], [0.1551409512758255, 0.03631480038166046, 0.022236889228224754, 0.02809741534292698, 0.04015665128827095, 0.02405598945915699, 0.01740090548992157, 0.0214985441416502, 0.03675065562129021, 0.01798674650490284, 0.01970391720533371, 0.028327779844403267, 0.02260460890829563, 0.041680529713630676, 0.030497945845127106, 0.025585608556866646, 0.032487597316503525, 0.027014952152967453, 0.04112284258008003, 0.04738447070121765, 0.0638233870267868, 0.05655011534690857, 0.041199978440999985, 0.06263259798288345, 0.05974406749010086, 0.0, 0.0, 0.0, 0.0, 0.0, 0.0, 0.0, 0.0, 0.0, 0.0], [0.12975940108299255, 0.02733970806002617, 0.029957514256238937, 0.022702839225530624, 0.03781533241271973, 0.03144635260105133, 0.017136750742793083, 0.04656491428613663, 0.030618293210864067, 0.018781675025820732, 0.025273192673921585, 0.028721975162625313, 0.01909094862639904, 0.03481001406908035, 0.026170210912823677, 0.026817739009857178, 0.032960373908281326, 0.02496025525033474, 0.05474758893251419, 0.057801052927970886, 0.05617620795965195, 0.03305983170866966, 0.05767422914505005, 0.04667418822646141, 0.06228697672486305, 0.020652366802096367, 0.0, 0.0, 0.0, 0.0, 0.0, 0.0, 0.0, 0.0, 0.0], [0.18126997351646423, 0.027924951165914536, 0.028055915609002113, 0.02945740707218647, 0.028532743453979492, 0.020307764410972595, 0.019550148397684097, 0.03153108432888985, 0.02923283725976944, 0.021110547706484795, 0.014580843038856983, 0.022505318745970726, 0.016256755217909813, 0.03150884434580803, 0.024519706144928932, 0.03659055754542351, 0.025034500285983086, 0.02003067545592785, 0.04726613312959671, 0.12142347544431686, 0.041896265000104904, 0.036460913717746735, 0.03734692186117172, 0.03705746680498123, 0.03521093353629112, 0.024784505367279053, 0.0105528449639678, 0.0, 0.0, 0.0, 0.0, 0.0, 0.0, 0.0, 0.0], [0.141932412981987, 0.026873424649238586, 0.02339441142976284, 0.02419888786971569, 0.034410908818244934, 0.031768206506967545, 0.01428281795233488, 0.027884993702173233, 0.027823276817798615, 0.020267942920327187, 0.020075341686606407, 0.026035411283373833, 0.01527104340493679, 0.031183551996946335, 0.021344449371099472, 0.03078087978065014, 0.029686477035284042, 0.02496618591248989, 0.03290621563792229, 0.08126566559076309, 0.04738020524382591, 0.0395049974322319, 0.038106054067611694, 0.039200231432914734, 0.04723041504621506, 0.03223777562379837, 0.047684960067272186, 0.02230280451476574, 0.0, 0.0, 0.0, 0.0, 0.0, 0.0, 0.0], [0.19361071288585663, 0.028910446912050247, 0.017410729080438614, 0.024991966784000397, 0.020412279292941093, 0.03692350909113884, 0.018564041703939438, 0.02249111793935299, 0.026469886302947998, 0.019851721823215485, 0.016706887632608414, 0.020129593089222908, 0.01730293780565262, 0.02887752652168274, 0.019370287656784058, 0.02151292748749256, 0.022604644298553467, 0.019465507939457893, 0.03218546137213707, 0.09415604919195175, 0.03964083269238472, 0.04692871868610382, 0.032965488731861115, 0.03432746231555939, 0.03549887239933014, 0.04152423515915871, 0.03800846263766289, 0.024193791672587395, 0.004963915329426527, 0.0, 0.0, 0.0, 0.0, 0.0, 0.0], [0.13062261044979095, 0.029238136485219002, 0.02056247554719448, 0.024924924597144127, 0.026433365419507027, 0.02088005095720291, 0.016895076259970665, 0.020366206765174866, 0.030794672667980194, 0.016811517998576164, 0.014352641999721527, 0.026399677619338036, 0.017968153581023216, 0.03419143334031105, 0.02579362690448761, 0.020880071446299553, 0.02998332493007183, 0.022576836869120598, 0.031984008848667145, 0.0387752503156662, 0.04729926958680153, 0.03951811417937279, 0.03569554537534714, 0.04647782817482948, 0.04560371860861778, 0.027694012969732285, 0.028376279398798943, 0.029506992548704147, 0.033888161182403564, 0.0655059963464737, 0.0, 0.0, 0.0, 0.0, 0.0], [0.10399014502763748, 0.021966150030493736, 0.016451168805360794, 0.022787991911172867, 0.024357160553336143, 0.01997542195022106, 0.013678603805601597, 0.020524615421891212, 0.026416650041937828, 0.01582499034702778, 0.018124759197235107, 0.02293805405497551, 0.015249834395945072, 0.02995176427066326, 0.019568637013435364, 0.017790071666240692, 0.026331376284360886, 0.020062383264303207, 0.030405661091208458, 0.05837801471352577, 0.04746948182582855, 0.03560005873441696, 0.03361857309937477, 0.0390516072511673, 0.046234600245952606, 0.03415835276246071, 0.05063633248209953, 0.0330495648086071, 0.04132759943604469, 0.06007477268576622, 0.03400559350848198, 0.0, 0.0, 0.0, 0.0], [0.10689456015825272, 0.02342521958053112, 0.018311120569705963, 0.02227620780467987, 0.019986258819699287, 0.018345659598708153, 0.015893498435616493, 0.019802754744887352, 0.025829359889030457, 0.016079481691122055, 0.016656847670674324, 0.025818217545747757, 0.012892837636172771, 0.029111450538039207, 0.020739205181598663, 0.017621520906686783, 0.02965444140136242, 0.024281155318021774, 0.028045879676938057, 0.052053939551115036, 0.04263104870915413, 0.03251810371875763, 0.03738032281398773, 0.038434360176324844, 0.03982122987508774, 0.026290131732821465, 0.035206388682127, 0.031386326998472214, 0.032823435962200165, 0.061947017908096313, 0.037625446915626526, 0.04021657630801201, 0.0, 0.0, 0.0], [0.12229020148515701, 0.025168998166918755, 0.01671406999230385, 0.02203325740993023, 0.02300073578953743, 0.015408717095851898, 0.014958001673221588, 0.018676770851016045, 0.026191167533397675, 0.012370298616588116, 0.010715775191783905, 0.02163190394639969, 0.013984639197587967, 0.028899209573864937, 0.02320098876953125, 0.01821661926805973, 0.02428123541176319, 0.018235331401228905, 0.02165396697819233, 0.036337438970804214, 0.03855650871992111, 0.03691944107413292, 0.03379228711128235, 0.04258827865123749, 0.03839157521724701, 0.02329576201736927, 0.03080526553094387, 0.02449331060051918, 0.03010578267276287, 0.056526072323322296, 0.03756684437394142, 0.04159916192293167, 0.051390353590250015, 0.0, 0.0], [0.13871711492538452, 0.021967247128486633, 0.016682978719472885, 0.021551378071308136, 0.026049228385090828, 0.015379131771624088, 0.012522304430603981, 0.02002521976828575, 0.02187984623014927, 0.014553075656294823, 0.015628239139914513, 0.01828858256340027, 0.012421739287674427, 0.023633422330021858, 0.01722068153321743, 0.02009168267250061, 0.020151857286691666, 0.018530184403061867, 0.024212492629885674, 0.07234080135822296, 0.034239377826452255, 0.030147042125463486, 0.031458836048841476, 0.030202966183423996, 0.030948730185627937, 0.024833213537931442, 0.030743267387151718, 0.022636577486991882, 0.04456690326333046, 0.04173137992620468, 0.02892466075718403, 0.029865320771932602, 0.04288143292069435, 0.024973047897219658, 0.0], [0.12327979505062103, 0.026707448065280914, 0.01483471505343914, 0.018021510913968086, 0.017764994874596596, 0.013351650908589363, 0.014073798432946205, 0.018723031505942345, 0.023980092257261276, 0.021256310865283012, 0.017004819586873055, 0.020616669207811356, 0.012905541807413101, 0.02609744668006897, 0.021554263308644295, 0.015845784917473793, 0.02278091572225094, 0.023595377802848816, 0.019861740991473198, 0.021922385320067406, 0.03597114235162735, 0.03369681537151337, 0.021171661093831062, 0.035360537469387054, 0.03450924903154373, 0.021897653117775917, 0.035124264657497406, 0.02411290816962719, 0.03299052640795708, 0.04677634313702583, 0.0304244551807642, 0.032703183591365814, 0.03790725767612457, 0.04262493923306465, 0.04055076837539673]], [[1.0, 0.0, 0.0, 0.0, 0.0, 0.0, 0.0, 0.0, 0.0, 0.0, 0.0, 0.0, 0.0, 0.0, 0.0, 0.0, 0.0, 0.0, 0.0, 0.0, 0.0, 0.0, 0.0, 0.0, 0.0, 0.0, 0.0, 0.0, 0.0, 0.0, 0.0, 0.0, 0.0, 0.0, 0.0], [0.6533873081207275, 0.34661269187927246, 0.0, 0.0, 0.0, 0.0, 0.0, 0.0, 0.0, 0.0, 0.0, 0.0, 0.0, 0.0, 0.0, 0.0, 0.0, 0.0, 0.0, 0.0, 0.0, 0.0, 0.0, 0.0, 0.0, 0.0, 0.0, 0.0, 0.0, 0.0, 0.0, 0.0, 0.0, 0.0, 0.0], [0.44511154294013977, 0.3337683081626892, 0.22112007439136505, 0.0, 0.0, 0.0, 0.0, 0.0, 0.0, 0.0, 0.0, 0.0, 0.0, 0.0, 0.0, 0.0, 0.0, 0.0, 0.0, 0.0, 0.0, 0.0, 0.0, 0.0, 0.0, 0.0, 0.0, 0.0, 0.0, 0.0, 0.0, 0.0, 0.0, 0.0, 0.0], [0.5459807515144348, 0.15291078388690948, 0.0764545425772667, 0.2246539294719696, 0.0, 0.0, 0.0, 0.0, 0.0, 0.0, 0.0, 0.0, 0.0, 0.0, 0.0, 0.0, 0.0, 0.0, 0.0, 0.0, 0.0, 0.0, 0.0, 0.0, 0.0, 0.0, 0.0, 0.0, 0.0, 0.0, 0.0, 0.0, 0.0, 0.0, 0.0], [0.42720288038253784, 0.1412525475025177, 0.06143970414996147, 0.1197998896241188, 0.2503049075603485, 0.0, 0.0, 0.0, 0.0, 0.0, 0.0, 0.0, 0.0, 0.0, 0.0, 0.0, 0.0, 0.0, 0.0, 0.0, 0.0, 0.0, 0.0, 0.0, 0.0, 0.0, 0.0, 0.0, 0.0, 0.0, 0.0, 0.0, 0.0, 0.0, 0.0], [0.40979304909706116, 0.11732907593250275, 0.06548824161291122, 0.12367464601993561, 0.0422237254679203, 0.24149127304553986, 0.0, 0.0, 0.0, 0.0, 0.0, 0.0, 0.0, 0.0, 0.0, 0.0, 0.0, 0.0, 0.0, 0.0, 0.0, 0.0, 0.0, 0.0, 0.0, 0.0, 0.0, 0.0, 0.0, 0.0, 0.0, 0.0, 0.0, 0.0, 0.0], [0.36435142159461975, 0.15547122061252594, 0.08527877926826477, 0.0883261039853096, 0.04993734508752823, 0.03409624844789505, 0.22253888845443726, 0.0, 0.0, 0.0, 0.0, 0.0, 0.0, 0.0, 0.0, 0.0, 0.0, 0.0, 0.0, 0.0, 0.0, 0.0, 0.0, 0.0, 0.0, 0.0, 0.0, 0.0, 0.0, 0.0, 0.0, 0.0, 0.0, 0.0, 0.0], [0.35626861453056335, 0.09063339233398438, 0.05006815493106842, 0.10755758732557297, 0.06895481050014496, 0.046696096658706665, 0.040975313633680344, 0.2388460487127304, 0.0, 0.0, 0.0, 0.0, 0.0, 0.0, 0.0, 0.0, 0.0, 0.0, 0.0, 0.0, 0.0, 0.0, 0.0, 0.0, 0.0, 0.0, 0.0, 0.0, 0.0, 0.0, 0.0, 0.0, 0.0, 0.0, 0.0], [0.3461388647556305, 0.1456225961446762, 0.09470634907484055, 0.1049964427947998, 0.06400176137685776, 0.04047239199280739, 0.037579216063022614, 0.044482167810201645, 0.12200022488832474, 0.0, 0.0, 0.0, 0.0, 0.0, 0.0, 0.0, 0.0, 0.0, 0.0, 0.0, 0.0, 0.0, 0.0, 0.0, 0.0, 0.0, 0.0, 0.0, 0.0, 0.0, 0.0, 0.0, 0.0, 0.0, 0.0], [0.20510226488113403, 0.048243165016174316, 0.051570817828178406, 0.09953969717025757, 0.06673120707273483, 0.04558689147233963, 0.036483921110630035, 0.08169861137866974, 0.08583588153123856, 0.2792075574398041, 0.0, 0.0, 0.0, 0.0, 0.0, 0.0, 0.0, 0.0, 0.0, 0.0, 0.0, 0.0, 0.0, 0.0, 0.0, 0.0, 0.0, 0.0, 0.0, 0.0, 0.0, 0.0, 0.0, 0.0, 0.0], [0.23016951978206635, 0.07576318085193634, 0.062430284917354584, 0.0619683600962162, 0.05024823918938637, 0.03796260803937912, 0.05770515277981758, 0.05617326870560646, 0.06585754454135895, 0.041665587574243546, 0.2600562572479248, 0.0, 0.0, 0.0, 0.0, 0.0, 0.0, 0.0, 0.0, 0.0, 0.0, 0.0, 0.0, 0.0, 0.0, 0.0, 0.0, 0.0, 0.0, 0.0, 0.0, 0.0, 0.0, 0.0, 0.0], [0.2668822407722473, 0.0996926799416542, 0.06880498677492142, 0.10110107064247131, 0.036257680505514145, 0.048760294914245605, 0.0317954383790493, 0.03426745906472206, 0.09192277491092682, 0.04406017065048218, 0.024279993027448654, 0.152175173163414, 0.0, 0.0, 0.0, 0.0, 0.0, 0.0, 0.0, 0.0, 0.0, 0.0, 0.0, 0.0, 0.0, 0.0, 0.0, 0.0, 0.0, 0.0, 0.0, 0.0, 0.0, 0.0, 0.0], [0.24808596074581146, 0.059437572956085205, 0.03645307198166847, 0.09643886983394623, 0.04665255546569824, 0.04358062520623207, 0.026409681886434555, 0.038718484342098236, 0.06937102973461151, 0.0355321541428566, 0.02358422800898552, 0.05824920907616615, 0.21748657524585724, 0.0, 0.0, 0.0, 0.0, 0.0, 0.0, 0.0, 0.0, 0.0, 0.0, 0.0, 0.0, 0.0, 0.0, 0.0, 0.0, 0.0, 0.0, 0.0, 0.0, 0.0, 0.0], [0.22227585315704346, 0.08784300833940506, 0.06428327411413193, 0.07245951145887375, 0.05153008922934532, 0.03354166820645332, 0.03151150047779083, 0.04395980015397072, 0.10531802475452423, 0.03629286214709282, 0.03349635377526283, 0.07923728227615356, 0.03496609628200531, 0.10328467935323715, 0.0, 0.0, 0.0, 0.0, 0.0, 0.0, 0.0, 0.0, 0.0, 0.0, 0.0, 0.0, 0.0, 0.0, 0.0, 0.0, 0.0, 0.0, 0.0, 0.0, 0.0], [0.26255401968955994, 0.07451014965772629, 0.04962189868092537, 0.0651395320892334, 0.022182416170835495, 0.03923412784934044, 0.021433908492326736, 0.028292490169405937, 0.06496232002973557, 0.022169629111886024, 0.018070975318551064, 0.05796553194522858, 0.018188010901212692, 0.06176505610346794, 0.19390994310379028, 0.0, 0.0, 0.0, 0.0, 0.0, 0.0, 0.0, 0.0, 0.0, 0.0, 0.0, 0.0, 0.0, 0.0, 0.0, 0.0, 0.0, 0.0, 0.0, 0.0], [0.21454612910747528, 0.052079539746046066, 0.04338601976633072, 0.051086749881505966, 0.02305705100297928, 0.03987296670675278, 0.021457551047205925, 0.0431031733751297, 0.057124000042676926, 0.04732411354780197, 0.020076347514986992, 0.04863850399851799, 0.03173767775297165, 0.05389070138335228, 0.03922811895608902, 0.21339136362075806, 0.0, 0.0, 0.0, 0.0, 0.0, 0.0, 0.0, 0.0, 0.0, 0.0, 0.0, 0.0, 0.0, 0.0, 0.0, 0.0, 0.0, 0.0, 0.0], [0.1693464070558548, 0.057584747672080994, 0.04318230226635933, 0.06501620262861252, 0.02576971799135208, 0.035840604454278946, 0.023403938859701157, 0.028633082285523415, 0.06884390860795975, 0.03735613077878952, 0.02107931859791279, 0.12265527993440628, 0.025184907019138336, 0.07096558064222336, 0.049235545098781586, 0.02845790795981884, 0.12744443118572235, 0.0, 0.0, 0.0, 0.0, 0.0, 0.0, 0.0, 0.0, 0.0, 0.0, 0.0, 0.0, 0.0, 0.0, 0.0, 0.0, 0.0, 0.0], [0.1294490545988083, 0.04351517930626869, 0.0287073515355587, 0.04557256028056145, 0.021282194182276726, 0.01988535374403, 0.028857698664069176, 0.03478112444281578, 0.0553259551525116, 0.030885057523846626, 0.02108754590153694, 0.06504065543413162, 0.040431585162878036, 0.05797603353857994, 0.04136980324983597, 0.028544073924422264, 0.06784921884536743, 0.23943953216075897, 0.0, 0.0, 0.0, 0.0, 0.0, 0.0, 0.0, 0.0, 0.0, 0.0, 0.0, 0.0, 0.0, 0.0, 0.0, 0.0, 0.0], [0.14163608849048615, 0.035789649933576584, 0.0283652376383543, 0.04538756236433983, 0.04637840390205383, 0.03978871554136276, 0.014343789778649807, 0.049597978591918945, 0.04732620343565941, 0.030782444402575493, 0.018412161618471146, 0.04871036484837532, 0.023401634767651558, 0.04745563119649887, 0.03751208633184433, 0.02378270775079727, 0.048940639942884445, 0.03379068151116371, 0.2385980635881424, 0.0, 0.0, 0.0, 0.0, 0.0, 0.0, 0.0, 0.0, 0.0, 0.0, 0.0, 0.0, 0.0, 0.0, 0.0, 0.0], [0.13350322842597961, 0.03222054988145828, 0.020588895305991173, 0.03780217468738556, 0.04108010604977608, 0.036710940301418304, 0.025954414159059525, 0.041366398334503174, 0.04326571151614189, 0.03009646385908127, 0.02681291103363037, 0.04010695591568947, 0.024385903030633926, 0.04430919513106346, 0.0337374284863472, 0.02071092464029789, 0.04079744219779968, 0.03265015780925751, 0.03506242483854294, 0.25883781909942627, 0.0, 0.0, 0.0, 0.0, 0.0, 0.0, 0.0, 0.0, 0.0, 0.0, 0.0, 0.0, 0.0, 0.0, 0.0], [0.11974349617958069, 0.03914883732795715, 0.02895655669271946, 0.033427074551582336, 0.037695929408073425, 0.02054389752447605, 0.017558960244059563, 0.0326584093272686, 0.06372418999671936, 0.033101920038461685, 0.02986794151365757, 0.053869184106588364, 0.022512974217534065, 0.07236674427986145, 0.04143425449728966, 0.03790142387151718, 0.06002623960375786, 0.04586019739508629, 0.050910960882902145, 0.031955886632204056, 0.1267348974943161, 0.0, 0.0, 0.0, 0.0, 0.0, 0.0, 0.0, 0.0, 0.0, 0.0, 0.0, 0.0, 0.0, 0.0], [0.11878617107868195, 0.03957203030586243, 0.023222969844937325, 0.05364080145955086, 0.03261677920818329, 0.01737094856798649, 0.011663904413580894, 0.016273822635412216, 0.05014302581548691, 0.01326026115566492, 0.010486901737749577, 0.03813209384679794, 0.041936688125133514, 0.05336222052574158, 0.030979985371232033, 0.019617727026343346, 0.04024156183004379, 0.03244159743189812, 0.020540129393339157, 0.026845509186387062, 0.057711098343133926, 0.25115373730659485, 0.0, 0.0, 0.0, 0.0, 0.0, 0.0, 0.0, 0.0, 0.0, 0.0, 0.0, 0.0, 0.0], [0.10596498101949692, 0.03639821708202362, 0.023730650544166565, 0.027703450992703438, 0.02952033467590809, 0.016958508640527725, 0.009277223609387875, 0.019281188026070595, 0.04353449493646622, 0.025435714051127434, 0.01544105727225542, 0.0416172556579113, 0.018472323194146156, 0.046173419803380966, 0.026975229382514954, 0.016877301037311554, 0.0436592772603035, 0.020190222188830376, 0.018645789474248886, 0.016359703615307808, 0.057034824043512344, 0.06433957815170288, 0.27640920877456665, 0.0, 0.0, 0.0, 0.0, 0.0, 0.0, 0.0, 0.0, 0.0, 0.0, 0.0, 0.0], [0.08669392019510269, 0.14005149900913239, 0.05404341593384743, 0.026910433545708656, 0.02693350985646248, 0.016936616972088814, 0.01752723753452301, 0.011132634244859219, 0.033167172223329544, 0.009116586297750473, 0.014021693728864193, 0.028125261887907982, 0.012107599526643753, 0.03627435863018036, 0.03099164180457592, 0.015099079348146915, 0.03022145666182041, 0.02081548608839512, 0.018955029547214508, 0.021182598546147346, 0.04364987835288048, 0.04377346858382225, 0.025040630251169205, 0.23722875118255615, 0.0, 0.0, 0.0, 0.0, 0.0, 0.0, 0.0, 0.0, 0.0, 0.0, 0.0], [0.1050545871257782, 0.02472284995019436, 0.023438582196831703, 0.024256456643342972, 0.021477704867720604, 0.014111106283962727, 0.012018011882901192, 0.015707308426499367, 0.04219583421945572, 0.016803361475467682, 0.011159352958202362, 0.031271807849407196, 0.02032068930566311, 0.04702334105968475, 0.039886780083179474, 0.025853369385004044, 0.03450958803296089, 0.02452259510755539, 0.017594218254089355, 0.021597158163785934, 0.06303169578313828, 0.05036986619234085, 0.02654913067817688, 0.040915295481681824, 0.24560922384262085, 0.0, 0.0, 0.0, 0.0, 0.0, 0.0, 0.0, 0.0, 0.0, 0.0], [0.07146884500980377, 0.015683099627494812, 0.019199557602405548, 0.02765510417521, 0.025888733565807343, 0.011495738290250301, 0.013834545388817787, 0.02500625140964985, 0.03285751864314079, 0.04069041088223457, 0.019407067447900772, 0.03628278151154518, 0.02667134813964367, 0.036988452076911926, 0.025391345843672752, 0.012203285470604897, 0.04081624746322632, 0.022441424429416656, 0.018680067732930183, 0.03714069351553917, 0.05291352421045303, 0.033748988062143326, 0.03600706532597542, 0.0273960642516613, 0.04157793149352074, 0.24855394661426544, 0.0, 0.0, 0.0, 0.0, 0.0, 0.0, 0.0, 0.0, 0.0], [0.09520060569047928, 0.023399099707603455, 0.016249950975179672, 0.03728703036904335, 0.027069469913840294, 0.024426203221082687, 0.01691671647131443, 0.02051924727857113, 0.03561446815729141, 0.0172467902302742, 0.016965173184871674, 0.03067062795162201, 0.014761799946427345, 0.037838954478502274, 0.025590207427740097, 0.013281547464430332, 0.03275728598237038, 0.01698147878050804, 0.012912828475236893, 0.040966760367155075, 0.04452374577522278, 0.03288855031132698, 0.021862007677555084, 0.028905067592859268, 0.02522219903767109, 0.015681952238082886, 0.2742602527141571, 0.0, 0.0, 0.0, 0.0, 0.0, 0.0, 0.0, 0.0], [0.07106205821037292, 0.022234497591853142, 0.015442527830600739, 0.02880682796239853, 0.02491171285510063, 0.014096674509346485, 0.01092530693858862, 0.02235645428299904, 0.028251033276319504, 0.02592524327337742, 0.012314550578594208, 0.036213621497154236, 0.017662769183516502, 0.031407058238983154, 0.01859503798186779, 0.018171414732933044, 0.040066659450531006, 0.022728297859430313, 0.02500053308904171, 0.04014962539076805, 0.042498040944337845, 0.026281602680683136, 0.023634906858205795, 0.030348241329193115, 0.028446592390537262, 0.04931708797812462, 0.045332685112953186, 0.22781895101070404, 0.0, 0.0, 0.0, 0.0, 0.0, 0.0, 0.0], [0.11998685449361801, 0.03201313316822052, 0.020363764837384224, 0.03192231431603432, 0.020111484453082085, 0.017741894349455833, 0.014963150024414062, 0.014099689200520515, 0.032360270619392395, 0.012826560065150261, 0.019204221665859222, 0.024741899222135544, 0.014775943011045456, 0.03365084156394005, 0.03285077586770058, 0.015633024275302887, 0.026330986991524696, 0.009946915321052074, 0.010015268810093403, 0.023254679515957832, 0.03898429498076439, 0.034919410943984985, 0.011989151127636433, 0.030530881136655807, 0.02381373755633831, 0.0189790241420269, 0.06846079975366592, 0.019141538068652153, 0.22638750076293945, 0.0, 0.0, 0.0, 0.0, 0.0, 0.0], [0.0711139515042305, 0.0230450127273798, 0.01740783266723156, 0.02557775191962719, 0.01881728135049343, 0.014406663365662098, 0.011364503763616085, 0.019742924720048904, 0.0378037765622139, 0.017498359084129333, 0.012214535847306252, 0.0347118005156517, 0.016245106235146523, 0.044948264956474304, 0.03146103769540787, 0.017976269125938416, 0.04077501595020294, 0.026232009753584862, 0.029104551300406456, 0.032863155007362366, 0.06312330067157745, 0.03996739163994789, 0.03193744271993637, 0.05005761608481407, 0.050039853900671005, 0.02629847638309002, 0.04067576676607132, 0.03425349295139313, 0.03361441567540169, 0.0867224931716919, 0.0, 0.0, 0.0, 0.0, 0.0], [0.06342677026987076, 0.018928568810224533, 0.015915192663669586, 0.022974476218223572, 0.01581357792019844, 0.011996149085462093, 0.006959729827940464, 0.01044058334082365, 0.027604447677731514, 0.014203771948814392, 0.011755010113120079, 0.02697419933974743, 0.015696225687861443, 0.03244095295667648, 0.02146400883793831, 0.016300220042467117, 0.0315910242497921, 0.01829562522470951, 0.024074891582131386, 0.018299629911780357, 0.04905860871076584, 0.03294462338089943, 0.03169502690434456, 0.04070065915584564, 0.05526787042617798, 0.032283999025821686, 0.01833721064031124, 0.020621923729777336, 0.02061566896736622, 0.061421554535627365, 0.21189774572849274, 0.0, 0.0, 0.0, 0.0], [0.05903122201561928, 0.011650343425571918, 0.011906313709914684, 0.02030511572957039, 0.01582454703748226, 0.01134263165295124, 0.012165091000497341, 0.02051454968750477, 0.02463514171540737, 0.01787753775715828, 0.008976954035460949, 0.027097541838884354, 0.010151371359825134, 0.029500093311071396, 0.022961728274822235, 0.011527126654982567, 0.03249187767505646, 0.020219072699546814, 0.02027125470340252, 0.02760496735572815, 0.04230693355202675, 0.022920364513993263, 0.02739839442074299, 0.024839362129569054, 0.028419984504580498, 0.04172161966562271, 0.0314212329685688, 0.03520329296588898, 0.030631236732006073, 0.060064759105443954, 0.04537738487124443, 0.19364091753959656, 0.0, 0.0, 0.0], [0.08590573817491531, 0.014704115688800812, 0.01051056943833828, 0.028699837625026703, 0.016654491424560547, 0.012795393355190754, 0.00923528429120779, 0.014819215051829815, 0.028232717886567116, 0.011867670342326164, 0.009268177673220634, 0.023044347763061523, 0.017553269863128662, 0.03295404091477394, 0.025013739243149757, 0.012247500009834766, 0.026799563318490982, 0.013326537795364857, 0.016479836776852608, 0.03472821041941643, 0.03980801999568939, 0.05067338049411774, 0.030861176550388336, 0.027551840990781784, 0.03616422787308693, 0.017406120896339417, 0.047160591930150986, 0.025891844183206558, 0.02839728072285652, 0.06047137454152107, 0.03584858775138855, 0.03886667266488075, 0.11605862528085709, 0.0, 0.0], [0.056707724928855896, 0.01524327602237463, 0.009892581030726433, 0.017495421692728996, 0.03529244288802147, 0.015370243228971958, 0.01074774656444788, 0.01709159091114998, 0.02124500647187233, 0.01306450366973877, 0.0063941157422959805, 0.021768182516098022, 0.011015364900231361, 0.023290835320949554, 0.020971013233065605, 0.012346651405096054, 0.024119654670357704, 0.013815038837492466, 0.016820494085550308, 0.0345151424407959, 0.030974792316555977, 0.032177552580833435, 0.03227026388049126, 0.02327035740017891, 0.027259420603513718, 0.01785033755004406, 0.05776429921388626, 0.02427157200872898, 0.025243021547794342, 0.03774580731987953, 0.015895813703536987, 0.02659657783806324, 0.04215160384774208, 0.2093215137720108, 0.0], [0.04736970365047455, 0.013491551391780376, 0.008601199835538864, 0.011534372344613075, 0.032609522342681885, 0.008750018663704395, 0.01049541775137186, 0.015973467379808426, 0.02422492206096649, 0.013959746807813644, 0.011584172956645489, 0.020906992256641388, 0.01231019664555788, 0.028499379754066467, 0.014403226785361767, 0.011428196914494038, 0.024424541741609573, 0.021284056827425957, 0.027576275169849396, 0.025762217119336128, 0.04914954677224159, 0.02154945582151413, 0.02072589099407196, 0.030232444405555725, 0.04683734476566315, 0.021722478792071342, 0.020257214084267616, 0.019149545580148697, 0.010533902794122696, 0.05002592131495476, 0.030405579134821892, 0.02281223237514496, 0.029462477192282677, 0.03996318206191063, 0.20198358595371246]], [[1.0, 0.0, 0.0, 0.0, 0.0, 0.0, 0.0, 0.0, 0.0, 0.0, 0.0, 0.0, 0.0, 0.0, 0.0, 0.0, 0.0, 0.0, 0.0, 0.0, 0.0, 0.0, 0.0, 0.0, 0.0, 0.0, 0.0, 0.0, 0.0, 0.0, 0.0, 0.0, 0.0, 0.0, 0.0], [0.8253121972084045, 0.17468774318695068, 0.0, 0.0, 0.0, 0.0, 0.0, 0.0, 0.0, 0.0, 0.0, 0.0, 0.0, 0.0, 0.0, 0.0, 0.0, 0.0, 0.0, 0.0, 0.0, 0.0, 0.0, 0.0, 0.0, 0.0, 0.0, 0.0, 0.0, 0.0, 0.0, 0.0, 0.0, 0.0, 0.0], [0.7580503821372986, 0.13029679656028748, 0.1116529032588005, 0.0, 0.0, 0.0, 0.0, 0.0, 0.0, 0.0, 0.0, 0.0, 0.0, 0.0, 0.0, 0.0, 0.0, 0.0, 0.0, 0.0, 0.0, 0.0, 0.0, 0.0, 0.0, 0.0, 0.0, 0.0, 0.0, 0.0, 0.0, 0.0, 0.0, 0.0, 0.0], [0.7232240438461304, 0.0827442929148674, 0.07870827615261078, 0.11532338708639145, 0.0, 0.0, 0.0, 0.0, 0.0, 0.0, 0.0, 0.0, 0.0, 0.0, 0.0, 0.0, 0.0, 0.0, 0.0, 0.0, 0.0, 0.0, 0.0, 0.0, 0.0, 0.0, 0.0, 0.0, 0.0, 0.0, 0.0, 0.0, 0.0, 0.0, 0.0], [0.5594541430473328, 0.08694440871477127, 0.09115548431873322, 0.09393443167209625, 0.1685115545988083, 0.0, 0.0, 0.0, 0.0, 0.0, 0.0, 0.0, 0.0, 0.0, 0.0, 0.0, 0.0, 0.0, 0.0, 0.0, 0.0, 0.0, 0.0, 0.0, 0.0, 0.0, 0.0, 0.0, 0.0, 0.0, 0.0, 0.0, 0.0, 0.0, 0.0], [0.5031396746635437, 0.08192654699087143, 0.05872315540909767, 0.10480903834104538, 0.15214203298091888, 0.09925954788923264, 0.0, 0.0, 0.0, 0.0, 0.0, 0.0, 0.0, 0.0, 0.0, 0.0, 0.0, 0.0, 0.0, 0.0, 0.0, 0.0, 0.0, 0.0, 0.0, 0.0, 0.0, 0.0, 0.0, 0.0, 0.0, 0.0, 0.0, 0.0, 0.0], [0.5279609560966492, 0.058259762823581696, 0.0683659017086029, 0.11652136594057083, 0.11039458960294724, 0.06918034702539444, 0.04931704327464104, 0.0, 0.0, 0.0, 0.0, 0.0, 0.0, 0.0, 0.0, 0.0, 0.0, 0.0, 0.0, 0.0, 0.0, 0.0, 0.0, 0.0, 0.0, 0.0, 0.0, 0.0, 0.0, 0.0, 0.0, 0.0, 0.0, 0.0, 0.0], [0.30010083317756653, 0.08826002478599548, 0.058349285274744034, 0.10984238237142563, 0.1686263084411621, 0.12896902859210968, 0.023227620869874954, 0.12262456864118576, 0.0, 0.0, 0.0, 0.0, 0.0, 0.0, 0.0, 0.0, 0.0, 0.0, 0.0, 0.0, 0.0, 0.0, 0.0, 0.0, 0.0, 0.0, 0.0, 0.0, 0.0, 0.0, 0.0, 0.0, 0.0, 0.0, 0.0], [0.3934404253959656, 0.04758616164326668, 0.05194966867566109, 0.07471578568220139, 0.11950993537902832, 0.05938037484884262, 0.023368611931800842, 0.10266406089067459, 0.1273850053548813, 0.0, 0.0, 0.0, 0.0, 0.0, 0.0, 0.0, 0.0, 0.0, 0.0, 0.0, 0.0, 0.0, 0.0, 0.0, 0.0, 0.0, 0.0, 0.0, 0.0, 0.0, 0.0, 0.0, 0.0, 0.0, 0.0], [0.3446024954319, 0.05032901093363762, 0.059913285076618195, 0.0448312982916832, 0.1573815494775772, 0.06782466173171997, 0.03229009732604027, 0.07052528858184814, 0.08953902870416641, 0.08276324719190598, 0.0, 0.0, 0.0, 0.0, 0.0, 0.0, 0.0, 0.0, 0.0, 0.0, 0.0, 0.0, 0.0, 0.0, 0.0, 0.0, 0.0, 0.0, 0.0, 0.0, 0.0, 0.0, 0.0, 0.0, 0.0], [0.33508482575416565, 0.04627000913023949, 0.04785763844847679, 0.10917427390813828, 0.04435235634446144, 0.04490724951028824, 0.02844385989010334, 0.07920621335506439, 0.10731328278779984, 0.06832481920719147, 0.08906551450490952, 0.0, 0.0, 0.0, 0.0, 0.0, 0.0, 0.0, 0.0, 0.0, 0.0, 0.0, 0.0, 0.0, 0.0, 0.0, 0.0, 0.0, 0.0, 0.0, 0.0, 0.0, 0.0, 0.0, 0.0], [0.31157219409942627, 0.03927762061357498, 0.03521273657679558, 0.0755099505186081, 0.08078575879335403, 0.04503689706325531, 0.028806505724787712, 0.10218675434589386, 0.08797678351402283, 0.05585259944200516, 0.0857192799448967, 0.0520629957318306, 0.0, 0.0, 0.0, 0.0, 0.0, 0.0, 0.0, 0.0, 0.0, 0.0, 0.0, 0.0, 0.0, 0.0, 0.0, 0.0, 0.0, 0.0, 0.0, 0.0, 0.0, 0.0, 0.0], [0.3614695072174072, 0.06311225891113281, 0.026989927515387535, 0.07095802575349808, 0.03985174000263214, 0.029446521773934364, 0.022796353325247765, 0.07072698324918747, 0.11304393410682678, 0.03335519880056381, 0.03714418038725853, 0.047639429569244385, 0.08346597850322723, 0.0, 0.0, 0.0, 0.0, 0.0, 0.0, 0.0, 0.0, 0.0, 0.0, 0.0, 0.0, 0.0, 0.0, 0.0, 0.0, 0.0, 0.0, 0.0, 0.0, 0.0, 0.0], [0.26885920763015747, 0.032650742679834366, 0.039381880313158035, 0.05081145837903023, 0.08684231340885162, 0.04310201108455658, 0.017922360450029373, 0.06655362993478775, 0.07785408198833466, 0.04528900235891342, 0.06586872786283493, 0.0460660420358181, 0.07721766829490662, 0.08158092200756073, 0.0, 0.0, 0.0, 0.0, 0.0, 0.0, 0.0, 0.0, 0.0, 0.0, 0.0, 0.0, 0.0, 0.0, 0.0, 0.0, 0.0, 0.0, 0.0, 0.0, 0.0], [0.20790530741214752, 0.030814683064818382, 0.02946297824382782, 0.05067423731088638, 0.08743476122617722, 0.04770585522055626, 0.027333185076713562, 0.09152107685804367, 0.0521414577960968, 0.047082461416721344, 0.08081994950771332, 0.05453275144100189, 0.12074840068817139, 0.05516168847680092, 0.01666121371090412, 0.0, 0.0, 0.0, 0.0, 0.0, 0.0, 0.0, 0.0, 0.0, 0.0, 0.0, 0.0, 0.0, 0.0, 0.0, 0.0, 0.0, 0.0, 0.0, 0.0], [0.19932863116264343, 0.04206708073616028, 0.05715768784284592, 0.07193328440189362, 0.05065881088376045, 0.03152455762028694, 0.02713680826127529, 0.04140905663371086, 0.0932227149605751, 0.052022069692611694, 0.025422828271985054, 0.05927914008498192, 0.06613777577877045, 0.0958227664232254, 0.031632158905267715, 0.05524466559290886, 0.0, 0.0, 0.0, 0.0, 0.0, 0.0, 0.0, 0.0, 0.0, 0.0, 0.0, 0.0, 0.0, 0.0, 0.0, 0.0, 0.0, 0.0, 0.0], [0.23719792068004608, 0.030675819143652916, 0.029208483174443245, 0.058212410658597946, 0.06082988157868385, 0.034956105053424835, 0.024440517649054527, 0.07084918767213821, 0.05983855947852135, 0.03970346227288246, 0.05932591110467911, 0.036752380430698395, 0.07694029062986374, 0.06171644479036331, 0.014049725607037544, 0.06745626032352448, 0.03784662485122681, 0.0, 0.0, 0.0, 0.0, 0.0, 0.0, 0.0, 0.0, 0.0, 0.0, 0.0, 0.0, 0.0, 0.0, 0.0, 0.0, 0.0, 0.0], [0.2499532550573349, 0.026629487052559853, 0.03931758925318718, 0.04463213309645653, 0.07087577879428864, 0.03409421443939209, 0.02126503922045231, 0.05726420134305954, 0.051796626299619675, 0.035039857029914856, 0.0439227819442749, 0.03922875598073006, 0.061559148132801056, 0.051224235445261, 0.015611973591148853, 0.08278115838766098, 0.0389174222946167, 0.03588635474443436, 0.0, 0.0, 0.0, 0.0, 0.0, 0.0, 0.0, 0.0, 0.0, 0.0, 0.0, 0.0, 0.0, 0.0, 0.0, 0.0, 0.0], [0.22269795835018158, 0.02651812508702278, 0.03978954255580902, 0.027604002505540848, 0.08196069300174713, 0.03582964837551117, 0.015378967858850956, 0.06874661892652512, 0.05343088135123253, 0.05469818040728569, 0.057215701788663864, 0.031615279614925385, 0.03717072680592537, 0.052282966673374176, 0.01185118779540062, 0.0720609575510025, 0.03087828867137432, 0.024411164224147797, 0.05585915595293045, 0.0, 0.0, 0.0, 0.0, 0.0, 0.0, 0.0, 0.0, 0.0, 0.0, 0.0, 0.0, 0.0, 0.0, 0.0, 0.0], [0.07419288158416748, 0.050927020609378815, 0.028230959549546242, 0.03420006111264229, 0.03361425921320915, 0.05182219296693802, 0.009658373892307281, 0.04940614849328995, 0.09883320331573486, 0.05356482416391373, 0.02458186261355877, 0.05879184231162071, 0.013026799075305462, 0.10889022052288055, 0.015677114948630333, 0.04766634479165077, 0.06507277488708496, 0.03886169567704201, 0.039842620491981506, 0.10313879698514938, 0.0, 0.0, 0.0, 0.0, 0.0, 0.0, 0.0, 0.0, 0.0, 0.0, 0.0, 0.0, 0.0, 0.0, 0.0], [0.22614890336990356, 0.025769885629415512, 0.033361684530973434, 0.04034487530589104, 0.06116843223571777, 0.03166026994585991, 0.023036977276206017, 0.048158254474401474, 0.04964131489396095, 0.02570328302681446, 0.05132422223687172, 0.029225803911685944, 0.04627237096428871, 0.04679548367857933, 0.010471493005752563, 0.04346738010644913, 0.027977747842669487, 0.03356106951832771, 0.03209923952817917, 0.05562404543161392, 0.05818726122379303, 0.0, 0.0, 0.0, 0.0, 0.0, 0.0, 0.0, 0.0, 0.0, 0.0, 0.0, 0.0, 0.0, 0.0], [0.19442985951900482, 0.020005803555250168, 0.025669973343610764, 0.02761007659137249, 0.07351988554000854, 0.025118578225374222, 0.016428442671895027, 0.054433662444353104, 0.044502679258584976, 0.022272862493991852, 0.0293312706053257, 0.030642636120319366, 0.06286598742008209, 0.043391671031713486, 0.010215999558568, 0.09763478487730026, 0.029601415619254112, 0.02808045782148838, 0.037571631371974945, 0.05037400498986244, 0.06089741364121437, 0.015400809235870838, 0.0, 0.0, 0.0, 0.0, 0.0, 0.0, 0.0, 0.0, 0.0, 0.0, 0.0, 0.0, 0.0], [0.19766589999198914, 0.04115750268101692, 0.03360118716955185, 0.023870177567005157, 0.06633446365594864, 0.02801697887480259, 0.01958293654024601, 0.0517856739461422, 0.03159146383404732, 0.02653615176677704, 0.04164314270019531, 0.025757964700460434, 0.04328408092260361, 0.0299394391477108, 0.012750309891998768, 0.056069131940603256, 0.0246773362159729, 0.021505912765860558, 0.04559294506907463, 0.07480882108211517, 0.04433406516909599, 0.02199736423790455, 0.03749702870845795, 0.0, 0.0, 0.0, 0.0, 0.0, 0.0, 0.0, 0.0, 0.0, 0.0, 0.0, 0.0], [0.1804356873035431, 0.023349838331341743, 0.023929739370942116, 0.04454166442155838, 0.040705934166908264, 0.03654097020626068, 0.0166165828704834, 0.05323559418320656, 0.05028393492102623, 0.025846896693110466, 0.046051669865846634, 0.024920541793107986, 0.03976092115044594, 0.04893423989415169, 0.012390014715492725, 0.06191658228635788, 0.02396533265709877, 0.02875448204576969, 0.025095412507653236, 0.06865917146205902, 0.07357669621706009, 0.01804691180586815, 0.02280074916779995, 0.009640371426939964, 0.0, 0.0, 0.0, 0.0, 0.0, 0.0, 0.0, 0.0, 0.0, 0.0, 0.0], [0.2424635887145996, 0.024696454405784607, 0.03868827596306801, 0.03357229754328728, 0.054766181856393814, 0.033804673701524734, 0.020721612498164177, 0.03275463357567787, 0.04349979758262634, 0.018562646582722664, 0.036468472331762314, 0.031002487987279892, 0.03862547501921654, 0.03993181511759758, 0.010727159678936005, 0.03831768035888672, 0.029280299320816994, 0.02467813342809677, 0.02788931503891945, 0.04502156749367714, 0.04307599365711212, 0.016905834898352623, 0.023586302995681763, 0.007298626005649567, 0.04366062954068184, 0.0, 0.0, 0.0, 0.0, 0.0, 0.0, 0.0, 0.0, 0.0, 0.0], [0.1111128032207489, 0.029458774253726006, 0.024559462442994118, 0.030902516096830368, 0.0338648185133934, 0.03363066166639328, 0.0128314308822155, 0.030669288709759712, 0.06390532851219177, 0.023481518030166626, 0.025704607367515564, 0.03766980022192001, 0.016167862340807915, 0.06660738587379456, 0.017231762409210205, 0.030658666044473648, 0.039240460842847824, 0.024295227602124214, 0.026388799771666527, 0.05864028260111809, 0.10666141659021378, 0.0176238976418972, 0.024245452135801315, 0.018279606476426125, 0.03675020486116409, 0.05941798910498619, 0.0, 0.0, 0.0, 0.0, 0.0, 0.0, 0.0, 0.0, 0.0], [0.1785520762205124, 0.043738722801208496, 0.027772290632128716, 0.03288250416517258, 0.08083146810531616, 0.036148540675640106, 0.019438138231635094, 0.036047156900167465, 0.03154062479734421, 0.022283846512436867, 0.02674207091331482, 0.020272957161068916, 0.04929490387439728, 0.028057046234607697, 0.010035548359155655, 0.02821899950504303, 0.018526609987020493, 0.025377945974469185, 0.03921227902173996, 0.05273988097906113, 0.02473510056734085, 0.028674783185124397, 0.02940601296722889, 0.013893159106373787, 0.017606468871235847, 0.05648736283183098, 0.02148348279297352, 0.0, 0.0, 0.0, 0.0, 0.0, 0.0, 0.0, 0.0], [0.15546511113643646, 0.0491693876683712, 0.024515939876437187, 0.025700528174638748, 0.054831311106681824, 0.042092740535736084, 0.011645039543509483, 0.06493962556123734, 0.03121974691748619, 0.026562782004475594, 0.028326844796538353, 0.01828904263675213, 0.03490862250328064, 0.02966099977493286, 0.008558595553040504, 0.046650491654872894, 0.017669817432761192, 0.023724371567368507, 0.019038738682866096, 0.07715762406587601, 0.02730739675462246, 0.019747750833630562, 0.02436411939561367, 0.014429952949285507, 0.01892835833132267, 0.05850561335682869, 0.024364048615098, 0.02222544141113758, 0.0, 0.0, 0.0, 0.0, 0.0, 0.0, 0.0], [0.19332921504974365, 0.026298340409994125, 0.030392471700906754, 0.02961188554763794, 0.045201625674963, 0.03307906538248062, 0.021840764209628105, 0.026594161987304688, 0.04538283497095108, 0.03843942657113075, 0.026915384456515312, 0.024535104632377625, 0.015795715153217316, 0.04036761820316315, 0.010634273290634155, 0.02634548209607601, 0.02240978740155697, 0.019946042448282242, 0.04401851072907448, 0.06709349155426025, 0.033454738557338715, 0.01608494482934475, 0.025615880265831947, 0.011409513652324677, 0.013623232021927834, 0.040554918348789215, 0.01666298322379589, 0.03589887544512749, 0.01846371404826641, 0.0, 0.0, 0.0, 0.0, 0.0, 0.0], [0.15965193510055542, 0.018642345443367958, 0.026677709072828293, 0.028047839179635048, 0.04907773807644844, 0.0260456632822752, 0.01780771277844906, 0.03679424896836281, 0.04596944898366928, 0.01911088638007641, 0.037963204085826874, 0.027620621025562286, 0.028341038152575493, 0.04296436905860901, 0.008847592398524284, 0.03253019601106644, 0.02565997838973999, 0.02448510378599167, 0.029966218397021294, 0.04054069519042969, 0.042335040867328644, 0.017694557085633278, 0.021217698231339455, 0.006380947772413492, 0.031033921986818314, 0.03557971119880676, 0.025066182017326355, 0.026607492938637733, 0.02430844120681286, 0.04303152114152908, 0.0, 0.0, 0.0, 0.0, 0.0], [0.1966170370578766, 0.019791387021541595, 0.033033326268196106, 0.025687070563435555, 0.042206060141325, 0.03137582913041115, 0.01624363102018833, 0.030698416754603386, 0.03629425913095474, 0.026839351281523705, 0.026712186634540558, 0.023046307265758514, 0.021950097754597664, 0.03344837203621864, 0.010305730625987053, 0.022743649780750275, 0.02148079127073288, 0.021094733849167824, 0.03149039298295975, 0.03692729026079178, 0.03723211586475372, 0.015421999618411064, 0.019252344965934753, 0.007320489268749952, 0.024766921997070312, 0.0443916916847229, 0.019850723445415497, 0.026133660227060318, 0.01812445931136608, 0.04270906001329422, 0.03681057319045067, 0.0, 0.0, 0.0, 0.0], [0.16313204169273376, 0.02293248288333416, 0.029583683237433434, 0.028615491464734077, 0.03778465464711189, 0.02651870809495449, 0.026229016482830048, 0.03103414922952652, 0.03483206406235695, 0.01897561363875866, 0.03320292755961418, 0.026435935869812965, 0.032307375222444534, 0.0313292033970356, 0.011727877892553806, 0.027169136330485344, 0.024106506258249283, 0.022620314732193947, 0.02575555630028248, 0.03801415488123894, 0.03207404166460037, 0.017354248091578484, 0.017987215891480446, 0.009293682873249054, 0.04247136786580086, 0.031215853989124298, 0.019006583839654922, 0.021523455157876015, 0.0175411906093359, 0.040145184844732285, 0.01816076971590519, 0.040919505059719086, 0.0, 0.0, 0.0], [0.15803848206996918, 0.01682882010936737, 0.02064237929880619, 0.04538251832127571, 0.04664170742034912, 0.027835233137011528, 0.020206499844789505, 0.04211508855223656, 0.03703448921442032, 0.01774459518492222, 0.030353322625160217, 0.024713633581995964, 0.03428488224744797, 0.033413708209991455, 0.00908216554671526, 0.03521375358104706, 0.022280117496848106, 0.020850006490945816, 0.027390209957957268, 0.032314617186784744, 0.03764922171831131, 0.014920796267688274, 0.01655367575585842, 0.006309079471975565, 0.023218728601932526, 0.0279498640447855, 0.023832246661186218, 0.015323556959629059, 0.017670491710305214, 0.02681525982916355, 0.022188859060406685, 0.02869456075131893, 0.036507368087768555, 0.0, 0.0], [0.17019405961036682, 0.032125912606716156, 0.02987009286880493, 0.01961558870971203, 0.05489378795027733, 0.036220598965883255, 0.0171522106975317, 0.0323265865445137, 0.0315006785094738, 0.02962452918291092, 0.029094273224473, 0.016624264419078827, 0.02998979203402996, 0.02761412039399147, 0.010949766263365746, 0.034366533160209656, 0.014830099418759346, 0.015176071785390377, 0.030502911657094955, 0.041597459465265274, 0.02064121700823307, 0.01704123057425022, 0.026175444945693016, 0.010538818314671516, 0.007441796828061342, 0.034391358494758606, 0.02607710286974907, 0.029615655541419983, 0.013693026266992092, 0.018074287101626396, 0.033748507499694824, 0.0290025994181633, 0.013117281720042229, 0.016172286123037338, 0.0], [0.11417391896247864, 0.016700686886906624, 0.02357623726129532, 0.03235283121466637, 0.05511363223195076, 0.029616661369800568, 0.017176374793052673, 0.05952787399291992, 0.038434240967035294, 0.020421102643013, 0.03235999122262001, 0.019217438995838165, 0.01913510262966156, 0.03519752249121666, 0.010996292345225811, 0.04401443898677826, 0.016835946589708328, 0.01621249131858349, 0.023840541020035744, 0.04231661558151245, 0.03716840595006943, 0.009007316082715988, 0.015979530289769173, 0.005828786175698042, 0.02082641050219536, 0.028255822136998177, 0.031605903059244156, 0.024252017959952354, 0.02328527718782425, 0.019917480647563934, 0.02455977164208889, 0.02195737510919571, 0.01319314818829298, 0.020208800211548805, 0.036734022200107574]]]}\n",
       "    )\n",
       "    </script>"
      ],
      "text/plain": [
       "<circuitsvis.utils.render.RenderedHTML at 0x7f94180f4f40>"
      ]
     },
     "metadata": {},
     "output_type": "display_data"
    }
   ],
   "source": [
    "import circuitsvis as cv\n",
    "from IPython.display import display\n",
    "\n",
    "html = cv.attention.attention_patterns(\n",
    "    tokens=reference_gpt2.to_str_tokens(reference_text), \n",
    "    attention=cache[\"pattern\", 0][0]\n",
    ")\n",
    "display(html)"
   ]
  },
  {
   "cell_type": "code",
   "execution_count": 22,
   "metadata": {},
   "outputs": [
    {
     "name": "stdout",
     "output_type": "stream",
     "text": [
      "Input shape: torch.Size([2, 4, 768])\n",
      "Output shape: torch.Size([2, 4, 768]) \n",
      "\n",
      "Input shape: torch.Size([1, 35, 768])\n",
      "Output shape: torch.Size([1, 35, 768])\n",
      "Reference output shape: torch.Size([1, 35, 768]) \n",
      "\n",
      "100.00% of the values are correct\n",
      "\n"
     ]
    }
   ],
   "source": [
    "class Attention(nn.Module):\n",
    "    IGNORE: Float[Tensor, \"\"]\n",
    "\n",
    "    def __init__(self, cfg: Config):\n",
    "        super().__init__()\n",
    "        self.cfg = cfg\n",
    "        self.W_Q = nn.Parameter(t.empty((cfg.n_heads, cfg.d_model, cfg.d_head)))\n",
    "        self.W_K = nn.Parameter(t.empty((cfg.n_heads, cfg.d_model, cfg.d_head)))\n",
    "        self.W_V = nn.Parameter(t.empty((cfg.n_heads, cfg.d_model, cfg.d_head)))\n",
    "        self.W_O = nn.Parameter(t.empty((cfg.n_heads, cfg.d_head, cfg.d_model)))\n",
    "        self.b_Q = nn.Parameter(t.zeros((cfg.n_heads, cfg.d_head)))\n",
    "        self.b_K = nn.Parameter(t.zeros((cfg.n_heads, cfg.d_head)))\n",
    "        self.b_V = nn.Parameter(t.zeros((cfg.n_heads, cfg.d_head)))\n",
    "        self.b_O = nn.Parameter(t.zeros((cfg.d_model)))\n",
    "        nn.init.normal_(self.W_Q, std=self.cfg.init_range)\n",
    "        nn.init.normal_(self.W_K, std=self.cfg.init_range)\n",
    "        nn.init.normal_(self.W_V, std=self.cfg.init_range)\n",
    "        nn.init.normal_(self.W_O, std=self.cfg.init_range)\n",
    "        self.register_buffer(\"IGNORE\", t.tensor(-1e5, dtype=t.float32, device=device))\n",
    "\n",
    "    def forward(\n",
    "        self, normalized_resid_pre: Float[Tensor, \"batch posn d_model\"]\n",
    "    ) -> Float[Tensor, \"batch posn d_model\"]:\n",
    "\n",
    "        # Compute key, query and value        \n",
    "        key = einops.einsum(self.W_K, normalized_resid_pre, \"n d h, b s d -> b s n h\") + self.b_K\n",
    "        query = einops.einsum(self.W_Q, normalized_resid_pre, \"n d h, b s d -> b s n h\") + self.b_Q\n",
    "        value = einops.einsum(self.W_V, normalized_resid_pre, \"n d h, b s d -> b s n h\") + self.b_V\n",
    "\n",
    "        # Compute the attention scores\n",
    "        keyquery = einops.einsum(key, query, \"b sk n h, b sq n h -> b n sq sk\")\n",
    "        attention_scores = self.apply_causal_mask(keyquery)/(self.cfg.d_head ** 0.5)\n",
    "\n",
    "        # Compute attention through softmax and scaling\n",
    "        A = attention_scores.softmax(-1)\n",
    "\n",
    "        # Attention adjusted scores \n",
    "        z = einops.einsum(A, value, \"b n sq sk, b sk n h -> b sq n h\")\n",
    "\n",
    "        # Output vals \n",
    "        out = einops.einsum(self.W_O, z, \"n h e, b sq n h -> b sq n e\") \n",
    "        out = einops.reduce(out, \"b sq n e -> b sq e\", \"sum\")\n",
    "        out = out + self.b_O\n",
    "\n",
    "        return out\n",
    "\n",
    "        \n",
    "\n",
    "\n",
    "\n",
    "    def apply_causal_mask(\n",
    "        self, attn_scores: Float[Tensor, \"batch n_heads query_pos key_pos\"]\n",
    "    ) -> Float[Tensor, \"batch n_heads query_pos key_pos\"]:\n",
    "        '''\n",
    "        Applies a causal mask to attention scores, and returns masked scores.\n",
    "        '''\n",
    "\n",
    "        mask = t.ones_like(attn_scores)\n",
    "        mask = t.triu(mask, diagonal=1)\n",
    "        mask = mask == 1\n",
    "        return attn_scores.masked_fill(mask, self.IGNORE)\n",
    "\n",
    "\n",
    "rand_float_test(Attention, [2, 4, 768])\n",
    "load_gpt2_test(Attention, reference_gpt2.blocks[0].attn, cache[\"normalized\", 0, \"ln1\"])"
   ]
  },
  {
   "cell_type": "markdown",
   "metadata": {},
   "source": [
    "# MLP"
   ]
  },
  {
   "cell_type": "code",
   "execution_count": 23,
   "metadata": {},
   "outputs": [
    {
     "name": "stdout",
     "output_type": "stream",
     "text": [
      "Input shape: torch.Size([2, 4, 768])\n",
      "Output shape: torch.Size([2, 4, 768]) \n",
      "\n",
      "Input shape: torch.Size([1, 35, 768])\n",
      "Output shape: torch.Size([1, 35, 768])\n",
      "Reference output shape: torch.Size([1, 35, 768]) \n",
      "\n",
      "100.00% of the values are correct\n",
      "\n"
     ]
    }
   ],
   "source": [
    "class MLP(nn.Module):\n",
    "    def __init__(self, cfg: Config):\n",
    "        super().__init__()\n",
    "        self.cfg = cfg\n",
    "        self.W_in = nn.Parameter(t.empty((cfg.d_model, cfg.d_mlp)))\n",
    "        self.W_out = nn.Parameter(t.empty((cfg.d_mlp, cfg.d_model)))\n",
    "        self.b_in = nn.Parameter(t.zeros((cfg.d_mlp)))\n",
    "        self.b_out = nn.Parameter(t.zeros((cfg.d_model)))\n",
    "        nn.init.normal_(self.W_in, std=self.cfg.init_range)\n",
    "        nn.init.normal_(self.W_out, std=self.cfg.init_range)\n",
    "\n",
    "    def forward(\n",
    "        self, normalized_resid_mid: Float[Tensor, \"batch posn d_model\"]\n",
    "    ) -> Float[Tensor, \"batch posn d_model\"]:\n",
    "        \n",
    "        hidden = einops.einsum(normalized_resid_mid, self.W_in, \"batch posn d_model, d_model d_mlp -> batch posn d_mlp\") + self.b_in\n",
    "        hidden = gelu_new(hidden)\n",
    "        out = einops.einsum(self.W_out, hidden, \"d_mlp d_model, batch posn d_mlp -> batch posn d_model\") + self.b_out\n",
    "\n",
    "        return out\n",
    "\n",
    "\n",
    "\n",
    "rand_float_test(MLP, [2, 4, 768])\n",
    "load_gpt2_test(MLP, reference_gpt2.blocks[0].mlp, cache[\"normalized\", 0, \"ln2\"])"
   ]
  },
  {
   "cell_type": "markdown",
   "metadata": {},
   "source": [
    "# Transformer Block"
   ]
  },
  {
   "cell_type": "code",
   "execution_count": 24,
   "metadata": {},
   "outputs": [
    {
     "name": "stdout",
     "output_type": "stream",
     "text": [
      "Input shape: torch.Size([2, 4, 768])\n",
      "Output shape: torch.Size([2, 4, 768]) \n",
      "\n",
      "Input shape: torch.Size([1, 35, 768])\n",
      "Output shape: torch.Size([1, 35, 768])\n",
      "Reference output shape: torch.Size([1, 35, 768]) \n",
      "\n",
      "100.00% of the values are correct\n",
      "\n"
     ]
    }
   ],
   "source": [
    "class TransformerBlock(nn.Module):\n",
    "    def __init__(self, cfg: Config):\n",
    "        super().__init__()\n",
    "        self.cfg = cfg\n",
    "        self.ln1 = LayerNorm(cfg)\n",
    "        self.attn = Attention(cfg)\n",
    "        self.ln2 = LayerNorm(cfg)\n",
    "        self.mlp = MLP(cfg)\n",
    "\n",
    "    def forward(\n",
    "        self, resid_pre: Float[Tensor, \"batch position d_model\"]\n",
    "    ) -> Float[Tensor, \"batch position d_model\"]:\n",
    "        \n",
    "        # resid_mid = self.attn(self.ln1(resid_pre)) + resid_pre\n",
    "        # resid_post = self.mlp(self.ln2(resid_mid)) + resid_mid\n",
    "\n",
    "        resid_mid = self.attn(self.ln1(resid_pre)) + resid_pre\n",
    "        resid_post = self.mlp(self.ln2(resid_mid)) + resid_mid\n",
    "\n",
    "\n",
    "        return resid_post\n",
    "\n",
    "\n",
    "rand_float_test(TransformerBlock, [2, 4, 768])\n",
    "load_gpt2_test(TransformerBlock, reference_gpt2.blocks[0], cache[\"resid_pre\", 0])"
   ]
  },
  {
   "cell_type": "markdown",
   "metadata": {},
   "source": [
    "# Unembedding"
   ]
  },
  {
   "cell_type": "code",
   "execution_count": 25,
   "metadata": {},
   "outputs": [
    {
     "name": "stdout",
     "output_type": "stream",
     "text": [
      "Input shape: torch.Size([2, 4, 768])\n",
      "Output shape: torch.Size([2, 4, 50257]) \n",
      "\n",
      "Input shape: torch.Size([1, 35, 768])\n",
      "Output shape: torch.Size([1, 35, 50257])\n",
      "Reference output shape: torch.Size([1, 35, 50257]) \n",
      "\n",
      "100.00% of the values are correct\n",
      "\n"
     ]
    }
   ],
   "source": [
    "class Unembed(nn.Module):\n",
    "    def __init__(self, cfg):\n",
    "        super().__init__()\n",
    "        self.cfg = cfg\n",
    "        self.W_U = nn.Parameter(t.empty((cfg.d_model, cfg.d_vocab)))\n",
    "        nn.init.normal_(self.W_U, std=self.cfg.init_range)\n",
    "        self.b_U = nn.Parameter(t.zeros((cfg.d_vocab), requires_grad=False))\n",
    "\n",
    "    def forward(\n",
    "        self, normalized_resid_final: Float[Tensor, \"batch position d_model\"]\n",
    "    ) -> Float[Tensor, \"batch position d_vocab\"]:\n",
    "        \n",
    "        out = einops.einsum(self.W_U, normalized_resid_final, \"d_model d_vocab, batch position d_model -> batch position d_vocab\") + self.b_U\n",
    "\n",
    "        return out \n",
    "    \n",
    "\n",
    "rand_float_test(Unembed, [2, 4, 768])\n",
    "load_gpt2_test(Unembed, reference_gpt2.unembed, cache[\"ln_final.hook_normalized\"])"
   ]
  },
  {
   "cell_type": "markdown",
   "metadata": {},
   "source": [
    "# Full Transformer"
   ]
  },
  {
   "cell_type": "code",
   "execution_count": 26,
   "metadata": {},
   "outputs": [
    {
     "name": "stdout",
     "output_type": "stream",
     "text": [
      "Input shape: torch.Size([2, 4])\n",
      "Output shape: torch.Size([2, 4, 50257]) \n",
      "\n",
      "Input shape: torch.Size([1, 45])\n",
      "Output shape: torch.Size([1, 45, 50257])\n",
      "Reference output shape: torch.Size([1, 45, 50257]) \n",
      "\n",
      "100.00% of the values are correct\n",
      "\n"
     ]
    }
   ],
   "source": [
    "class DemoTransformer(nn.Module):\n",
    "    def __init__(self, cfg: Config):\n",
    "        super().__init__()\n",
    "        self.cfg = cfg\n",
    "        self.embed = Embed(cfg)\n",
    "        self.pos_embed = PosEmbed(cfg)\n",
    "        self.blocks = nn.ModuleList([TransformerBlock(cfg) for _ in range(cfg.n_layers)])\n",
    "        self.ln_final = LayerNorm(cfg)\n",
    "        self.unembed = Unembed(cfg)\n",
    "\n",
    "    def forward(self, tokens: Int[Tensor, \"batch position\"]) -> Float[Tensor, \"batch position d_vocab\"]:\n",
    "\n",
    "        x = self.embed(tokens) + self.pos_embed(tokens)        \n",
    "\n",
    "        for block in self.blocks:\n",
    "\n",
    "            x = block(x)\n",
    "        \n",
    "        x = self.ln_final(x)\n",
    "        x = self.unembed(x)\n",
    "\n",
    "        return x\n",
    "\n",
    "\n",
    "\n",
    "rand_int_test(DemoTransformer, [2, 4])\n",
    "load_gpt2_test(DemoTransformer, reference_gpt2, tokens)"
   ]
  },
  {
   "cell_type": "code",
   "execution_count": 27,
   "metadata": {},
   "outputs": [],
   "source": [
    "demo_gpt2 = DemoTransformer(Config(debug=False)).to(device)\n",
    "demo_gpt2.load_state_dict(reference_gpt2.state_dict(), strict=False)\n",
    "\n",
    "demo_logits = demo_gpt2(tokens)"
   ]
  },
  {
   "cell_type": "code",
   "execution_count": 37,
   "metadata": {},
   "outputs": [
    {
     "data": {
      "text/plain": [
       "tensor([-43.4317, -39.8364, -43.0660,  ..., -54.0877, -54.3452, -42.3644],\n",
       "       device='cuda:0', grad_fn=<SelectBackward0>)"
      ]
     },
     "execution_count": 37,
     "metadata": {},
     "output_type": "execute_result"
    }
   ],
   "source": [
    "demo_logits[0][0]"
   ]
  },
  {
   "cell_type": "code",
   "execution_count": 28,
   "metadata": {},
   "outputs": [
    {
     "name": "stdout",
     "output_type": "stream",
     "text": [
      "Avg cross entropy loss: 4.0441\n",
      "Avg cross entropy loss for uniform distribution: 10.824905\n",
      "Avg probability assigned to correct token: 0.098628\n"
     ]
    }
   ],
   "source": [
    "def get_log_probs(\n",
    "    logits: Float[Tensor, \"batch posn d_vocab\"], \n",
    "    tokens: Int[Tensor, \"batch posn\"]\n",
    ") -> Float[Tensor, \"batch posn-1\"]:\n",
    "\n",
    "    log_probs = logits.log_softmax(dim=-1)\n",
    "    # Get logprobs the first seq_len-1 predictions (so we can compare them with the actual next tokens)\n",
    "    log_probs_for_tokens = log_probs[:, :-1].gather(dim=-1, index=tokens[:, 1:].unsqueeze(-1)).squeeze(-1)\n",
    "\n",
    "    return log_probs_for_tokens\n",
    "\n",
    "\n",
    "pred_log_probs = get_log_probs(demo_logits, tokens)\n",
    "print(f\"Avg cross entropy loss: {-pred_log_probs.mean():.4f}\")\n",
    "print(f\"Avg cross entropy loss for uniform distribution: {math.log(demo_gpt2.cfg.d_vocab):4f}\")\n",
    "print(f\"Avg probability assigned to correct token: {pred_log_probs.exp().mean():4f}\")"
   ]
  },
  {
   "cell_type": "code",
   "execution_count": 29,
   "metadata": {},
   "outputs": [
    {
     "data": {
      "application/vnd.jupyter.widget-view+json": {
       "model_id": "c3e9c9fd19b14b39a8e8e0f2a82d0442",
       "version_major": 2,
       "version_minor": 0
      },
      "text/plain": [
       "  0%|          | 0/100 [00:00<?, ?it/s]"
      ]
     },
     "metadata": {},
     "output_type": "display_data"
    },
    {
     "name": "stdout",
     "output_type": "stream",
     "text": [
      "The Total Perspective Vortex derives its picture of the whole Universe on the principle of the total perspective. The total perspective is the view of the whole Universe from the point of view of the observer. The total perspective is the view of the whole Universe from the point of view of the observer. The total perspective is the view of the whole Universe from the point of view of the observer. The total perspective is the view of the whole Universe from the point of view of the observer. The total perspective is the view of the whole Universe from the point of view of the observer. The\n"
     ]
    }
   ],
   "source": [
    "test_string = '''The Total Perspective Vortex derives its picture of the whole Universe on the principle of'''\n",
    "for i in tqdm(range(100)):\n",
    "    test_tokens = reference_gpt2.to_tokens(test_string).to(device)\n",
    "    demo_logits = demo_gpt2(test_tokens)\n",
    "    test_string += reference_gpt2.tokenizer.decode(demo_logits[-1, -1].argmax())\n",
    "\n",
    "print(test_string)"
   ]
  },
  {
   "cell_type": "markdown",
   "metadata": {},
   "source": [
    "# Model Training"
   ]
  },
  {
   "cell_type": "code",
   "execution_count": 30,
   "metadata": {},
   "outputs": [],
   "source": [
    "model_cfg = Config(\n",
    "    debug=False, \n",
    "    d_model=256, \n",
    "    n_heads=4, \n",
    "    d_head=64, \n",
    "    d_mlp=1024, \n",
    "    n_layers=2, \n",
    "    n_ctx=256, \n",
    "    d_vocab=reference_gpt2.cfg.d_vocab\n",
    ")\n",
    "model = DemoTransformer(model_cfg)\n"
   ]
  },
  {
   "cell_type": "code",
   "execution_count": 38,
   "metadata": {},
   "outputs": [],
   "source": [
    "@dataclass\n",
    "class TransformerTrainingArgs():\n",
    "    batch_size = 16\n",
    "    epochs = 10\n",
    "    max_steps_per_epoch = 200\n",
    "    lr = 1e-3\n",
    "    weight_decay = 1e-2\n",
    "    wandb_project: Optional[str] = \"day1-demotransformer\"\n",
    "    wandb_name: Optional[str] = None\n",
    "\n",
    "\n",
    "args = TransformerTrainingArgs()"
   ]
  },
  {
   "cell_type": "code",
   "execution_count": 39,
   "metadata": {},
   "outputs": [
    {
     "name": "stdout",
     "output_type": "stream",
     "text": [
      "Dataset({\n",
      "    features: ['text'],\n",
      "    num_rows: 10000\n",
      "})\n",
      "It is done, and submitted. You can play “Survival of the Tastiest” on Android, and on the web. Playi\n"
     ]
    }
   ],
   "source": [
    "dataset = datasets.load_dataset(\"NeelNanda/pile-10k\", split=\"train\").remove_columns(\"meta\")\n",
    "print(dataset)\n",
    "print(dataset[0]['text'][:100])"
   ]
  },
  {
   "cell_type": "code",
   "execution_count": 40,
   "metadata": {},
   "outputs": [],
   "source": [
    "tokenized_dataset = tokenize_and_concatenate(dataset, reference_gpt2.tokenizer, streaming=False, max_length=model.cfg.n_ctx, column_name=\"text\", add_bos_token=True, num_proc=4)\n",
    "\n",
    "dataset_dict = tokenized_dataset.train_test_split(test_size=1000)\n",
    "train_loader = DataLoader(dataset_dict[\"train\"], batch_size=args.batch_size, shuffle=True, num_workers=4, pin_memory=True)\n",
    "test_loader = DataLoader(dataset_dict[\"test\"], batch_size=args.batch_size, shuffle=False, num_workers=4, pin_memory=True)"
   ]
  },
  {
   "cell_type": "code",
   "execution_count": 41,
   "metadata": {},
   "outputs": [
    {
     "name": "stdout",
     "output_type": "stream",
     "text": [
      "dict_keys(['tokens'])\n",
      "torch.Size([16, 256])\n"
     ]
    }
   ],
   "source": [
    "first_batch = train_loader.dataset[:args.batch_size]\n",
    "\n",
    "print(first_batch.keys())\n",
    "print(first_batch['tokens'].shape)"
   ]
  },
  {
   "cell_type": "code",
   "execution_count": null,
   "metadata": {},
   "outputs": [],
   "source": [
    "class TransformerTrainer:\n",
    "\tdef __init__(self, args: TransformerTrainingArgs, model: DemoTransformer):\n",
    "\t\tsuper().__init__()\n",
    "\t\tself.model = model\n",
    "\t\tself.args = args\n",
    "\t\tself.optimizer = t.optim.AdamW(self.model.parameters(), lr=args.lr, weight_decay=args.weight_decay)\n",
    "\t\tself.step = 0\n",
    "\n",
    "\n",
    "\n",
    "\tdef training_step(self, batch: Dict[str, Int[Tensor, \"batch seq\"]]) -> Float[Tensor, \"\"]:\n",
    "\t\t'''\n",
    "\t\tCalculates the loss on the tokens in the batch, performs a gradient update step, and logs the loss.\n",
    "\n",
    "\t\tRemember that `batch` is a dictionary with the single key 'tokens'.\n",
    "\t\t'''\n",
    "\t\t\n",
    "        # Forward pass through the model\n",
    "\t\ttokens = batch[\"tokens\"].to(device)\n",
    "\t\tout = self.model.forward(tokens)\n",
    "\n",
    "\t\t# Compute Loss \n",
    "\t\tlog_probs = out.softmax(dim = -1)\n",
    "\t\tloss = -log_probs[:, :-1].gather(dim = -1, index = tokens[:, 1:].unsqueeze(-1)).squeeze(-1).mean()\n",
    "\n",
    "\t\t# Backprop\n",
    "\t\tloss.backward()\n",
    "\t\tself.optimizer.step()\n",
    "\t\tself.optimizer.zero_grad()\n",
    "\n",
    "\t\twandb.log({\"train_loss\": loss}, step=self.step)\n",
    "\t\tself.step+=1\n",
    "\n",
    "\t\treturn loss\n",
    "\n",
    "\n",
    "\tdef validation_step(self, batch: Dict[str, Int[Tensor, \"batch seq\"]]):\n",
    "\t\t'''\n",
    "\t\tCalculates & returns the accuracy on the tokens in the batch (i.e. how often the model's prediction\n",
    "\t\tis correct). Logging should happen in the `train` function (after we've computed the accuracy for \n",
    "\t\tthe whole validation set).\n",
    "\t\t'''\n",
    "\n",
    "\t\ttokens = batch[\"tokens\"].to(device)\n",
    "\t\tout = self.model.forward(tokens)[:, :-1]\n",
    "\t\tpredicted_tokens = out.argmax(dim = -1)\n",
    "\n",
    "\t\tcorrect_preds = (predicted_tokens == tokens[:, 1:]).flatten()\n",
    "\n",
    "\t\treturn correct_preds\n",
    "\n",
    "\n",
    "\n",
    "\n",
    "\tdef train(self):\n",
    "\t\t'''\n",
    "\t\tTrains the model, for `self.args.epochs` epochs. Also handles wandb initialisation, and early stopping\n",
    "\t\tfor each epoch at `self.args.max_steps_per_epoch` steps.\n",
    "\t\t'''\n",
    "\n",
    "\t\t# Wandb init \n",
    "\n",
    "        # YOUR CODE HERE\n",
    "\t\tpass\n",
    "\n",
    "\n",
    "\tdef train_loader(self) -> DataLoader:\n",
    "\t\t'''Returns train loader (as in code above).'''\n",
    "\t\treturn DataLoader(dataset_dict[\"train\"], batch_size=self.args.batch_size, shuffle=True, num_workers=4, pin_memory=True)\n",
    "\n",
    "\n",
    "\tdef test_loader(self) -> DataLoader:\n",
    "\t\t'''Returns test loader (as in code above).'''\n",
    "\t\treturn DataLoader(dataset_dict[\"test\"], batch_size=self.args.batch_size, shuffle=False, num_workers=4, pin_memory=True)"
   ]
  },
  {
   "cell_type": "code",
   "execution_count": null,
   "metadata": {},
   "outputs": [],
   "source": [
    "model_cfg = Config()\n",
    "model = DemoTransformer(model_cfg).to(device)\n",
    "model.load_state_dict(reference_gpt2.state_dict(), strict=False)\n",
    "\n",
    "tokenizer = reference_gpt2.tokenizer\n",
    "\n",
    "class TransformerSampler:\n",
    "\n",
    "    def __init__(self, model: DemoTransformer, tokenizer: GPT2TokenizerFast):\n",
    "        self.model = model\n",
    "        self.cfg = model.cfg\n",
    "        self.tokenizer = tokenizer\n",
    "\n",
    "    @t.inference_mode()\n",
    "    def sample(self, prompt: str, max_tokens_generated=100, verbose=False, **kwargs):\n",
    "        '''\n",
    "        Returns a string of autoregressively generated text, starting from the prompt.\n",
    "\n",
    "        Sampling terminates at max_tokens_generated, or when the model generates an\n",
    "        end-of-sequence token.\n",
    "\n",
    "        kwargs are passed to sample_next_token, to give detailed instructions on how \n",
    "        new tokens are chosen.\n",
    "        '''\n",
    "\n",
    "        tokens = self.tokenizer.encode(prompt)\n",
    "\n",
    "        if len(tokens) > 100:\n",
    "            return tokens[:100]\n",
    "\n",
    "        pass\n",
    "\n",
    "    @t.inference_mode()\n",
    "    def beam_search(\n",
    "        self,\n",
    "        prompt: str, \n",
    "        num_return_sequences: int, \n",
    "        num_beams: int, \n",
    "        max_new_tokens: int, \n",
    "        no_repeat_ngram_size: int = 0,\n",
    "        verbose=False\n",
    "    ) -> List[Tuple[float, t.Tensor]]:\n",
    "        '''\n",
    "        Returns a string of autoregressively generated text, starting from the prompt.\n",
    "\n",
    "        Sampling terminates at max_tokens_generated, or when the model generates an\n",
    "        end-of-sequence token.\n",
    "\n",
    "        kwargs are passed to sample_next_token, to give detailed instructions on how \n",
    "        new tokens are chosen.\n",
    "        '''\n",
    "        pass\n",
    "\n",
    "\n",
    "    @staticmethod\n",
    "    def sample_next_token(\n",
    "        input_ids: Int[Tensor, \"seq_len\"], \n",
    "        logits: Float[Tensor, \"seq_len d_vocab\"], \n",
    "        temperature=1.0, \n",
    "        top_k=0, \n",
    "        top_p=0.0, \n",
    "        frequency_penalty=0.0,\n",
    "        seed=None\n",
    "    ):\n",
    "        assert input_ids.ndim == 1, \"input_ids should be a 1D sequence of token ids\"\n",
    "        assert temperature >= 0, \"Temperature should be non-negative\"\n",
    "        assert 0 <= top_p <= 1.0, \"Top-p must be a probability\"\n",
    "        assert 0 <= top_k, \"Top-k must be non-negative\"\n",
    "        assert not (top_p != 0 and top_k != 0), \"At most one of top-p and top-k supported\"\n",
    "\n",
    "        # Set random seeds for reproducibility\n",
    "        if seed is not None:\n",
    "            t.manual_seed(seed)\n",
    "            np.random.seed(seed)\n",
    "\n",
    "        # Apply all the specialized sampling methods\n",
    "        if temperature == 0:\n",
    "            return TransformerSampler.greedy_search(logits)\n",
    "        elif temperature != 1.0:\n",
    "            logits = TransformerSampler.apply_temperature(logits, temperature)\n",
    "        if frequency_penalty != 0.0:\n",
    "            logits = TransformerSampler.apply_frequency_penalty(input_ids, logits, frequency_penalty)\n",
    "        if top_k > 0:\n",
    "            return TransformerSampler.sample_top_k(logits, top_k)\n",
    "        if top_p > 0.0:\n",
    "            return TransformerSampler.sample_top_p(logits, top_p)\n",
    "        return TransformerSampler.sample_basic(logits)\n",
    "\n",
    "\n",
    "    @staticmethod\n",
    "    def greedy_search(logits: Float[Tensor, \"d_vocab\"]) -> int:\n",
    "        '''\n",
    "        Returns the most likely token (as an int).\n",
    "        '''\n",
    "        out = logits.argmax().item()\n",
    "        return out\n",
    "\n",
    "\n",
    "    @staticmethod\n",
    "    def apply_temperature(logits: Float[Tensor, \"d_vocab\"], temperature: float) -> Float[Tensor, \"d_vocab\"]:\n",
    "        '''\n",
    "        Applies temperature scaling to the logits.\n",
    "        '''\n",
    "        pass\n",
    "\n",
    "    @staticmethod\n",
    "    def apply_frequency_penalty(input_ids: Int[Tensor, \"seq_len\"], logits: Float[Tensor, \"d_vocab\"], freq_penalty: float) -> Float[Tensor, \"d_vocab\"]:\n",
    "        '''\n",
    "        Applies a frequency penalty to the logits.\n",
    "        '''\n",
    "        pass\n",
    "\n",
    "    @staticmethod\n",
    "    def sample_basic(logits: Float[Tensor, \"d_vocab\"]) -> int:\n",
    "        '''\n",
    "        Samples from the distribution defined by the logits.\n",
    "        '''\n",
    "        pass\n",
    "\n",
    "    @staticmethod\n",
    "    def sample_top_k(logits: Float[Tensor, \"d_vocab\"], k: int) -> int:\n",
    "        '''\n",
    "        Samples from the top k most likely tokens.\n",
    "        '''\n",
    "        pass\n",
    "\n",
    "    @staticmethod\n",
    "    def sample_top_p(logits: Float[Tensor, \"d_vocab\"], top_p: float, min_tokens_to_keep: int = 1) -> int:\n",
    "        '''\n",
    "        Samples from the most likely tokens which make up at least p cumulative probability.\n",
    "        '''\n",
    "        pass"
   ]
  }
 ],
 "metadata": {
  "kernelspec": {
   "display_name": "arena",
   "language": "python",
   "name": "python3"
  },
  "language_info": {
   "codemirror_mode": {
    "name": "ipython",
    "version": 3
   },
   "file_extension": ".py",
   "mimetype": "text/x-python",
   "name": "python",
   "nbconvert_exporter": "python",
   "pygments_lexer": "ipython3",
   "version": "3.8.17"
  },
  "orig_nbformat": 4
 },
 "nbformat": 4,
 "nbformat_minor": 2
}
